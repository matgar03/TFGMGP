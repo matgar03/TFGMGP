{
 "cells": [
  {
   "cell_type": "code",
   "execution_count": 5,
   "metadata": {},
   "outputs": [],
   "source": [
    "import tensorflow as tf\n",
    "\n",
    "import keras\n",
    "from keras.models import Sequential\n",
    "from keras.layers.convolutional import Conv2D, MaxPooling2D\n",
    "from keras.layers import Dense, Activation, Dropout, Flatten,BatchNormalization\n",
    "\n",
    "from keras.constraints import maxnorm\n",
    "from keras.utils import np_utils\n",
    "from keras.preprocessing import image\n",
    "from keras.preprocessing.image import ImageDataGenerator\n",
    "import pandas as pd\n",
    "import numpy as np\n",
    "import matplotlib.pyplot as plt"
   ]
  },
  {
   "cell_type": "code",
   "execution_count": 6,
   "metadata": {},
   "outputs": [
    {
     "data": {
      "text/html": [
       "<div>\n",
       "<style scoped>\n",
       "    .dataframe tbody tr th:only-of-type {\n",
       "        vertical-align: middle;\n",
       "    }\n",
       "\n",
       "    .dataframe tbody tr th {\n",
       "        vertical-align: top;\n",
       "    }\n",
       "\n",
       "    .dataframe thead th {\n",
       "        text-align: right;\n",
       "    }\n",
       "</style>\n",
       "<table border=\"1\" class=\"dataframe\">\n",
       "  <thead>\n",
       "    <tr style=\"text-align: right;\">\n",
       "      <th></th>\n",
       "      <th>emocion</th>\n",
       "      <th>pixels</th>\n",
       "      <th>uso</th>\n",
       "    </tr>\n",
       "  </thead>\n",
       "  <tbody>\n",
       "    <tr>\n",
       "      <th>0</th>\n",
       "      <td>emotion</td>\n",
       "      <td>pixels</td>\n",
       "      <td>Usage</td>\n",
       "    </tr>\n",
       "    <tr>\n",
       "      <th>1</th>\n",
       "      <td>0</td>\n",
       "      <td>70 80 82 72 58 58 60 63 54 58 60 48 89 115 121...</td>\n",
       "      <td>Training</td>\n",
       "    </tr>\n",
       "    <tr>\n",
       "      <th>2</th>\n",
       "      <td>0</td>\n",
       "      <td>151 150 147 155 148 133 111 140 170 174 182 15...</td>\n",
       "      <td>Training</td>\n",
       "    </tr>\n",
       "    <tr>\n",
       "      <th>3</th>\n",
       "      <td>2</td>\n",
       "      <td>231 212 156 164 174 138 161 173 182 200 106 38...</td>\n",
       "      <td>Training</td>\n",
       "    </tr>\n",
       "    <tr>\n",
       "      <th>4</th>\n",
       "      <td>4</td>\n",
       "      <td>24 32 36 30 32 23 19 20 30 41 21 22 32 34 21 1...</td>\n",
       "      <td>Training</td>\n",
       "    </tr>\n",
       "    <tr>\n",
       "      <th>5</th>\n",
       "      <td>6</td>\n",
       "      <td>4 0 0 0 0 0 0 0 0 0 0 0 3 15 23 28 48 50 58 84...</td>\n",
       "      <td>Training</td>\n",
       "    </tr>\n",
       "    <tr>\n",
       "      <th>6</th>\n",
       "      <td>2</td>\n",
       "      <td>55 55 55 55 55 54 60 68 54 85 151 163 170 179 ...</td>\n",
       "      <td>Training</td>\n",
       "    </tr>\n",
       "    <tr>\n",
       "      <th>7</th>\n",
       "      <td>4</td>\n",
       "      <td>20 17 19 21 25 38 42 42 46 54 56 62 63 66 82 1...</td>\n",
       "      <td>Training</td>\n",
       "    </tr>\n",
       "    <tr>\n",
       "      <th>8</th>\n",
       "      <td>3</td>\n",
       "      <td>77 78 79 79 78 75 60 55 47 48 58 73 77 79 57 5...</td>\n",
       "      <td>Training</td>\n",
       "    </tr>\n",
       "    <tr>\n",
       "      <th>9</th>\n",
       "      <td>3</td>\n",
       "      <td>85 84 90 121 101 102 133 153 153 169 177 189 1...</td>\n",
       "      <td>Training</td>\n",
       "    </tr>\n",
       "  </tbody>\n",
       "</table>\n",
       "</div>"
      ],
      "text/plain": [
       "   emocion                                             pixels       uso\n",
       "0  emotion                                             pixels     Usage\n",
       "1        0  70 80 82 72 58 58 60 63 54 58 60 48 89 115 121...  Training\n",
       "2        0  151 150 147 155 148 133 111 140 170 174 182 15...  Training\n",
       "3        2  231 212 156 164 174 138 161 173 182 200 106 38...  Training\n",
       "4        4  24 32 36 30 32 23 19 20 30 41 21 22 32 34 21 1...  Training\n",
       "5        6  4 0 0 0 0 0 0 0 0 0 0 0 3 15 23 28 48 50 58 84...  Training\n",
       "6        2  55 55 55 55 55 54 60 68 54 85 151 163 170 179 ...  Training\n",
       "7        4  20 17 19 21 25 38 42 42 46 54 56 62 63 66 82 1...  Training\n",
       "8        3  77 78 79 79 78 75 60 55 47 48 58 73 77 79 57 5...  Training\n",
       "9        3  85 84 90 121 101 102 133 153 153 169 177 189 1...  Training"
      ]
     },
     "execution_count": 6,
     "metadata": {},
     "output_type": "execute_result"
    }
   ],
   "source": [
    "\n",
    "\n",
    "seed = 16\n",
    "filename = 'fer2013.csv'\n",
    "label_map = ['Enfado', 'Asco', 'Miedo', 'Alegria', 'Tristeza', 'Sorpresa', 'Neutral']\n",
    "names=['emocion','pixels','uso']\n",
    "df=pd.read_csv('fer2013.csv',names=names, na_filter=False)\n",
    "im=df['pixels']\n",
    "df.head(10)"
   ]
  },
  {
   "cell_type": "code",
   "execution_count": 7,
   "metadata": {},
   "outputs": [],
   "source": [
    "def getData(filname):\n",
    "    # images are 48x48\n",
    "    # N = 35887\n",
    "    Y = []\n",
    "    X = []\n",
    "    first = True\n",
    "    for line in open(filname):\n",
    "        #This condition skips the first condition\n",
    "        if first:\n",
    "            first = False\n",
    "        else:\n",
    "            row = line.split(',')\n",
    "            Y.append(int(row[0]))\n",
    "            X.append([int(p) for p in row[1].split()])\n",
    "\n",
    "    X, Y = np.array(X)/255.0 , np.array(Y)\n",
    "    return X,Y"
   ]
  },
  {
   "cell_type": "code",
   "execution_count": 8,
   "metadata": {},
   "outputs": [],
   "source": [
    "X,Y = getData(\"fer2013.csv\")\n"
   ]
  },
  {
   "cell_type": "code",
   "execution_count": 9,
   "metadata": {},
   "outputs": [],
   "source": [
    "N,D = X.shape\n",
    "X=X.reshape(N, 48, 48, 1)\n"
   ]
  },
  {
   "cell_type": "code",
   "execution_count": 44,
   "metadata": {},
   "outputs": [],
   "source": [
    "from sklearn.model_selection import train_test_split\n",
    "\n",
    "X_train, X_test, y_train, y_test = train_test_split(X, Y, test_size=0.2,random_state=16 )\n"
   ]
  },
  {
   "cell_type": "code",
   "execution_count": 45,
   "metadata": {},
   "outputs": [],
   "source": [
    "# one hot encode output\n",
    "y_train = np_utils.to_categorical(y_train)\n",
    "y_test = np_utils.to_categorical(y_test)\n",
    "class_num = y_test.shape[1]\n"
   ]
  },
  {
   "cell_type": "code",
   "execution_count": 46,
   "metadata": {},
   "outputs": [
    {
     "data": {
      "image/png": "[encoded data removed]",
      "text/plain": [
       "<Figure size 432x288 with 1 Axes>"
      ]
     },
     "metadata": {
      "needs_background": "light"
     },
     "output_type": "display_data"
    }
   ],
   "source": [
    "img = X_train[5754].reshape(48,48)\n",
    "plt.imshow(img,interpolation = 'spline16')\n",
    "plt.show()"
   ]
  },
  {
   "cell_type": "code",
   "execution_count": 77,
   "metadata": {},
   "outputs": [],
   "source": [
    "model = Sequential()\n"
   ]
  },
  {
   "cell_type": "code",
   "execution_count": 78,
   "metadata": {},
   "outputs": [],
   "source": [
    "model.add(Conv2D(48,(3,3),input_shape=X_train.shape[1:],padding = 'same'))\n",
    "model.add(Activation('relu'))\n",
    "model.add(Dropout(0.2))\n",
    "model.add(BatchNormalization())"
   ]
  },
  {
   "cell_type": "code",
   "execution_count": 79,
   "metadata": {},
   "outputs": [],
   "source": [
    "model.add(Conv2D(96, (3, 3), padding='same'))\n",
    "model.add(Activation('relu'))"
   ]
  },
  {
   "cell_type": "code",
   "execution_count": 80,
   "metadata": {},
   "outputs": [],
   "source": [
    "model.add(MaxPooling2D(pool_size=(2, 2)))\n",
    "model.add(Dropout(0.2))\n",
    "model.add(BatchNormalization())"
   ]
  },
  {
   "cell_type": "code",
   "execution_count": 81,
   "metadata": {},
   "outputs": [],
   "source": [
    "model.add(Conv2D(96, (3, 3), padding='same'))\n",
    "model.add(Activation('relu'))\n",
    "model.add(MaxPooling2D(pool_size=(2, 2)))\n",
    "model.add(Dropout(0.2))\n",
    "model.add(BatchNormalization())\n",
    "    \n",
    "model.add(Conv2D(192, (3, 3), padding='same'))\n",
    "model.add(Activation('relu'))\n",
    "model.add(Dropout(0.2))\n",
    "model.add(BatchNormalization())"
   ]
  },
  {
   "cell_type": "code",
   "execution_count": 82,
   "metadata": {},
   "outputs": [],
   "source": [
    "model.add(Flatten())\n",
    "model.add(Dropout(0.2))"
   ]
  },
  {
   "cell_type": "code",
   "execution_count": 83,
   "metadata": {},
   "outputs": [],
   "source": [
    "model.add(Dense(256, kernel_constraint=maxnorm(3)))\n",
    "model.add(Activation('relu'))\n",
    "model.add(Dropout(0.2))\n",
    "model.add(BatchNormalization())\n",
    "    \n",
    "model.add(Dense(128, kernel_constraint=maxnorm(3)))\n",
    "model.add(Activation('relu'))\n",
    "model.add(Dropout(0.2))\n",
    "model.add(BatchNormalization())"
   ]
  },
  {
   "cell_type": "code",
   "execution_count": 84,
   "metadata": {},
   "outputs": [],
   "source": [
    "model.add(Dense(class_num))\n",
    "model.add(Activation('softmax'))"
   ]
  },
  {
   "cell_type": "code",
   "execution_count": 85,
   "metadata": {},
   "outputs": [],
   "source": [
    "epochs = 20\n",
    "optimizer = 'adam'\n",
    "model.compile(loss='categorical_crossentropy', optimizer=optimizer, metrics=['accuracy'])"
   ]
  },
  {
   "cell_type": "code",
   "execution_count": 86,
   "metadata": {},
   "outputs": [
    {
     "name": "stdout",
     "output_type": "stream",
     "text": [
      "Model: \"sequential_7\"\n",
      "_________________________________________________________________\n",
      "Layer (type)                 Output Shape              Param #   \n",
      "=================================================================\n",
      "conv2d_16 (Conv2D)           (None, 48, 48, 48)        480       \n",
      "_________________________________________________________________\n",
      "activation_24 (Activation)   (None, 48, 48, 48)        0         \n",
      "_________________________________________________________________\n",
      "dropout_24 (Dropout)         (None, 48, 48, 48)        0         \n",
      "_________________________________________________________________\n",
      "batch_normalization_20 (Batc (None, 48, 48, 48)        192       \n",
      "_________________________________________________________________\n",
      "conv2d_17 (Conv2D)           (None, 48, 48, 96)        41568     \n",
      "_________________________________________________________________\n",
      "activation_25 (Activation)   (None, 48, 48, 96)        0         \n",
      "_________________________________________________________________\n",
      "max_pooling2d_7 (MaxPooling2 (None, 24, 24, 96)        0         \n",
      "_________________________________________________________________\n",
      "dropout_25 (Dropout)         (None, 24, 24, 96)        0         \n",
      "_________________________________________________________________\n",
      "batch_normalization_21 (Batc (None, 24, 24, 96)        384       \n",
      "_________________________________________________________________\n",
      "conv2d_18 (Conv2D)           (None, 24, 24, 96)        83040     \n",
      "_________________________________________________________________\n",
      "activation_26 (Activation)   (None, 24, 24, 96)        0         \n",
      "_________________________________________________________________\n",
      "max_pooling2d_8 (MaxPooling2 (None, 12, 12, 96)        0         \n",
      "_________________________________________________________________\n",
      "dropout_26 (Dropout)         (None, 12, 12, 96)        0         \n",
      "_________________________________________________________________\n",
      "batch_normalization_22 (Batc (None, 12, 12, 96)        384       \n",
      "_________________________________________________________________\n",
      "conv2d_19 (Conv2D)           (None, 12, 12, 192)       166080    \n",
      "_________________________________________________________________\n",
      "activation_27 (Activation)   (None, 12, 12, 192)       0         \n",
      "_________________________________________________________________\n",
      "dropout_27 (Dropout)         (None, 12, 12, 192)       0         \n",
      "_________________________________________________________________\n",
      "batch_normalization_23 (Batc (None, 12, 12, 192)       768       \n",
      "_________________________________________________________________\n",
      "flatten_4 (Flatten)          (None, 27648)             0         \n",
      "_________________________________________________________________\n",
      "dropout_28 (Dropout)         (None, 27648)             0         \n",
      "_________________________________________________________________\n",
      "dense_10 (Dense)             (None, 256)               7078144   \n",
      "_________________________________________________________________\n",
      "activation_28 (Activation)   (None, 256)               0         \n",
      "_________________________________________________________________\n",
      "dropout_29 (Dropout)         (None, 256)               0         \n",
      "_________________________________________________________________\n",
      "batch_normalization_24 (Batc (None, 256)               1024      \n",
      "_________________________________________________________________\n",
      "dense_11 (Dense)             (None, 128)               32896     \n",
      "_________________________________________________________________\n",
      "activation_29 (Activation)   (None, 128)               0         \n",
      "_________________________________________________________________\n",
      "dropout_30 (Dropout)         (None, 128)               0         \n",
      "_________________________________________________________________\n",
      "batch_normalization_25 (Batc (None, 128)               512       \n",
      "_________________________________________________________________\n",
      "dense_12 (Dense)             (None, 7)                 903       \n",
      "_________________________________________________________________\n",
      "activation_30 (Activation)   (None, 7)                 0         \n",
      "=================================================================\n",
      "Total params: 7,406,375\n",
      "Trainable params: 7,404,743\n",
      "Non-trainable params: 1,632\n",
      "_________________________________________________________________\n",
      "None\n"
     ]
    }
   ],
   "source": [
    "print(model.summary())"
   ]
  },
  {
   "cell_type": "code",
   "execution_count": 87,
   "metadata": {},
   "outputs": [
    {
     "name": "stdout",
     "output_type": "stream",
     "text": [
      "Train on 28709 samples, validate on 7178 samples\n",
      "Epoch 1/20\n",
      "28709/28709 [==============================] - 509s 18ms/step - loss: 1.7853 - accuracy: 0.3347 - val_loss: 1.5796 - val_accuracy: 0.3743\n",
      "Epoch 2/20\n",
      "28709/28709 [==============================] - 1596s 56ms/step - loss: 1.3871 - accuracy: 0.4695 - val_loss: 1.2979 - val_accuracy: 0.5057\n",
      "Epoch 3/20\n",
      "28709/28709 [==============================] - 519s 18ms/step - loss: 1.2397 - accuracy: 0.5266 - val_loss: 1.2072 - val_accuracy: 0.5463\n",
      "Epoch 4/20\n",
      "28709/28709 [==============================] - 500s 17ms/step - loss: 1.1477 - accuracy: 0.5657 - val_loss: 1.1918 - val_accuracy: 0.5559\n",
      "Epoch 5/20\n",
      "28709/28709 [==============================] - 500s 17ms/step - loss: 1.0959 - accuracy: 0.5850 - val_loss: 1.2584 - val_accuracy: 0.5337\n",
      "Epoch 6/20\n",
      "28709/28709 [==============================] - 499s 17ms/step - loss: 1.0642 - accuracy: 0.5979 - val_loss: 1.1209 - val_accuracy: 0.5793\n",
      "Epoch 7/20\n",
      "28709/28709 [==============================] - 538s 19ms/step - loss: 1.0316 - accuracy: 0.6113 - val_loss: 1.2097 - val_accuracy: 0.5549\n",
      "Epoch 8/20\n",
      "28709/28709 [==============================] - 579s 20ms/step - loss: 1.0098 - accuracy: 0.6214 - val_loss: 1.1039 - val_accuracy: 0.5921\n",
      "Epoch 9/20\n",
      "28709/28709 [==============================] - 541s 19ms/step - loss: 0.9855 - accuracy: 0.6305 - val_loss: 1.0917 - val_accuracy: 0.5942\n",
      "Epoch 10/20\n",
      "28709/28709 [==============================] - 561s 20ms/step - loss: 0.9571 - accuracy: 0.6470 - val_loss: 1.1282 - val_accuracy: 0.5716\n",
      "Epoch 11/20\n",
      "28709/28709 [==============================] - 571s 20ms/step - loss: 0.9365 - accuracy: 0.6518 - val_loss: 1.0764 - val_accuracy: 0.5989\n",
      "Epoch 12/20\n",
      "28709/28709 [==============================] - 535s 19ms/step - loss: 0.9145 - accuracy: 0.6601 - val_loss: 1.0853 - val_accuracy: 0.5975\n",
      "Epoch 13/20\n",
      "28709/28709 [==============================] - 546s 19ms/step - loss: 0.9010 - accuracy: 0.6663 - val_loss: 1.0842 - val_accuracy: 0.5958\n",
      "Epoch 14/20\n",
      "28709/28709 [==============================] - 568s 20ms/step - loss: 0.8856 - accuracy: 0.6717 - val_loss: 1.0743 - val_accuracy: 0.6067\n",
      "Epoch 15/20\n",
      "28709/28709 [==============================] - 507s 18ms/step - loss: 0.8689 - accuracy: 0.6786 - val_loss: 1.0675 - val_accuracy: 0.6095\n",
      "Epoch 16/20\n",
      "28709/28709 [==============================] - 503s 18ms/step - loss: 0.8466 - accuracy: 0.6862 - val_loss: 1.1020 - val_accuracy: 0.5933\n",
      "Epoch 17/20\n",
      "28709/28709 [==============================] - 504s 18ms/step - loss: 0.8277 - accuracy: 0.6956 - val_loss: 1.0631 - val_accuracy: 0.6074\n",
      "Epoch 18/20\n",
      "28709/28709 [==============================] - 500s 17ms/step - loss: 0.8125 - accuracy: 0.7004 - val_loss: 1.0663 - val_accuracy: 0.6066\n",
      "Epoch 19/20\n",
      "28709/28709 [==============================] - 501s 17ms/step - loss: 0.7864 - accuracy: 0.7128 - val_loss: 1.0958 - val_accuracy: 0.5995\n",
      "Epoch 20/20\n",
      "28709/28709 [==============================] - 499s 17ms/step - loss: 0.7871 - accuracy: 0.7102 - val_loss: 1.0764 - val_accuracy: 0.6032\n"
     ]
    },
    {
     "data": {
      "text/plain": [
       "<keras.callbacks.callbacks.History at 0x21501318dc8>"
      ]
     },
     "execution_count": 87,
     "metadata": {},
     "output_type": "execute_result"
    }
   ],
   "source": [
    "np.random.seed(seed)\n",
    "model.fit(X_train, y_train, validation_data=(X_test, y_test), epochs=epochs, batch_size=64)"
   ]
  },
  {
   "cell_type": "code",
   "execution_count": 90,
   "metadata": {},
   "outputs": [
    {
     "name": "stdout",
     "output_type": "stream",
     "text": [
      "Accuracy: 60.32%\n"
     ]
    }
   ],
   "source": [
    "scores = model.evaluate(X_test, y_test, verbose=0)\n",
    "print(\"Accuracy: %.2f%%\" % (scores[1]*100))"
   ]
  },
  {
   "cell_type": "code",
   "execution_count": null,
   "metadata": {},
   "outputs": [],
   "source": []
  }
 ],
 "metadata": {
  "kernelspec": {
   "display_name": "Python 3",
   "language": "python",
   "name": "python3"
  },
  "language_info": {
   "codemirror_mode": {
    "name": "ipython",
    "version": 3
   },
   "file_extension": ".py",
   "mimetype": "text/x-python",
   "name": "python",
   "nbconvert_exporter": "python",
   "pygments_lexer": "ipython3",
   "version": "3.7.6"
  }
 },
 "nbformat": 4,
 "nbformat_minor": 4
}