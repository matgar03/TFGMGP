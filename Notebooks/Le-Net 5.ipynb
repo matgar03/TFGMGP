{
 "cells": [
  {
   "cell_type": "code",
   "execution_count": 1,
   "metadata": {},
   "outputs": [
    {
     "name": "stderr",
     "output_type": "stream",
     "text": [
      "Using TensorFlow backend.\n"
     ]
    }
   ],
   "source": [
    "import tensorflow as tf\n",
    "\n",
    "import keras\n",
    "from keras.models import Sequential\n",
    "from keras.layers.convolutional import Conv2D, MaxPooling2D, AveragePooling2D\n",
    "from keras.layers import Dense, Activation, Dropout, Flatten,BatchNormalization\n",
    "\n",
    "from keras.constraints import maxnorm\n",
    "from keras.utils import np_utils\n",
    "from keras.preprocessing import image\n",
    "from keras.preprocessing.image import ImageDataGenerator\n",
    "import pandas as pd\n",
    "import numpy as np\n",
    "import matplotlib.pyplot as plt"
   ]
  },
  {
   "cell_type": "code",
   "execution_count": 2,
   "metadata": {},
   "outputs": [
    {
     "data": {
      "text/html": [
       "<div>\n",
       "<style scoped>\n",
       "    .dataframe tbody tr th:only-of-type {\n",
       "        vertical-align: middle;\n",
       "    }\n",
       "\n",
       "    .dataframe tbody tr th {\n",
       "        vertical-align: top;\n",
       "    }\n",
       "\n",
       "    .dataframe thead th {\n",
       "        text-align: right;\n",
       "    }\n",
       "</style>\n",
       "<table border=\"1\" class=\"dataframe\">\n",
       "  <thead>\n",
       "    <tr style=\"text-align: right;\">\n",
       "      <th></th>\n",
       "      <th>emocion</th>\n",
       "      <th>pixels</th>\n",
       "      <th>uso</th>\n",
       "    </tr>\n",
       "  </thead>\n",
       "  <tbody>\n",
       "    <tr>\n",
       "      <th>0</th>\n",
       "      <td>emotion</td>\n",
       "      <td>pixels</td>\n",
       "      <td>Usage</td>\n",
       "    </tr>\n",
       "    <tr>\n",
       "      <th>1</th>\n",
       "      <td>0</td>\n",
       "      <td>70 80 82 72 58 58 60 63 54 58 60 48 89 115 121...</td>\n",
       "      <td>Training</td>\n",
       "    </tr>\n",
       "    <tr>\n",
       "      <th>2</th>\n",
       "      <td>0</td>\n",
       "      <td>151 150 147 155 148 133 111 140 170 174 182 15...</td>\n",
       "      <td>Training</td>\n",
       "    </tr>\n",
       "    <tr>\n",
       "      <th>3</th>\n",
       "      <td>2</td>\n",
       "      <td>231 212 156 164 174 138 161 173 182 200 106 38...</td>\n",
       "      <td>Training</td>\n",
       "    </tr>\n",
       "    <tr>\n",
       "      <th>4</th>\n",
       "      <td>4</td>\n",
       "      <td>24 32 36 30 32 23 19 20 30 41 21 22 32 34 21 1...</td>\n",
       "      <td>Training</td>\n",
       "    </tr>\n",
       "    <tr>\n",
       "      <th>5</th>\n",
       "      <td>6</td>\n",
       "      <td>4 0 0 0 0 0 0 0 0 0 0 0 3 15 23 28 48 50 58 84...</td>\n",
       "      <td>Training</td>\n",
       "    </tr>\n",
       "    <tr>\n",
       "      <th>6</th>\n",
       "      <td>2</td>\n",
       "      <td>55 55 55 55 55 54 60 68 54 85 151 163 170 179 ...</td>\n",
       "      <td>Training</td>\n",
       "    </tr>\n",
       "    <tr>\n",
       "      <th>7</th>\n",
       "      <td>4</td>\n",
       "      <td>20 17 19 21 25 38 42 42 46 54 56 62 63 66 82 1...</td>\n",
       "      <td>Training</td>\n",
       "    </tr>\n",
       "    <tr>\n",
       "      <th>8</th>\n",
       "      <td>3</td>\n",
       "      <td>77 78 79 79 78 75 60 55 47 48 58 73 77 79 57 5...</td>\n",
       "      <td>Training</td>\n",
       "    </tr>\n",
       "    <tr>\n",
       "      <th>9</th>\n",
       "      <td>3</td>\n",
       "      <td>85 84 90 121 101 102 133 153 153 169 177 189 1...</td>\n",
       "      <td>Training</td>\n",
       "    </tr>\n",
       "  </tbody>\n",
       "</table>\n",
       "</div>"
      ],
      "text/plain": [
       "   emocion                                             pixels       uso\n",
       "0  emotion                                             pixels     Usage\n",
       "1        0  70 80 82 72 58 58 60 63 54 58 60 48 89 115 121...  Training\n",
       "2        0  151 150 147 155 148 133 111 140 170 174 182 15...  Training\n",
       "3        2  231 212 156 164 174 138 161 173 182 200 106 38...  Training\n",
       "4        4  24 32 36 30 32 23 19 20 30 41 21 22 32 34 21 1...  Training\n",
       "5        6  4 0 0 0 0 0 0 0 0 0 0 0 3 15 23 28 48 50 58 84...  Training\n",
       "6        2  55 55 55 55 55 54 60 68 54 85 151 163 170 179 ...  Training\n",
       "7        4  20 17 19 21 25 38 42 42 46 54 56 62 63 66 82 1...  Training\n",
       "8        3  77 78 79 79 78 75 60 55 47 48 58 73 77 79 57 5...  Training\n",
       "9        3  85 84 90 121 101 102 133 153 153 169 177 189 1...  Training"
      ]
     },
     "execution_count": 2,
     "metadata": {},
     "output_type": "execute_result"
    }
   ],
   "source": [
    "seed = 16\n",
    "filename = '../fer2013.csv'\n",
    "label_map = ['Enfado', 'Asco', 'Miedo', 'Alegria', 'Tristeza', 'Sorpresa', 'Neutral']\n",
    "names=['emocion','pixels','uso']\n",
    "df=pd.read_csv(filename,names=names, na_filter=False)\n",
    "im=df['pixels']\n",
    "df.head(10)"
   ]
  },
  {
   "cell_type": "code",
   "execution_count": 3,
   "metadata": {},
   "outputs": [],
   "source": [
    "def getData(filname):\n",
    "    # Las imagenes 48x48 en grayscale (de 0 a 255)\n",
    "    # N = 35887 (28709 de entrenamiento y 2304 de testeo)\n",
    "    Y_train = []\n",
    "    X_train = []\n",
    "    Y_test = []\n",
    "    X_test = []\n",
    "    \n",
    "    first = True\n",
    "    uso = 'Training\\n'\n",
    "    for line in open(filname):\n",
    "        #This condition skips the first condition\n",
    "        if first:\n",
    "            first = False\n",
    "        else:\n",
    "            row = line.split(',')\n",
    "            condition = str(row[2])\n",
    "            if condition == uso:\n",
    "                Y_train.append(int(row[0]))\n",
    "                X_train.append([int(p) for p in row[1].split()])\n",
    "            else:\n",
    "                Y_test.append(int(row[0]))\n",
    "                X_test.append([int(p) for p in row[1].split()])\n",
    "                \n",
    "    X_train, Y_train = np.array(X_train)/255.0 , np.array(Y_train)\n",
    "    X_test, Y_test = np.array(X_test)/255.0 , np.array(Y_test)\n",
    "\n",
    "    return X_train, X_test, Y_train, Y_test "
   ]
  },
  {
   "cell_type": "code",
   "execution_count": 4,
   "metadata": {},
   "outputs": [],
   "source": [
    "X_train, X_test, Y_train, Y_test= getData(filename)"
   ]
  },
  {
   "cell_type": "code",
   "execution_count": 5,
   "metadata": {},
   "outputs": [],
   "source": [
    "N_train = X_train.shape[0]\n",
    "N_test = X_test.shape[0]\n",
    "X_train = X_train.reshape(N_train, 48, 48,1)\n",
    "X_test = X_test.reshape(N_test, 48, 48,1)"
   ]
  },
  {
   "cell_type": "code",
   "execution_count": 6,
   "metadata": {},
   "outputs": [
    {
     "name": "stdout",
     "output_type": "stream",
     "text": [
      "[3995, 436, 4097, 7215, 4830, 3171, 4965]\n",
      "[958, 111, 1024, 1774, 1247, 831, 1233]\n"
     ]
    }
   ],
   "source": [
    "cont_train = [0,0,0,0,0,0,0]\n",
    "for j in Y_train:\n",
    "    cont_train[j] += 1\n",
    "cont_test = [0,0,0,0,0,0,0]\n",
    "for j in Y_test:\n",
    "    cont_test[j] += 1\n",
    "\n",
    "print(cont_train)\n",
    "print(cont_test)"
   ]
  },
  {
   "cell_type": "code",
   "execution_count": 7,
   "metadata": {},
   "outputs": [],
   "source": [
    "# one hot encode output\n",
    "Y_train = np_utils.to_categorical(Y_train)\n",
    "Y_test = np_utils.to_categorical(Y_test)\n",
    "class_num = Y_test.shape[1]"
   ]
  },
  {
   "cell_type": "code",
   "execution_count": 8,
   "metadata": {},
   "outputs": [
    {
     "name": "stdout",
     "output_type": "stream",
     "text": [
      "WARNING:tensorflow:From D:\\Users\\Mateo\\Anaconda3\\lib\\site-packages\\tensorflow\\python\\ops\\resource_variable_ops.py:435: colocate_with (from tensorflow.python.framework.ops) is deprecated and will be removed in a future version.\n",
      "Instructions for updating:\n",
      "Colocations handled automatically by placer.\n"
     ]
    }
   ],
   "source": [
    "model = Sequential()\n",
    "\n",
    "model.add(Conv2D(6,(5,5),input_shape=X_train.shape[1:],padding = 'valid', strides = 1, activation = 'tanh'))\n",
    "model.add(AveragePooling2D(pool_size=(2, 2)))\n",
    "model.add(Conv2D(16,(5,5),input_shape=X_train.shape[1:],padding = 'valid', strides = 1, activation = 'tanh'))\n",
    "model.add(AveragePooling2D(pool_size=(2, 2)))\n",
    "model.add(Flatten())\n",
    "model.add(Dense(128, activation='relu',kernel_constraint=maxnorm(3)))\n",
    "model.add(Dense(class_num, activation='softmax',kernel_constraint=maxnorm(3)))"
   ]
  },
  {
   "cell_type": "code",
   "execution_count": 9,
   "metadata": {},
   "outputs": [
    {
     "name": "stdout",
     "output_type": "stream",
     "text": [
      "Model: \"sequential_1\"\n",
      "_________________________________________________________________\n",
      "Layer (type)                 Output Shape              Param #   \n",
      "=================================================================\n",
      "conv2d_1 (Conv2D)            (None, 44, 44, 6)         156       \n",
      "_________________________________________________________________\n",
      "average_pooling2d_1 (Average (None, 22, 22, 6)         0         \n",
      "_________________________________________________________________\n",
      "conv2d_2 (Conv2D)            (None, 18, 18, 16)        2416      \n",
      "_________________________________________________________________\n",
      "average_pooling2d_2 (Average (None, 9, 9, 16)          0         \n",
      "_________________________________________________________________\n",
      "flatten_1 (Flatten)          (None, 1296)              0         \n",
      "_________________________________________________________________\n",
      "dense_1 (Dense)              (None, 128)               166016    \n",
      "_________________________________________________________________\n",
      "dense_2 (Dense)              (None, 7)                 903       \n",
      "=================================================================\n",
      "Total params: 169,491\n",
      "Trainable params: 169,491\n",
      "Non-trainable params: 0\n",
      "_________________________________________________________________\n"
     ]
    }
   ],
   "source": [
    "model.summary()\n"
   ]
  },
  {
   "cell_type": "code",
   "execution_count": 10,
   "metadata": {},
   "outputs": [],
   "source": [
    "epochs = 10\n",
    "optimizer = 'adam'\n",
    "model.compile(loss='categorical_crossentropy', optimizer=optimizer, metrics=['accuracy'])"
   ]
  },
  {
   "cell_type": "code",
   "execution_count": 11,
   "metadata": {},
   "outputs": [
    {
     "name": "stdout",
     "output_type": "stream",
     "text": [
      "WARNING:tensorflow:From D:\\Users\\Mateo\\Anaconda3\\lib\\site-packages\\tensorflow\\python\\ops\\math_ops.py:3066: to_int32 (from tensorflow.python.ops.math_ops) is deprecated and will be removed in a future version.\n",
      "Instructions for updating:\n",
      "Use tf.cast instead.\n",
      "Train on 28709 samples, validate on 7178 samples\n",
      "Epoch 1/10\n",
      "28709/28709 [==============================] - 50s 2ms/step - loss: 1.6697 - accuracy: 0.3410 - val_loss: 1.5881 - val_accuracy: 0.3833\n",
      "Epoch 2/10\n",
      "28709/28709 [==============================] - 43s 1ms/step - loss: 1.5376 - accuracy: 0.4046 - val_loss: 1.5153 - val_accuracy: 0.4189\n",
      "Epoch 3/10\n",
      "28709/28709 [==============================] - 41s 1ms/step - loss: 1.4635 - accuracy: 0.4391 - val_loss: 1.4880 - val_accuracy: 0.4308\n",
      "Epoch 4/10\n",
      "28709/28709 [==============================] - 40s 1ms/step - loss: 1.3973 - accuracy: 0.4681 - val_loss: 1.4770 - val_accuracy: 0.4391\n",
      "Epoch 5/10\n",
      "28709/28709 [==============================] - 40s 1ms/step - loss: 1.3345 - accuracy: 0.4936 - val_loss: 1.4843 - val_accuracy: 0.4315\n",
      "Epoch 6/10\n",
      "28709/28709 [==============================] - 41s 1ms/step - loss: 1.2741 - accuracy: 0.5191 - val_loss: 1.4963 - val_accuracy: 0.4450\n",
      "Epoch 7/10\n",
      "28709/28709 [==============================] - 40s 1ms/step - loss: 1.2220 - accuracy: 0.5439 - val_loss: 1.5162 - val_accuracy: 0.4423\n",
      "Epoch 8/10\n",
      "28709/28709 [==============================] - 40s 1ms/step - loss: 1.1677 - accuracy: 0.5628 - val_loss: 1.5242 - val_accuracy: 0.4475\n",
      "Epoch 9/10\n",
      "28709/28709 [==============================] - 41s 1ms/step - loss: 1.1195 - accuracy: 0.5823 - val_loss: 1.5393 - val_accuracy: 0.4464\n",
      "Epoch 10/10\n",
      "28709/28709 [==============================] - 41s 1ms/step - loss: 1.0731 - accuracy: 0.6034 - val_loss: 1.5841 - val_accuracy: 0.4415\n"
     ]
    },
    {
     "data": {
      "text/plain": [
       "<keras.callbacks.callbacks.History at 0x15a24a83e80>"
      ]
     },
     "execution_count": 11,
     "metadata": {},
     "output_type": "execute_result"
    }
   ],
   "source": [
    "np.random.seed(16)\n",
    "model.fit(X_train, Y_train, validation_data=(X_test, Y_test), epochs=epochs, batch_size=64)"
   ]
  },
  {
   "cell_type": "code",
   "execution_count": 12,
   "metadata": {},
   "outputs": [
    {
     "name": "stdout",
     "output_type": "stream",
     "text": [
      "Accuracy: 44.15%\n"
     ]
    }
   ],
   "source": [
    "scores = model.evaluate(X_test, Y_test, verbose=0)\n",
    "print(\"Accuracy: %.2f%%\" % (scores[1]*100))"
   ]
  },
  {
   "cell_type": "code",
   "execution_count": 13,
   "metadata": {},
   "outputs": [
    {
     "name": "stdout",
     "output_type": "stream",
     "text": [
      "Model: \"sequential_2\"\n",
      "_________________________________________________________________\n",
      "Layer (type)                 Output Shape              Param #   \n",
      "=================================================================\n",
      "conv2d_3 (Conv2D)            (None, 44, 44, 6)         156       \n",
      "_________________________________________________________________\n",
      "average_pooling2d_3 (Average (None, 22, 22, 6)         0         \n",
      "_________________________________________________________________\n",
      "conv2d_4 (Conv2D)            (None, 18, 18, 16)        2416      \n",
      "_________________________________________________________________\n",
      "average_pooling2d_4 (Average (None, 9, 9, 16)          0         \n",
      "_________________________________________________________________\n",
      "flatten_2 (Flatten)          (None, 1296)              0         \n",
      "_________________________________________________________________\n",
      "dense_3 (Dense)              (None, 128)               166016    \n",
      "_________________________________________________________________\n",
      "dense_4 (Dense)              (None, 7)                 903       \n",
      "=================================================================\n",
      "Total params: 169,491\n",
      "Trainable params: 169,491\n",
      "Non-trainable params: 0\n",
      "_________________________________________________________________\n"
     ]
    }
   ],
   "source": [
    "model = Sequential()\n",
    "\n",
    "model.add(Conv2D(6,(5,5),input_shape=X_train.shape[1:],padding = 'valid', strides = 1, activation = 'relu'))\n",
    "model.add(AveragePooling2D(pool_size=(2, 2)))\n",
    "model.add(Conv2D(16,(5,5),input_shape=X_train.shape[1:],padding = 'valid', strides = 1, activation = 'relu'))\n",
    "model.add(AveragePooling2D(pool_size=(2, 2)))\n",
    "model.add(Flatten())\n",
    "model.add(Dense(128, activation='relu',kernel_constraint=maxnorm(3)))\n",
    "model.add(Dense(class_num, activation='softmax',kernel_constraint=maxnorm(3)))\n",
    "model.summary()"
   ]
  },
  {
   "cell_type": "code",
   "execution_count": 14,
   "metadata": {},
   "outputs": [
    {
     "name": "stdout",
     "output_type": "stream",
     "text": [
      "Train on 28709 samples, validate on 7178 samples\n",
      "Epoch 1/10\n",
      "28709/28709 [==============================] - 42s 1ms/step - loss: 1.6988 - accuracy: 0.3255 - val_loss: 1.6037 - val_accuracy: 0.3911\n",
      "Epoch 2/10\n",
      "28709/28709 [==============================] - 42s 1ms/step - loss: 1.5601 - accuracy: 0.3975 - val_loss: 1.5215 - val_accuracy: 0.4185\n",
      "Epoch 3/10\n",
      "28709/28709 [==============================] - 43s 1ms/step - loss: 1.4797 - accuracy: 0.4263 - val_loss: 1.4614 - val_accuracy: 0.4374\n",
      "Epoch 4/10\n",
      "28709/28709 [==============================] - 42s 1ms/step - loss: 1.4183 - accuracy: 0.4529 - val_loss: 1.4156 - val_accuracy: 0.4600\n",
      "Epoch 5/10\n",
      "28709/28709 [==============================] - 43s 2ms/step - loss: 1.3608 - accuracy: 0.4799 - val_loss: 1.3876 - val_accuracy: 0.4681\n",
      "Epoch 6/10\n",
      "28709/28709 [==============================] - 43s 1ms/step - loss: 1.3128 - accuracy: 0.5004 - val_loss: 1.3590 - val_accuracy: 0.4738\n",
      "Epoch 7/10\n",
      "28709/28709 [==============================] - 43s 2ms/step - loss: 1.2678 - accuracy: 0.5190 - val_loss: 1.3325 - val_accuracy: 0.4919\n",
      "Epoch 8/10\n",
      "28709/28709 [==============================] - 43s 2ms/step - loss: 1.2296 - accuracy: 0.5344 - val_loss: 1.3198 - val_accuracy: 0.5000\n",
      "Epoch 9/10\n",
      "28709/28709 [==============================] - 43s 1ms/step - loss: 1.1903 - accuracy: 0.5498 - val_loss: 1.3303 - val_accuracy: 0.4953\n",
      "Epoch 10/10\n",
      "28709/28709 [==============================] - 43s 2ms/step - loss: 1.1517 - accuracy: 0.5686 - val_loss: 1.3174 - val_accuracy: 0.5049\n"
     ]
    },
    {
     "data": {
      "text/plain": [
       "<keras.callbacks.callbacks.History at 0x15a3c695358>"
      ]
     },
     "execution_count": 14,
     "metadata": {},
     "output_type": "execute_result"
    }
   ],
   "source": [
    "epochs = 10\n",
    "optimizer = 'adam'\n",
    "model.compile(loss='categorical_crossentropy', optimizer=optimizer, metrics=['accuracy'])\n",
    "np.random.seed(16)\n",
    "model.fit(X_train, Y_train, validation_data=(X_test, Y_test), epochs=epochs, batch_size=64)"
   ]
  },
  {
   "cell_type": "code",
   "execution_count": 15,
   "metadata": {},
   "outputs": [
    {
     "name": "stdout",
     "output_type": "stream",
     "text": [
      "Accuracy: 50.49%\n"
     ]
    }
   ],
   "source": [
    "scores = model.evaluate(X_test, Y_test, verbose=0)\n",
    "print(\"Accuracy: %.2f%%\" % (scores[1]*100))"
   ]
  },
  {
   "cell_type": "code",
   "execution_count": 16,
   "metadata": {},
   "outputs": [
    {
     "name": "stdout",
     "output_type": "stream",
     "text": [
      "Model: \"sequential_3\"\n",
      "_________________________________________________________________\n",
      "Layer (type)                 Output Shape              Param #   \n",
      "=================================================================\n",
      "conv2d_5 (Conv2D)            (None, 44, 44, 6)         156       \n",
      "_________________________________________________________________\n",
      "max_pooling2d_1 (MaxPooling2 (None, 22, 22, 6)         0         \n",
      "_________________________________________________________________\n",
      "conv2d_6 (Conv2D)            (None, 18, 18, 16)        2416      \n",
      "_________________________________________________________________\n",
      "max_pooling2d_2 (MaxPooling2 (None, 9, 9, 16)          0         \n",
      "_________________________________________________________________\n",
      "flatten_3 (Flatten)          (None, 1296)              0         \n",
      "_________________________________________________________________\n",
      "dense_5 (Dense)              (None, 128)               166016    \n",
      "_________________________________________________________________\n",
      "dense_6 (Dense)              (None, 7)                 903       \n",
      "=================================================================\n",
      "Total params: 169,491\n",
      "Trainable params: 169,491\n",
      "Non-trainable params: 0\n",
      "_________________________________________________________________\n"
     ]
    }
   ],
   "source": [
    "model = Sequential()\n",
    "\n",
    "model.add(Conv2D(6,(5,5),input_shape=X_train.shape[1:],padding = 'valid', strides = 1, activation = 'relu'))\n",
    "model.add(MaxPooling2D(pool_size=(2, 2)))\n",
    "model.add(Conv2D(16,(5,5),input_shape=X_train.shape[1:],padding = 'valid', strides = 1, activation = 'relu'))\n",
    "model.add(MaxPooling2D(pool_size=(2, 2)))\n",
    "model.add(Flatten())\n",
    "model.add(Dense(128, activation='relu',kernel_constraint=maxnorm(3)))\n",
    "model.add(Dense(class_num, activation='softmax',kernel_constraint=maxnorm(3)))\n",
    "model.summary()"
   ]
  },
  {
   "cell_type": "code",
   "execution_count": 17,
   "metadata": {},
   "outputs": [
    {
     "name": "stdout",
     "output_type": "stream",
     "text": [
      "Train on 28709 samples, validate on 7178 samples\n",
      "Epoch 1/10\n",
      "28709/28709 [==============================] - 48s 2ms/step - loss: 1.6717 - accuracy: 0.3393 - val_loss: 1.5519 - val_accuracy: 0.4083\n",
      "Epoch 2/10\n",
      "28709/28709 [==============================] - 47s 2ms/step - loss: 1.4928 - accuracy: 0.4276 - val_loss: 1.4569 - val_accuracy: 0.4418\n",
      "Epoch 3/10\n",
      "28709/28709 [==============================] - 49s 2ms/step - loss: 1.3988 - accuracy: 0.4655 - val_loss: 1.3806 - val_accuracy: 0.4677\n",
      "Epoch 4/10\n",
      "28709/28709 [==============================] - 45s 2ms/step - loss: 1.3351 - accuracy: 0.4915 - val_loss: 1.3530 - val_accuracy: 0.4777\n",
      "Epoch 5/10\n",
      "28709/28709 [==============================] - 47s 2ms/step - loss: 1.2806 - accuracy: 0.5150 - val_loss: 1.3269 - val_accuracy: 0.4936\n",
      "Epoch 6/10\n",
      "28709/28709 [==============================] - 46s 2ms/step - loss: 1.2277 - accuracy: 0.5344 - val_loss: 1.3111 - val_accuracy: 0.4965\n",
      "Epoch 7/10\n",
      "28709/28709 [==============================] - 46s 2ms/step - loss: 1.1782 - accuracy: 0.5567 - val_loss: 1.2969 - val_accuracy: 0.5049\n",
      "Epoch 8/10\n",
      "28709/28709 [==============================] - 46s 2ms/step - loss: 1.1295 - accuracy: 0.5746 - val_loss: 1.2902 - val_accuracy: 0.5128\n",
      "Epoch 9/10\n",
      "28709/28709 [==============================] - 48s 2ms/step - loss: 1.0824 - accuracy: 0.5936 - val_loss: 1.3060 - val_accuracy: 0.5134\n",
      "Epoch 10/10\n",
      "28709/28709 [==============================] - 46s 2ms/step - loss: 1.0330 - accuracy: 0.6153 - val_loss: 1.3045 - val_accuracy: 0.5130\n"
     ]
    },
    {
     "data": {
      "text/plain": [
       "<keras.callbacks.callbacks.History at 0x15a47935438>"
      ]
     },
     "execution_count": 17,
     "metadata": {},
     "output_type": "execute_result"
    }
   ],
   "source": [
    "epochs = 10\n",
    "optimizer = 'adam'\n",
    "model.compile(loss='categorical_crossentropy', optimizer=optimizer, metrics=['accuracy'])\n",
    "np.random.seed(16)\n",
    "model.fit(X_train, Y_train, validation_data=(X_test, Y_test), epochs=epochs, batch_size=64)"
   ]
  },
  {
   "cell_type": "code",
   "execution_count": 18,
   "metadata": {},
   "outputs": [
    {
     "name": "stdout",
     "output_type": "stream",
     "text": [
      "Accuracy: 51.30%\n"
     ]
    }
   ],
   "source": [
    "scores = model.evaluate(X_test, Y_test, verbose=0)\n",
    "print(\"Accuracy: %.2f%%\" % (scores[1]*100))"
   ]
  },
  {
   "cell_type": "code",
   "execution_count": null,
   "metadata": {},
   "outputs": [],
   "source": []
  }
 ],
 "metadata": {
  "kernelspec": {
   "display_name": "Python 3",
   "language": "python",
   "name": "python3"
  },
  "language_info": {
   "codemirror_mode": {
    "name": "ipython",
    "version": 3
   },
   "file_extension": ".py",
   "mimetype": "text/x-python",
   "name": "python",
   "nbconvert_exporter": "python",
   "pygments_lexer": "ipython3",
   "version": "3.7.1"
  }
 },
 "nbformat": 4,
 "nbformat_minor": 2
}
