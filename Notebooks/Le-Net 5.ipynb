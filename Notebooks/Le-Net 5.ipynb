{
 "cells": [
  {
   "cell_type": "code",
   "execution_count": 1,
   "metadata": {},
   "outputs": [
    {
     "name": "stderr",
     "output_type": "stream",
     "text": [
      "Using TensorFlow backend.\n"
     ]
    }
   ],
   "source": [
    "import tensorflow as tf\n",
    "\n",
    "import keras\n",
    "from keras.models import Sequential\n",
    "from keras.layers.convolutional import Conv2D, MaxPooling2D, AveragePooling2D\n",
    "from keras.layers import Dense, Activation, Dropout, Flatten,BatchNormalization\n",
    "from keras.callbacks import EarlyStopping, ModelCheckpoint, ReduceLROnPlateau\n",
    "from keras.constraints import maxnorm\n",
    "from keras.utils import np_utils\n",
    "from keras.preprocessing import image\n",
    "from keras.preprocessing.image import ImageDataGenerator\n",
    "\n",
    "from random import seed\n",
    "from random import randint\n",
    "\n",
    "\n",
    "import pandas as pd\n",
    "import numpy as np\n",
    "import matplotlib.pyplot as plt\n",
    "\n",
    "from sklearn.metrics import classification_report as cr"
   ]
  },
  {
   "cell_type": "code",
   "execution_count": 2,
   "metadata": {},
   "outputs": [
    {
     "data": {
      "text/html": [
       "<div>\n",
       "<style scoped>\n",
       "    .dataframe tbody tr th:only-of-type {\n",
       "        vertical-align: middle;\n",
       "    }\n",
       "\n",
       "    .dataframe tbody tr th {\n",
       "        vertical-align: top;\n",
       "    }\n",
       "\n",
       "    .dataframe thead th {\n",
       "        text-align: right;\n",
       "    }\n",
       "</style>\n",
       "<table border=\"1\" class=\"dataframe\">\n",
       "  <thead>\n",
       "    <tr style=\"text-align: right;\">\n",
       "      <th></th>\n",
       "      <th>emocion</th>\n",
       "      <th>pixels</th>\n",
       "      <th>uso</th>\n",
       "    </tr>\n",
       "  </thead>\n",
       "  <tbody>\n",
       "    <tr>\n",
       "      <td>0</td>\n",
       "      <td>emotion</td>\n",
       "      <td>pixels</td>\n",
       "      <td>Usage</td>\n",
       "    </tr>\n",
       "    <tr>\n",
       "      <td>1</td>\n",
       "      <td>0</td>\n",
       "      <td>70 80 82 72 58 58 60 63 54 58 60 48 89 115 121...</td>\n",
       "      <td>Training</td>\n",
       "    </tr>\n",
       "    <tr>\n",
       "      <td>2</td>\n",
       "      <td>0</td>\n",
       "      <td>151 150 147 155 148 133 111 140 170 174 182 15...</td>\n",
       "      <td>Training</td>\n",
       "    </tr>\n",
       "    <tr>\n",
       "      <td>3</td>\n",
       "      <td>2</td>\n",
       "      <td>231 212 156 164 174 138 161 173 182 200 106 38...</td>\n",
       "      <td>Training</td>\n",
       "    </tr>\n",
       "    <tr>\n",
       "      <td>4</td>\n",
       "      <td>4</td>\n",
       "      <td>24 32 36 30 32 23 19 20 30 41 21 22 32 34 21 1...</td>\n",
       "      <td>Training</td>\n",
       "    </tr>\n",
       "    <tr>\n",
       "      <td>5</td>\n",
       "      <td>6</td>\n",
       "      <td>4 0 0 0 0 0 0 0 0 0 0 0 3 15 23 28 48 50 58 84...</td>\n",
       "      <td>Training</td>\n",
       "    </tr>\n",
       "    <tr>\n",
       "      <td>6</td>\n",
       "      <td>2</td>\n",
       "      <td>55 55 55 55 55 54 60 68 54 85 151 163 170 179 ...</td>\n",
       "      <td>Training</td>\n",
       "    </tr>\n",
       "    <tr>\n",
       "      <td>7</td>\n",
       "      <td>4</td>\n",
       "      <td>20 17 19 21 25 38 42 42 46 54 56 62 63 66 82 1...</td>\n",
       "      <td>Training</td>\n",
       "    </tr>\n",
       "    <tr>\n",
       "      <td>8</td>\n",
       "      <td>3</td>\n",
       "      <td>77 78 79 79 78 75 60 55 47 48 58 73 77 79 57 5...</td>\n",
       "      <td>Training</td>\n",
       "    </tr>\n",
       "    <tr>\n",
       "      <td>9</td>\n",
       "      <td>3</td>\n",
       "      <td>85 84 90 121 101 102 133 153 153 169 177 189 1...</td>\n",
       "      <td>Training</td>\n",
       "    </tr>\n",
       "  </tbody>\n",
       "</table>\n",
       "</div>"
      ],
      "text/plain": [
       "   emocion                                             pixels       uso\n",
       "0  emotion                                             pixels     Usage\n",
       "1        0  70 80 82 72 58 58 60 63 54 58 60 48 89 115 121...  Training\n",
       "2        0  151 150 147 155 148 133 111 140 170 174 182 15...  Training\n",
       "3        2  231 212 156 164 174 138 161 173 182 200 106 38...  Training\n",
       "4        4  24 32 36 30 32 23 19 20 30 41 21 22 32 34 21 1...  Training\n",
       "5        6  4 0 0 0 0 0 0 0 0 0 0 0 3 15 23 28 48 50 58 84...  Training\n",
       "6        2  55 55 55 55 55 54 60 68 54 85 151 163 170 179 ...  Training\n",
       "7        4  20 17 19 21 25 38 42 42 46 54 56 62 63 66 82 1...  Training\n",
       "8        3  77 78 79 79 78 75 60 55 47 48 58 73 77 79 57 5...  Training\n",
       "9        3  85 84 90 121 101 102 133 153 153 169 177 189 1...  Training"
      ]
     },
     "execution_count": 2,
     "metadata": {},
     "output_type": "execute_result"
    }
   ],
   "source": [
    "seed = 16\n",
    "filename = '../fer2013.csv'\n",
    "label_map = ['Enfado', 'Asco', 'Miedo', 'Alegria', 'Tristeza', 'Sorpresa', 'Neutral']\n",
    "label_map = np.array(label_map)\n",
    "names=['emocion','pixels','uso']\n",
    "df=pd.read_csv(filename,names=names, na_filter=False)\n",
    "im=df['pixels']\n",
    "df.head(10)"
   ]
  },
  {
   "cell_type": "code",
   "execution_count": 3,
   "metadata": {},
   "outputs": [],
   "source": [
    "def loadData(filname):\n",
    "    \n",
    "    Y_train = []\n",
    "    X_train = []\n",
    "    Y_test = []\n",
    "    X_test = []\n",
    "    \n",
    "    first = True\n",
    "    uso = 'Training\\n'\n",
    "    for line in open(filname):\n",
    "        if first:\n",
    "            first = False\n",
    "        else:\n",
    "            row = line.split(',')\n",
    "            condition = str(row[2])\n",
    "            if condition == 'Training\\n':\n",
    "                Y_train.append(int(row[0]))\n",
    "                X_train.append([int(p) for p in row[1].split()])\n",
    "            else:\n",
    "                Y_test.append(int(row[0]))\n",
    "                X_test.append([int(p) for p in row[1].split()])\n",
    "                \n",
    "    X_train, Y_train = np.array(X_train)/255.0 , np.array(Y_train)\n",
    "    X_test, Y_test = np.array(X_test)/255.0 , np.array(Y_test)\n",
    "\n",
    "    return X_train, X_test, Y_train, Y_test "
   ]
  },
  {
   "cell_type": "code",
   "execution_count": 4,
   "metadata": {},
   "outputs": [],
   "source": [
    "X_train, X_test, Y_train, Y_test= loadData(filename)"
   ]
  },
  {
   "cell_type": "code",
   "execution_count": 5,
   "metadata": {},
   "outputs": [],
   "source": [
    "N_train = X_train.shape[0]\n",
    "N_test = X_test.shape[0]\n",
    "X_train = X_train.reshape(N_train, 48, 48,1)\n",
    "X_test = X_test.reshape(N_test, 48, 48,1)"
   ]
  },
  {
   "cell_type": "code",
   "execution_count": 6,
   "metadata": {},
   "outputs": [],
   "source": [
    "# one hot encode output\n",
    "Y_train = np_utils.to_categorical(Y_train)\n",
    "Y_test = np_utils.to_categorical(Y_test)\n",
    "class_num = Y_test.shape[1]"
   ]
  },
  {
   "cell_type": "code",
   "execution_count": 7,
   "metadata": {},
   "outputs": [
    {
     "name": "stdout",
     "output_type": "stream",
     "text": [
      "WARNING:tensorflow:From D:\\Users\\Mateo\\Anaconda3\\lib\\site-packages\\tensorflow\\python\\ops\\resource_variable_ops.py:435: colocate_with (from tensorflow.python.framework.ops) is deprecated and will be removed in a future version.\n",
      "Instructions for updating:\n",
      "Colocations handled automatically by placer.\n"
     ]
    }
   ],
   "source": [
    "model = Sequential()\n",
    "\n",
    "model.add(Conv2D(6,(5,5),input_shape=X_train.shape[1:],padding = 'valid', strides = 1, activation = 'tanh'))\n",
    "model.add(AveragePooling2D(pool_size=(2, 2)))\n",
    "model.add(Conv2D(16,(5,5),input_shape=X_train.shape[1:],padding = 'valid', strides = 1, activation = 'tanh'))\n",
    "model.add(AveragePooling2D(pool_size=(2, 2)))\n",
    "model.add(Flatten())\n",
    "model.add(Dense(128, activation='tanh',kernel_constraint=maxnorm(3)))\n",
    "model.add(Dense(class_num, activation='softmax',kernel_constraint=maxnorm(3)))"
   ]
  },
  {
   "cell_type": "code",
   "execution_count": 8,
   "metadata": {},
   "outputs": [
    {
     "name": "stdout",
     "output_type": "stream",
     "text": [
      "Model: \"sequential_1\"\n",
      "_________________________________________________________________\n",
      "Layer (type)                 Output Shape              Param #   \n",
      "=================================================================\n",
      "conv2d_1 (Conv2D)            (None, 44, 44, 6)         156       \n",
      "_________________________________________________________________\n",
      "average_pooling2d_1 (Average (None, 22, 22, 6)         0         \n",
      "_________________________________________________________________\n",
      "conv2d_2 (Conv2D)            (None, 18, 18, 16)        2416      \n",
      "_________________________________________________________________\n",
      "average_pooling2d_2 (Average (None, 9, 9, 16)          0         \n",
      "_________________________________________________________________\n",
      "flatten_1 (Flatten)          (None, 1296)              0         \n",
      "_________________________________________________________________\n",
      "dense_1 (Dense)              (None, 128)               166016    \n",
      "_________________________________________________________________\n",
      "dense_2 (Dense)              (None, 7)                 903       \n",
      "=================================================================\n",
      "Total params: 169,491\n",
      "Trainable params: 169,491\n",
      "Non-trainable params: 0\n",
      "_________________________________________________________________\n"
     ]
    }
   ],
   "source": [
    "model.summary()\n",
    "optimizer = 'adam'\n",
    "model.compile(loss='categorical_crossentropy', optimizer=optimizer, metrics=['accuracy'])\n"
   ]
  },
  {
   "cell_type": "code",
   "execution_count": 10,
   "metadata": {},
   "outputs": [
    {
     "name": "stdout",
     "output_type": "stream",
     "text": [
      "WARNING:tensorflow:From D:\\Users\\Mateo\\Anaconda3\\lib\\site-packages\\tensorflow\\python\\ops\\math_ops.py:3066: to_int32 (from tensorflow.python.ops.math_ops) is deprecated and will be removed in a future version.\n",
      "Instructions for updating:\n",
      "Use tf.cast instead.\n",
      "Train on 28709 samples, validate on 7178 samples\n",
      "Epoch 1/100\n",
      "28709/28709 [==============================] - 42s 1ms/step - loss: 1.6829 - accuracy: 0.3413 - val_loss: 1.6374 - val_accuracy: 0.3643\n",
      "Epoch 2/100\n",
      "28709/28709 [==============================] - 40s 1ms/step - loss: 1.6330 - accuracy: 0.3626 - val_loss: 1.6258 - val_accuracy: 0.3692\n",
      "Epoch 3/100\n",
      "28709/28709 [==============================] - 40s 1ms/step - loss: 1.6213 - accuracy: 0.3703 - val_loss: 1.6181 - val_accuracy: 0.3760\n",
      "Epoch 4/100\n",
      "28709/28709 [==============================] - 40s 1ms/step - loss: 1.6151 - accuracy: 0.3749 - val_loss: 1.6171 - val_accuracy: 0.3823\n",
      "Epoch 5/100\n",
      "28709/28709 [==============================] - 40s 1ms/step - loss: 1.6103 - accuracy: 0.3765 - val_loss: 1.6195 - val_accuracy: 0.3732\n",
      "Epoch 6/100\n",
      "28709/28709 [==============================] - 40s 1ms/step - loss: 1.6021 - accuracy: 0.3789 - val_loss: 1.6168 - val_accuracy: 0.3713\n",
      "Epoch 7/100\n",
      "28709/28709 [==============================] - 40s 1ms/step - loss: 1.5907 - accuracy: 0.3837 - val_loss: 1.5874 - val_accuracy: 0.3855\n",
      "Epoch 8/100\n",
      "28709/28709 [==============================] - 40s 1ms/step - loss: 1.5669 - accuracy: 0.3920 - val_loss: 1.5695 - val_accuracy: 0.3943\n",
      "Epoch 9/100\n",
      "28709/28709 [==============================] - 40s 1ms/step - loss: 1.5401 - accuracy: 0.4006 - val_loss: 1.5345 - val_accuracy: 0.4029\n",
      "Epoch 10/100\n",
      "28709/28709 [==============================] - 40s 1ms/step - loss: 1.4991 - accuracy: 0.4180 - val_loss: 1.5144 - val_accuracy: 0.4111\n",
      "Epoch 11/100\n",
      "28709/28709 [==============================] - 40s 1ms/step - loss: 1.4533 - accuracy: 0.4382 - val_loss: 1.5091 - val_accuracy: 0.4189\n",
      "Epoch 12/100\n",
      "28709/28709 [==============================] - 40s 1ms/step - loss: 1.4038 - accuracy: 0.4593 - val_loss: 1.5019 - val_accuracy: 0.4250\n",
      "Epoch 13/100\n",
      "28709/28709 [==============================] - 40s 1ms/step - loss: 1.3514 - accuracy: 0.4829 - val_loss: 1.4802 - val_accuracy: 0.4284\n",
      "Epoch 14/100\n",
      "28709/28709 [==============================] - 40s 1ms/step - loss: 1.2974 - accuracy: 0.5080 - val_loss: 1.4670 - val_accuracy: 0.4398\n",
      "Epoch 15/100\n",
      "28709/28709 [==============================] - 40s 1ms/step - loss: 1.2404 - accuracy: 0.5327 - val_loss: 1.4785 - val_accuracy: 0.4388\n",
      "Epoch 16/100\n",
      "28709/28709 [==============================] - 39s 1ms/step - loss: 1.1811 - accuracy: 0.5598 - val_loss: 1.4791 - val_accuracy: 0.4443\n",
      "Epoch 17/100\n",
      "28709/28709 [==============================] - 40s 1ms/step - loss: 1.1211 - accuracy: 0.5869 - val_loss: 1.4932 - val_accuracy: 0.4479\n",
      "Epoch 18/100\n",
      "28709/28709 [==============================] - 40s 1ms/step - loss: 1.0660 - accuracy: 0.6133 - val_loss: 1.5030 - val_accuracy: 0.4564\n",
      "Epoch 19/100\n",
      "28709/28709 [==============================] - 39s 1ms/step - loss: 1.0067 - accuracy: 0.6334 - val_loss: 1.5296 - val_accuracy: 0.4486\n",
      "Epoch 20/100\n",
      "28709/28709 [==============================] - 40s 1ms/step - loss: 0.9505 - accuracy: 0.6591 - val_loss: 1.5400 - val_accuracy: 0.4507\n",
      "Epoch 21/100\n",
      "28709/28709 [==============================] - 42s 1ms/step - loss: 0.8973 - accuracy: 0.6836 - val_loss: 1.5635 - val_accuracy: 0.4501\n",
      "\n",
      "Epoch 00021: ReduceLROnPlateau reducing learning rate to 0.00010000000474974513.\n",
      "Epoch 22/100\n",
      "28709/28709 [==============================] - 42s 1ms/step - loss: 0.7362 - accuracy: 0.7637 - val_loss: 1.5403 - val_accuracy: 0.4576\n",
      "Epoch 23/100\n",
      "28709/28709 [==============================] - 42s 1ms/step - loss: 0.7043 - accuracy: 0.7841 - val_loss: 1.5417 - val_accuracy: 0.4607\n",
      "Epoch 24/100\n",
      "28709/28709 [==============================] - 40s 1ms/step - loss: 0.6886 - accuracy: 0.7930 - val_loss: 1.5466 - val_accuracy: 0.4606\n"
     ]
    },
    {
     "data": {
      "text/plain": [
       "<keras.callbacks.callbacks.History at 0x25f2feb3d08>"
      ]
     },
     "execution_count": 10,
     "metadata": {},
     "output_type": "execute_result"
    }
   ],
   "source": [
    "epochs = 100\n",
    "\n",
    "es = EarlyStopping(monitor='val_loss', patience=10, verbose=0, mode='min')\n",
    "mc = ModelCheckpoint('.ln5_1.hdf5', save_best_only=True, monitor='val_loss', mode='min')\n",
    "rlr = ReduceLROnPlateau(monitor='val_loss', factor=0.1, patience=7, verbose=1, mode='min')\n",
    "\n",
    "np.random.seed(16)\n",
    "cb =  [es,mc,rlr]\n",
    "model.fit(X_train, Y_train, validation_data=(X_test, Y_test), epochs=epochs, batch_size=64, callbacks = cb)"
   ]
  },
  {
   "cell_type": "code",
   "execution_count": 9,
   "metadata": {},
   "outputs": [],
   "source": [
    "model.load_weights('.ln5_1.hdf5')\n",
    "pred = np.array(model.predict(X_test))\n",
    "pred = np.around(pred)\n",
    "pred = pred.astype(int)\n",
    "Y_test = Y_test.astype(int)\n",
    "\n",
    "\n"
   ]
  },
  {
   "cell_type": "code",
   "execution_count": 10,
   "metadata": {},
   "outputs": [],
   "source": [
    "from sklearn.metrics import confusion_matrix\n",
    "from sklearn.utils.multiclass import unique_labels\n",
    "import matplotlib.pyplot as plt\n",
    "import numpy as np\n",
    "\n",
    "def plot_confusion_matrix(y_true, y_pred, classes,\n",
    "                          normalize=False,\n",
    "                          title=None,\n",
    "                          cmap=plt.cm.Blues):\n",
    "    \"\"\"\n",
    "    This function prints and plots the confusion matrix.\n",
    "    Normalization can be applied by setting `normalize=True`.\n",
    "    \"\"\"\n",
    "    if not title:\n",
    "        if normalize:\n",
    "            title = 'Normalized confusion matrix'\n",
    "        else:\n",
    "            title = 'Confusion matrix, without normalization'\n",
    "\n",
    "    # Compute confusion matrix\n",
    "    cm = confusion_matrix(y_true, y_pred)\n",
    "    # Only use the labels that appear in the data\n",
    "    classes = classes[unique_labels(y_true, y_pred)]\n",
    "    if normalize:\n",
    "        cm = cm.astype('float') / cm.sum(axis=1)[:, np.newaxis]\n",
    "        print(\"Normalized confusion matrix\")\n",
    "    else:\n",
    "        print('Confusion matrix')\n",
    "\n",
    "    print(cm)\n",
    "\n",
    "    fig, ax = plt.subplots(figsize = (5,5))\n",
    "  \n",
    "    im = ax.imshow(cm, interpolation='nearest', cmap=cmap)\n",
    "    ax.figure.colorbar(im, ax=ax)\n",
    "    # We want to show all ticks...\n",
    "    ax.set(xticks=np.arange(cm.shape[1]),\n",
    "           yticks=np.arange(cm.shape[0]),\n",
    "           # ... and label them with the respective list entries\n",
    "           xticklabels=classes, yticklabels=classes,\n",
    "           title=title,\n",
    "           ylabel='True label',\n",
    "           xlabel='Predicted label')\n",
    "    ax.set_ylim(-0.5, 6.5)\n",
    "\n",
    "    # Rotate the tick labels and set their alignment.\n",
    "    plt.setp(ax.get_xticklabels(), rotation=45, ha=\"right\",\n",
    "             rotation_mode=\"anchor\")\n",
    "\n",
    "    # Loop over data dimensions and create text annotations.\n",
    "    fmt = '.2f' if normalize else 'd'\n",
    "    thresh = cm.max() / 2.\n",
    "    for i in range(cm.shape[0]):\n",
    "        for j in range(cm.shape[1]):\n",
    "            ax.text(j, i, format(cm[i, j], fmt),\n",
    "                    ha=\"center\", va=\"center\",\n",
    "                    color=\"white\" if cm[i, j] > thresh else \"black\")\n",
    "    fig.tight_layout()\n",
    "    return ax"
   ]
  },
  {
   "cell_type": "code",
   "execution_count": 11,
   "metadata": {},
   "outputs": [
    {
     "name": "stdout",
     "output_type": "stream",
     "text": [
      "Confusion matrix\n",
      "[[ 783    0   10  111   22   10   22]\n",
      " [  97    4    1    6    2    0    1]\n",
      " [ 796    0   40   76   33   45   34]\n",
      " [ 723    0    2 1003   26   10   10]\n",
      " [ 977    0    7  114  102    6   41]\n",
      " [ 432    0    7   51    6  327    8]\n",
      " [ 896    0    7  134   27   11  158]]\n"
     ]
    },
    {
     "data": {
      "text/plain": [
       "<matplotlib.axes._subplots.AxesSubplot at 0x2f592a20948>"
      ]
     },
     "execution_count": 11,
     "metadata": {},
     "output_type": "execute_result"
    },
    {
     "data": {
      "image/png": "[encoded data removed]",
      "text/plain": [
       "<Figure size 360x360 with 2 Axes>"
      ]
     },
     "metadata": {
      "needs_background": "light"
     },
     "output_type": "display_data"
    }
   ],
   "source": [
    "plot_confusion_matrix(Y_test.argmax(axis=1),pred.argmax(axis=1),label_map)"
   ]
  },
  {
   "cell_type": "code",
   "execution_count": 12,
   "metadata": {},
   "outputs": [
    {
     "name": "stdout",
     "output_type": "stream",
     "text": [
      "              precision    recall  f1-score   support\n",
      "\n",
      "      Enfado       0.17      0.82      0.28       958\n",
      "        Asco       1.00      0.04      0.07       111\n",
      "       Miedo       0.54      0.04      0.07      1024\n",
      "     Alegria       0.67      0.57      0.61      1774\n",
      "    Tristeza       0.47      0.08      0.14      1247\n",
      "    Sorpresa       0.80      0.39      0.53       831\n",
      "     Neutral       0.58      0.13      0.21      1233\n",
      "\n",
      "    accuracy                           0.34      7178\n",
      "   macro avg       0.60      0.29      0.27      7178\n",
      "weighted avg       0.55      0.34      0.32      7178\n",
      "\n"
     ]
    }
   ],
   "source": [
    "print(cr(Y_test.argmax(axis=1),pred.argmax(axis=1),target_names = label_map))\n"
   ]
  },
  {
   "cell_type": "code",
   "execution_count": 13,
   "metadata": {},
   "outputs": [
    {
     "name": "stdout",
     "output_type": "stream",
     "text": [
      "Model: \"sequential_2\"\n",
      "_________________________________________________________________\n",
      "Layer (type)                 Output Shape              Param #   \n",
      "=================================================================\n",
      "conv2d_3 (Conv2D)            (None, 44, 44, 6)         156       \n",
      "_________________________________________________________________\n",
      "average_pooling2d_3 (Average (None, 22, 22, 6)         0         \n",
      "_________________________________________________________________\n",
      "conv2d_4 (Conv2D)            (None, 18, 18, 16)        2416      \n",
      "_________________________________________________________________\n",
      "average_pooling2d_4 (Average (None, 9, 9, 16)          0         \n",
      "_________________________________________________________________\n",
      "flatten_2 (Flatten)          (None, 1296)              0         \n",
      "_________________________________________________________________\n",
      "dense_3 (Dense)              (None, 128)               166016    \n",
      "_________________________________________________________________\n",
      "dense_4 (Dense)              (None, 7)                 903       \n",
      "=================================================================\n",
      "Total params: 169,491\n",
      "Trainable params: 169,491\n",
      "Non-trainable params: 0\n",
      "_________________________________________________________________\n"
     ]
    }
   ],
   "source": [
    "model = Sequential()\n",
    "\n",
    "model.add(Conv2D(6,(5,5),input_shape=X_train.shape[1:],padding = 'valid', strides = 1, activation = 'relu'))\n",
    "model.add(AveragePooling2D(pool_size=(2, 2)))\n",
    "model.add(Conv2D(16,(5,5),input_shape=X_train.shape[1:],padding = 'valid', strides = 1, activation = 'relu'))\n",
    "model.add(AveragePooling2D(pool_size=(2, 2)))\n",
    "model.add(Flatten())\n",
    "model.add(Dense(128, activation='relu',kernel_constraint=maxnorm(3)))\n",
    "model.add(Dense(class_num, activation='softmax',kernel_constraint=maxnorm(3)))\n",
    "model.summary()\n",
    "model.compile(loss='categorical_crossentropy', optimizer=optimizer, metrics=['accuracy'])"
   ]
  },
  {
   "cell_type": "code",
   "execution_count": 19,
   "metadata": {},
   "outputs": [
    {
     "name": "stdout",
     "output_type": "stream",
     "text": [
      "Train on 28709 samples, validate on 7178 samples\n",
      "Epoch 1/100\n",
      "28709/28709 [==============================] - 42s 1ms/step - loss: 1.6709 - accuracy: 0.3421 - val_loss: 1.5765 - val_accuracy: 0.3906\n",
      "Epoch 2/100\n",
      "28709/28709 [==============================] - 41s 1ms/step - loss: 1.5260 - accuracy: 0.4142 - val_loss: 1.4870 - val_accuracy: 0.4259\n",
      "Epoch 3/100\n",
      "28709/28709 [==============================] - 43s 1ms/step - loss: 1.4458 - accuracy: 0.4444 - val_loss: 1.4421 - val_accuracy: 0.4466\n",
      "Epoch 4/100\n",
      "28709/28709 [==============================] - 42s 1ms/step - loss: 1.3791 - accuracy: 0.4709 - val_loss: 1.4165 - val_accuracy: 0.4539\n",
      "Epoch 5/100\n",
      "28709/28709 [==============================] - 42s 1ms/step - loss: 1.3202 - accuracy: 0.4975 - val_loss: 1.3632 - val_accuracy: 0.4778\n",
      "Epoch 6/100\n",
      "28709/28709 [==============================] - 44s 2ms/step - loss: 1.2706 - accuracy: 0.5174 - val_loss: 1.3334 - val_accuracy: 0.4851\n",
      "Epoch 7/100\n",
      "28709/28709 [==============================] - 47s 2ms/step - loss: 1.2233 - accuracy: 0.5371 - val_loss: 1.3308 - val_accuracy: 0.4976\n",
      "Epoch 8/100\n",
      "28709/28709 [==============================] - 43s 2ms/step - loss: 1.1807 - accuracy: 0.5563 - val_loss: 1.3247 - val_accuracy: 0.4985\n",
      "Epoch 9/100\n",
      "28709/28709 [==============================] - 47s 2ms/step - loss: 1.1414 - accuracy: 0.5717 - val_loss: 1.3088 - val_accuracy: 0.5015\n",
      "Epoch 10/100\n",
      "28709/28709 [==============================] - 44s 2ms/step - loss: 1.1027 - accuracy: 0.5879 - val_loss: 1.3076 - val_accuracy: 0.5084\n",
      "Epoch 11/100\n",
      "28709/28709 [==============================] - 43s 2ms/step - loss: 1.0600 - accuracy: 0.6074 - val_loss: 1.3093 - val_accuracy: 0.5077\n",
      "Epoch 12/100\n",
      "28709/28709 [==============================] - 42s 1ms/step - loss: 1.0223 - accuracy: 0.6229 - val_loss: 1.3419 - val_accuracy: 0.5078\n",
      "Epoch 13/100\n",
      "28709/28709 [==============================] - 42s 1ms/step - loss: 0.9819 - accuracy: 0.6403 - val_loss: 1.3470 - val_accuracy: 0.5067\n",
      "Epoch 14/100\n",
      "28709/28709 [==============================] - 43s 1ms/step - loss: 0.9397 - accuracy: 0.6559 - val_loss: 1.3583 - val_accuracy: 0.5216\n",
      "Epoch 15/100\n",
      "28709/28709 [==============================] - 42s 1ms/step - loss: 0.9035 - accuracy: 0.6668 - val_loss: 1.3693 - val_accuracy: 0.5082\n",
      "Epoch 16/100\n",
      "28709/28709 [==============================] - 42s 1ms/step - loss: 0.8664 - accuracy: 0.6876 - val_loss: 1.4080 - val_accuracy: 0.5153\n",
      "Epoch 17/100\n",
      "28709/28709 [==============================] - 42s 1ms/step - loss: 0.8332 - accuracy: 0.6978 - val_loss: 1.4094 - val_accuracy: 0.5146\n",
      "\n",
      "Epoch 00017: ReduceLROnPlateau reducing learning rate to 0.00010000000474974513.\n",
      "Epoch 18/100\n",
      "28709/28709 [==============================] - 43s 2ms/step - loss: 0.6816 - accuracy: 0.7684 - val_loss: 1.4193 - val_accuracy: 0.5259\n",
      "Epoch 19/100\n",
      "28709/28709 [==============================] - 44s 2ms/step - loss: 0.6522 - accuracy: 0.7790 - val_loss: 1.4429 - val_accuracy: 0.5210\n",
      "Epoch 20/100\n",
      "28709/28709 [==============================] - 43s 1ms/step - loss: 0.6374 - accuracy: 0.7840 - val_loss: 1.4518 - val_accuracy: 0.5258\n"
     ]
    },
    {
     "data": {
      "text/plain": [
       "<keras.callbacks.callbacks.History at 0x25f48272348>"
      ]
     },
     "execution_count": 19,
     "metadata": {},
     "output_type": "execute_result"
    }
   ],
   "source": [
    "\n",
    "\n",
    "mc = ModelCheckpoint('.ln5_2.hdf5', save_best_only=True, monitor='val_loss', mode='min')\n",
    "cb =  [es,mc,rlr]\n",
    "\n",
    "model.fit(X_train, Y_train, validation_data=(X_test, Y_test), epochs=epochs, batch_size=64, callbacks = cb)\n"
   ]
  },
  {
   "cell_type": "code",
   "execution_count": 14,
   "metadata": {},
   "outputs": [
    {
     "name": "stdout",
     "output_type": "stream",
     "text": [
      "Confusion matrix\n",
      "[[ 764    1   32   57   27   24   53]\n",
      " [  97    8    0    3    1    1    1]\n",
      " [ 676    0  122   54   41   75   56]\n",
      " [ 533    0   12 1124   16   40   49]\n",
      " [ 892    0   33   88  120   14  100]\n",
      " [ 274    0   22   25    4  493   13]\n",
      " [ 724    1   12   90   30   16  360]]\n",
      "              precision    recall  f1-score   support\n",
      "\n",
      "      Enfado       0.19      0.80      0.31       958\n",
      "        Asco       0.80      0.07      0.13       111\n",
      "       Miedo       0.52      0.12      0.19      1024\n",
      "     Alegria       0.78      0.63      0.70      1774\n",
      "    Tristeza       0.50      0.10      0.16      1247\n",
      "    Sorpresa       0.74      0.59      0.66       831\n",
      "     Neutral       0.57      0.29      0.39      1233\n",
      "\n",
      "    accuracy                           0.42      7178\n",
      "   macro avg       0.59      0.37      0.36      7178\n",
      "weighted avg       0.58      0.42      0.41      7178\n",
      "\n"
     ]
    },
    {
     "data": {
      "image/png": "[encoded data removed]",
      "text/plain": [
       "<Figure size 360x360 with 2 Axes>"
      ]
     },
     "metadata": {
      "needs_background": "light"
     },
     "output_type": "display_data"
    }
   ],
   "source": [
    "model.load_weights('.ln5_2.hdf5')\n",
    "pred = np.array(model.predict(X_test))\n",
    "pred = np.around(pred)\n",
    "pred = pred.astype(int)\n",
    "Y_test = Y_test.astype(int)\n",
    "\n",
    "\n",
    "plot_confusion_matrix(Y_test.argmax(axis=1),pred.argmax(axis=1),label_map)\n",
    "print(cr(Y_test.argmax(axis=1),pred.argmax(axis=1),target_names = label_map))"
   ]
  },
  {
   "cell_type": "code",
   "execution_count": 15,
   "metadata": {},
   "outputs": [
    {
     "name": "stdout",
     "output_type": "stream",
     "text": [
      "Model: \"sequential_3\"\n",
      "_________________________________________________________________\n",
      "Layer (type)                 Output Shape              Param #   \n",
      "=================================================================\n",
      "conv2d_5 (Conv2D)            (None, 44, 44, 6)         156       \n",
      "_________________________________________________________________\n",
      "dropout_1 (Dropout)          (None, 44, 44, 6)         0         \n",
      "_________________________________________________________________\n",
      "batch_normalization_1 (Batch (None, 44, 44, 6)         24        \n",
      "_________________________________________________________________\n",
      "max_pooling2d_1 (MaxPooling2 (None, 22, 22, 6)         0         \n",
      "_________________________________________________________________\n",
      "conv2d_6 (Conv2D)            (None, 18, 18, 16)        2416      \n",
      "_________________________________________________________________\n",
      "dropout_2 (Dropout)          (None, 18, 18, 16)        0         \n",
      "_________________________________________________________________\n",
      "batch_normalization_2 (Batch (None, 18, 18, 16)        64        \n",
      "_________________________________________________________________\n",
      "max_pooling2d_2 (MaxPooling2 (None, 9, 9, 16)          0         \n",
      "_________________________________________________________________\n",
      "flatten_3 (Flatten)          (None, 1296)              0         \n",
      "_________________________________________________________________\n",
      "dense_5 (Dense)              (None, 128)               166016    \n",
      "_________________________________________________________________\n",
      "dropout_3 (Dropout)          (None, 128)               0         \n",
      "_________________________________________________________________\n",
      "batch_normalization_3 (Batch (None, 128)               512       \n",
      "_________________________________________________________________\n",
      "dense_6 (Dense)              (None, 7)                 903       \n",
      "=================================================================\n",
      "Total params: 170,091\n",
      "Trainable params: 169,791\n",
      "Non-trainable params: 300\n",
      "_________________________________________________________________\n"
     ]
    }
   ],
   "source": [
    "model = Sequential()\n",
    "\n",
    "model.add(Conv2D(6,(5,5),input_shape=X_train.shape[1:],padding = 'valid', strides = 1, activation = 'relu'))\n",
    "model.add(Dropout(0.25))\n",
    "model.add(BatchNormalization())\n",
    "model.add(MaxPooling2D(pool_size=(2, 2)))\n",
    "model.add(Conv2D(16,(5,5),input_shape=X_train.shape[1:],padding = 'valid', strides = 1, activation = 'relu'))\n",
    "model.add(Dropout(0.25))\n",
    "model.add(BatchNormalization())\n",
    "model.add(MaxPooling2D(pool_size=(2, 2)))\n",
    "model.add(Flatten())\n",
    "model.add(Dense(128, activation='relu',kernel_constraint=maxnorm(3)))\n",
    "model.add(Dropout(0.25))\n",
    "model.add(BatchNormalization())\n",
    "model.add(Dense(class_num, activation='softmax',kernel_constraint=maxnorm(3)))\n",
    "model.summary()\n",
    "model.compile(loss='categorical_crossentropy', optimizer=optimizer, metrics=['accuracy'])"
   ]
  },
  {
   "cell_type": "code",
   "execution_count": 22,
   "metadata": {},
   "outputs": [
    {
     "name": "stdout",
     "output_type": "stream",
     "text": [
      "Train on 28709 samples, validate on 7178 samples\n",
      "Epoch 1/100\n",
      "28709/28709 [==============================] - 64s 2ms/step - loss: 1.7672 - accuracy: 0.3510 - val_loss: 2.0141 - val_accuracy: 0.2885\n",
      "Epoch 2/100\n",
      "28709/28709 [==============================] - 62s 2ms/step - loss: 1.4559 - accuracy: 0.4381 - val_loss: 1.4308 - val_accuracy: 0.4558\n",
      "Epoch 3/100\n",
      "28709/28709 [==============================] - 62s 2ms/step - loss: 1.3752 - accuracy: 0.4713 - val_loss: 1.4536 - val_accuracy: 0.4323\n",
      "Epoch 4/100\n",
      "28709/28709 [==============================] - 61s 2ms/step - loss: 1.3301 - accuracy: 0.4903 - val_loss: 1.3744 - val_accuracy: 0.4677\n",
      "Epoch 5/100\n",
      "28709/28709 [==============================] - 62s 2ms/step - loss: 1.2726 - accuracy: 0.5121 - val_loss: 1.3383 - val_accuracy: 0.4859\n",
      "Epoch 6/100\n",
      "28709/28709 [==============================] - 62s 2ms/step - loss: 1.2326 - accuracy: 0.5315 - val_loss: 1.2864 - val_accuracy: 0.5056\n",
      "Epoch 7/100\n",
      "28709/28709 [==============================] - 61s 2ms/step - loss: 1.1953 - accuracy: 0.5474 - val_loss: 1.2735 - val_accuracy: 0.5070\n",
      "Epoch 8/100\n",
      "28709/28709 [==============================] - 62s 2ms/step - loss: 1.1662 - accuracy: 0.5556 - val_loss: 1.3639 - val_accuracy: 0.4993\n",
      "Epoch 9/100\n",
      "28709/28709 [==============================] - 62s 2ms/step - loss: 1.1296 - accuracy: 0.5713 - val_loss: 1.7963 - val_accuracy: 0.4872\n",
      "Epoch 10/100\n",
      "28709/28709 [==============================] - 62s 2ms/step - loss: 1.1013 - accuracy: 0.5824 - val_loss: 1.2688 - val_accuracy: 0.5098\n",
      "Epoch 11/100\n",
      "28709/28709 [==============================] - 64s 2ms/step - loss: 1.0893 - accuracy: 0.5893 - val_loss: 1.2719 - val_accuracy: 0.5201\n",
      "Epoch 12/100\n",
      "28709/28709 [==============================] - 64s 2ms/step - loss: 1.0621 - accuracy: 0.6023 - val_loss: 1.2434 - val_accuracy: 0.5272\n",
      "Epoch 13/100\n",
      "28709/28709 [==============================] - 62s 2ms/step - loss: 1.0323 - accuracy: 0.6121 - val_loss: 1.2507 - val_accuracy: 0.5249\n",
      "Epoch 14/100\n",
      "28709/28709 [==============================] - 63s 2ms/step - loss: 1.0195 - accuracy: 0.6186 - val_loss: 1.2715 - val_accuracy: 0.5266\n",
      "Epoch 15/100\n",
      "28709/28709 [==============================] - 63s 2ms/step - loss: 1.0039 - accuracy: 0.6231 - val_loss: 1.2604 - val_accuracy: 0.5301\n",
      "Epoch 16/100\n",
      "28709/28709 [==============================] - 62s 2ms/step - loss: 1.0007 - accuracy: 0.6258 - val_loss: 1.3806 - val_accuracy: 0.5222\n",
      "Epoch 17/100\n",
      "28709/28709 [==============================] - 62s 2ms/step - loss: 0.9803 - accuracy: 0.6351 - val_loss: 1.3131 - val_accuracy: 0.5070\n",
      "Epoch 18/100\n",
      "28709/28709 [==============================] - 62s 2ms/step - loss: 0.9715 - accuracy: 0.6345 - val_loss: 1.2471 - val_accuracy: 0.5295\n",
      "Epoch 19/100\n",
      "28709/28709 [==============================] - 61s 2ms/step - loss: 0.9706 - accuracy: 0.6338 - val_loss: 1.2726 - val_accuracy: 0.5177\n",
      "\n",
      "Epoch 00019: ReduceLROnPlateau reducing learning rate to 0.00010000000474974513.\n",
      "Epoch 20/100\n",
      "28709/28709 [==============================] - 63s 2ms/step - loss: 0.8793 - accuracy: 0.6750 - val_loss: 1.2422 - val_accuracy: 0.5350\n",
      "Epoch 21/100\n",
      "28709/28709 [==============================] - 62s 2ms/step - loss: 0.8560 - accuracy: 0.6837 - val_loss: 1.2351 - val_accuracy: 0.5385\n",
      "Epoch 22/100\n",
      "28709/28709 [==============================] - 61s 2ms/step - loss: 0.8410 - accuracy: 0.6874 - val_loss: 1.2452 - val_accuracy: 0.5396\n",
      "Epoch 23/100\n",
      "28709/28709 [==============================] - 63s 2ms/step - loss: 0.8308 - accuracy: 0.6942 - val_loss: 1.2411 - val_accuracy: 0.5411\n",
      "Epoch 24/100\n",
      "28709/28709 [==============================] - 65s 2ms/step - loss: 0.8303 - accuracy: 0.6949 - val_loss: 1.2387 - val_accuracy: 0.5432\n",
      "Epoch 25/100\n",
      "28709/28709 [==============================] - 64s 2ms/step - loss: 0.8115 - accuracy: 0.6978 - val_loss: 1.2455 - val_accuracy: 0.5450\n",
      "Epoch 26/100\n",
      "28709/28709 [==============================] - 64s 2ms/step - loss: 0.8054 - accuracy: 0.7027 - val_loss: 1.2396 - val_accuracy: 0.5464\n",
      "Epoch 27/100\n",
      "28709/28709 [==============================] - 63s 2ms/step - loss: 0.7969 - accuracy: 0.7064 - val_loss: 1.2340 - val_accuracy: 0.5444\n",
      "Epoch 28/100\n",
      "28709/28709 [==============================] - 64s 2ms/step - loss: 0.7916 - accuracy: 0.7078 - val_loss: 1.2444 - val_accuracy: 0.5433\n",
      "Epoch 29/100\n",
      "28709/28709 [==============================] - 65s 2ms/step - loss: 0.7918 - accuracy: 0.7108 - val_loss: 1.2379 - val_accuracy: 0.5456\n",
      "Epoch 30/100\n",
      "28709/28709 [==============================] - 63s 2ms/step - loss: 0.7855 - accuracy: 0.7082 - val_loss: 1.2491 - val_accuracy: 0.5440\n",
      "Epoch 31/100\n",
      "28709/28709 [==============================] - 63s 2ms/step - loss: 0.7838 - accuracy: 0.7101 - val_loss: 1.2445 - val_accuracy: 0.5398\n",
      "Epoch 32/100\n",
      "28709/28709 [==============================] - 64s 2ms/step - loss: 0.7757 - accuracy: 0.7125 - val_loss: 1.2453 - val_accuracy: 0.5436\n",
      "Epoch 33/100\n",
      "28709/28709 [==============================] - 65s 2ms/step - loss: 0.7663 - accuracy: 0.7139 - val_loss: 1.2511 - val_accuracy: 0.5450\n",
      "Epoch 34/100\n",
      "28709/28709 [==============================] - 64s 2ms/step - loss: 0.7681 - accuracy: 0.7138 - val_loss: 1.2546 - val_accuracy: 0.5426\n",
      "\n",
      "Epoch 00034: ReduceLROnPlateau reducing learning rate to 1.0000000474974514e-05.\n",
      "Epoch 35/100\n",
      "28709/28709 [==============================] - 63s 2ms/step - loss: 0.7597 - accuracy: 0.7181 - val_loss: 1.2513 - val_accuracy: 0.5454\n",
      "Epoch 36/100\n",
      "28709/28709 [==============================] - 65s 2ms/step - loss: 0.7554 - accuracy: 0.7221 - val_loss: 1.2535 - val_accuracy: 0.5453\n",
      "Epoch 37/100\n",
      "28709/28709 [==============================] - 70s 2ms/step - loss: 0.7549 - accuracy: 0.7214 - val_loss: 1.2556 - val_accuracy: 0.5461\n"
     ]
    },
    {
     "data": {
      "text/plain": [
       "<keras.callbacks.callbacks.History at 0x25f492d0108>"
      ]
     },
     "execution_count": 22,
     "metadata": {},
     "output_type": "execute_result"
    }
   ],
   "source": [
    "\n",
    "\n",
    "mc = ModelCheckpoint('.ln5_3.hdf5', save_best_only=True, monitor='val_loss', mode='min')\n",
    "cb =  [es,mc,rlr]\n",
    "\n",
    "model.fit(X_train, Y_train, validation_data=(X_test, Y_test), epochs=epochs, batch_size=64, callbacks = cb)"
   ]
  },
  {
   "cell_type": "code",
   "execution_count": 16,
   "metadata": {},
   "outputs": [
    {
     "name": "stdout",
     "output_type": "stream",
     "text": [
      "Confusion matrix\n",
      "[[ 706    0   29   65   77   12   69]\n",
      " [  70   28    1    7    2    0    3]\n",
      " [ 592    2  157   56  110   44   63]\n",
      " [ 384    0   11 1270   37   16   56]\n",
      " [ 695    0   30   88  315    6  113]\n",
      " [ 247    0   29   43   13  474   25]\n",
      " [ 578    1   14   87   70    5  478]]\n",
      "              precision    recall  f1-score   support\n",
      "\n",
      "      Enfado       0.22      0.74      0.33       958\n",
      "        Asco       0.90      0.25      0.39       111\n",
      "       Miedo       0.58      0.15      0.24      1024\n",
      "     Alegria       0.79      0.72      0.75      1774\n",
      "    Tristeza       0.50      0.25      0.34      1247\n",
      "    Sorpresa       0.85      0.57      0.68       831\n",
      "     Neutral       0.59      0.39      0.47      1233\n",
      "\n",
      "    accuracy                           0.48      7178\n",
      "   macro avg       0.63      0.44      0.46      7178\n",
      "weighted avg       0.61      0.48      0.49      7178\n",
      "\n"
     ]
    },
    {
     "data": {
      "image/png": "[encoded data removed]",
      "text/plain": [
       "<Figure size 360x360 with 2 Axes>"
      ]
     },
     "metadata": {
      "needs_background": "light"
     },
     "output_type": "display_data"
    }
   ],
   "source": [
    "model.load_weights('.ln5_3.hdf5')\n",
    "pred = np.array(model.predict(X_test))\n",
    "pred = np.around(pred)\n",
    "pred = pred.astype(int)\n",
    "Y_test = Y_test.astype(int)\n",
    "\n",
    "\n",
    "plot_confusion_matrix(Y_test.argmax(axis=1),pred.argmax(axis=1),label_map)\n",
    "print(cr(Y_test.argmax(axis=1),pred.argmax(axis=1),target_names = label_map))"
   ]
  },
  {
   "cell_type": "code",
   "execution_count": 17,
   "metadata": {},
   "outputs": [],
   "source": [
    "X_train, X_test, Y_train, Y_test= loadData(filename)\n",
    "X_train = X_train.reshape(N_train, 48, 48)"
   ]
  },
  {
   "cell_type": "code",
   "execution_count": 18,
   "metadata": {},
   "outputs": [],
   "source": [
    "def mirror(img):\n",
    "    copy = img.copy()\n",
    "    indx = range(copy.shape[1]-1, -1, -1)\n",
    "    copy = np.flip(copy, axis = 1)\n",
    "    return copy\n",
    "\n",
    "\n",
    "def random_erasing(img):\n",
    "    copy = img.copy()\n",
    "    numero_parches=(randint(1,3))\n",
    "    for i in range(numero_parches):\n",
    "        tam_h = randint(5,15)\n",
    "        tam_v = randint(5,15)   \n",
    "        start_h = randint(0,copy.shape[1]-tam_h)\n",
    "        start_v = randint(0,copy.shape[0]-tam_v) \n",
    "        for i in range(tam_v):\n",
    "            for j in range(tam_h):\n",
    "                copy[start_v+i, start_h+j] = 1\n",
    "    return copy\n",
    "\n",
    "\n",
    "def tras_x(img, tras):\n",
    "    order = []\n",
    "    for i in range(tras):\n",
    "        order = order + [0]\n",
    "    order = order + list(range(img.shape[1]- tras))\n",
    "    copy = img[:,order]\n",
    "    return copy\n",
    "\n",
    "\n",
    "def tras_y(img, tras):\n",
    "    order = []\n",
    "    for i in range(tras):\n",
    "        order = order + [0]\n",
    "    order = order + list(range(img.shape[0]- tras))\n",
    "    copy = img[order,:]\n",
    "    return copy"
   ]
  },
  {
   "cell_type": "code",
   "execution_count": 8,
   "metadata": {},
   "outputs": [],
   "source": [
    "nuevo = []\n",
    "etiquetas = []\n",
    "\n",
    "\n",
    "for i in range(N_train):\n",
    "    \n",
    "    if np.random.random() < 0.5:\n",
    "        n = mirror(X_train[i])\n",
    "        nuevo += [n]\n",
    "        etiquetas += [Y_train[i]]\n",
    "        \n",
    "    if np.random.random() < 0.5:\n",
    "        if np.random.random() < 0.5:\n",
    "            n = tras_x(X_train[i],randint(5,15))\n",
    "        else:\n",
    "            n = tras_y(X_train[i],randint(5,10))\n",
    "        nuevo += [n]\n",
    "        etiquetas += [Y_train[i]]\n",
    "        \n",
    "    if np.random.random() < 0.25:\n",
    "        n = random_erasing(X_train[i])\n",
    "        nuevo += [n]\n",
    "        etiquetas += [Y_train[i]]\n",
    "        \n",
    "\n",
    "    \n",
    "    \n",
    "if len(etiquetas) > 0: \n",
    "    nuevo = np.array(nuevo)\n",
    "    etiquetas =  np.array(etiquetas)\n",
    "    X_train= np.append(X_train,nuevo,axis=0)\n",
    "    Y_train = np.append(Y_train, etiquetas)"
   ]
  },
  {
   "cell_type": "code",
   "execution_count": 19,
   "metadata": {},
   "outputs": [],
   "source": [
    "N_train = X_train.shape[0]\n",
    "N_test = X_test.shape[0]\n",
    "X_train = X_train.reshape(N_train, 48, 48,1)\n",
    "X_test = X_test.reshape(N_test, 48, 48,1)\n",
    "Y_train = np_utils.to_categorical(Y_train)\n",
    "Y_test = np_utils.to_categorical(Y_test)\n",
    "class_num = Y_test.shape[1]"
   ]
  },
  {
   "cell_type": "code",
   "execution_count": 20,
   "metadata": {},
   "outputs": [
    {
     "name": "stdout",
     "output_type": "stream",
     "text": [
      "Model: \"sequential_4\"\n",
      "_________________________________________________________________\n",
      "Layer (type)                 Output Shape              Param #   \n",
      "=================================================================\n",
      "conv2d_7 (Conv2D)            (None, 44, 44, 6)         156       \n",
      "_________________________________________________________________\n",
      "dropout_4 (Dropout)          (None, 44, 44, 6)         0         \n",
      "_________________________________________________________________\n",
      "batch_normalization_4 (Batch (None, 44, 44, 6)         24        \n",
      "_________________________________________________________________\n",
      "max_pooling2d_3 (MaxPooling2 (None, 22, 22, 6)         0         \n",
      "_________________________________________________________________\n",
      "conv2d_8 (Conv2D)            (None, 18, 18, 16)        2416      \n",
      "_________________________________________________________________\n",
      "dropout_5 (Dropout)          (None, 18, 18, 16)        0         \n",
      "_________________________________________________________________\n",
      "batch_normalization_5 (Batch (None, 18, 18, 16)        64        \n",
      "_________________________________________________________________\n",
      "max_pooling2d_4 (MaxPooling2 (None, 9, 9, 16)          0         \n",
      "_________________________________________________________________\n",
      "flatten_4 (Flatten)          (None, 1296)              0         \n",
      "_________________________________________________________________\n",
      "dense_7 (Dense)              (None, 128)               166016    \n",
      "_________________________________________________________________\n",
      "dropout_6 (Dropout)          (None, 128)               0         \n",
      "_________________________________________________________________\n",
      "batch_normalization_6 (Batch (None, 128)               512       \n",
      "_________________________________________________________________\n",
      "dense_8 (Dense)              (None, 7)                 903       \n",
      "=================================================================\n",
      "Total params: 170,091\n",
      "Trainable params: 169,791\n",
      "Non-trainable params: 300\n",
      "_________________________________________________________________\n"
     ]
    }
   ],
   "source": [
    "model = Sequential()\n",
    "\n",
    "model.add(Conv2D(6,(5,5),input_shape=X_train.shape[1:],padding = 'valid', strides = 1, activation = 'relu'))\n",
    "model.add(Dropout(0.25))\n",
    "model.add(BatchNormalization())\n",
    "model.add(MaxPooling2D(pool_size=(2, 2)))\n",
    "model.add(Conv2D(16,(5,5),input_shape=X_train.shape[1:],padding = 'valid', strides = 1, activation = 'relu'))\n",
    "model.add(Dropout(0.25))\n",
    "model.add(BatchNormalization())\n",
    "model.add(MaxPooling2D(pool_size=(2, 2)))\n",
    "model.add(Flatten())\n",
    "model.add(Dense(128, activation='relu',kernel_constraint=maxnorm(3)))\n",
    "model.add(Dropout(0.25))\n",
    "model.add(BatchNormalization())\n",
    "model.add(Dense(class_num, activation='softmax',kernel_constraint=maxnorm(3)))\n",
    "model.summary()\n",
    "model.compile(loss='categorical_crossentropy', optimizer=optimizer, metrics=['accuracy'])"
   ]
  },
  {
   "cell_type": "code",
   "execution_count": 16,
   "metadata": {},
   "outputs": [
    {
     "name": "stdout",
     "output_type": "stream",
     "text": [
      "WARNING:tensorflow:From D:\\Users\\Mateo\\Anaconda3\\lib\\site-packages\\tensorflow\\python\\ops\\math_ops.py:3066: to_int32 (from tensorflow.python.ops.math_ops) is deprecated and will be removed in a future version.\n",
      "Instructions for updating:\n",
      "Use tf.cast instead.\n",
      "Train on 64727 samples, validate on 7178 samples\n",
      "Epoch 1/100\n",
      "64727/64727 [==============================] - 136s 2ms/step - loss: 1.7333 - accuracy: 0.3351 - val_loss: 1.5819 - val_accuracy: 0.3877\n",
      "Epoch 2/100\n",
      "64727/64727 [==============================] - 135s 2ms/step - loss: 1.5064 - accuracy: 0.4136 - val_loss: 1.4609 - val_accuracy: 0.4397\n",
      "Epoch 3/100\n",
      "64727/64727 [==============================] - 136s 2ms/step - loss: 1.4219 - accuracy: 0.4498 - val_loss: 1.3531 - val_accuracy: 0.4755\n",
      "Epoch 4/100\n",
      "64727/64727 [==============================] - 137s 2ms/step - loss: 1.3620 - accuracy: 0.4762 - val_loss: 1.3903 - val_accuracy: 0.4652\n",
      "Epoch 5/100\n",
      "64727/64727 [==============================] - 138s 2ms/step - loss: 1.3241 - accuracy: 0.4923 - val_loss: 1.5714 - val_accuracy: 0.4448\n",
      "Epoch 6/100\n",
      "64727/64727 [==============================] - 139s 2ms/step - loss: 1.2921 - accuracy: 0.5062 - val_loss: 1.3142 - val_accuracy: 0.4978\n",
      "Epoch 7/100\n",
      "64727/64727 [==============================] - 141s 2ms/step - loss: 1.2608 - accuracy: 0.5194 - val_loss: 1.3799 - val_accuracy: 0.4699\n",
      "Epoch 8/100\n",
      "64727/64727 [==============================] - 139s 2ms/step - loss: 1.2400 - accuracy: 0.5282 - val_loss: 1.3461 - val_accuracy: 0.4877\n",
      "Epoch 9/100\n",
      "64727/64727 [==============================] - 138s 2ms/step - loss: 1.2201 - accuracy: 0.5363 - val_loss: 1.2194 - val_accuracy: 0.5378\n",
      "Epoch 10/100\n",
      "64727/64727 [==============================] - 140s 2ms/step - loss: 1.2022 - accuracy: 0.5431 - val_loss: 1.2259 - val_accuracy: 0.5323\n",
      "Epoch 11/100\n",
      "64727/64727 [==============================] - 141s 2ms/step - loss: 1.1917 - accuracy: 0.5471 - val_loss: 1.2331 - val_accuracy: 0.5320\n",
      "Epoch 12/100\n",
      "64727/64727 [==============================] - 142s 2ms/step - loss: 1.1882 - accuracy: 0.5471 - val_loss: 1.2116 - val_accuracy: 0.5469\n",
      "Epoch 13/100\n",
      "64727/64727 [==============================] - 135s 2ms/step - loss: 1.1650 - accuracy: 0.5593 - val_loss: 1.1996 - val_accuracy: 0.5426\n",
      "Epoch 14/100\n",
      "64727/64727 [==============================] - 134s 2ms/step - loss: 1.1558 - accuracy: 0.5621 - val_loss: 1.2393 - val_accuracy: 0.5311\n",
      "Epoch 15/100\n",
      "64727/64727 [==============================] - 133s 2ms/step - loss: 1.1434 - accuracy: 0.5674 - val_loss: 1.1920 - val_accuracy: 0.5489\n",
      "Epoch 16/100\n",
      "64727/64727 [==============================] - 133s 2ms/step - loss: 1.1401 - accuracy: 0.5672 - val_loss: 1.1936 - val_accuracy: 0.5474\n",
      "Epoch 17/100\n",
      "64727/64727 [==============================] - 133s 2ms/step - loss: 1.1255 - accuracy: 0.5744 - val_loss: 1.2513 - val_accuracy: 0.5169\n",
      "Epoch 18/100\n",
      "64727/64727 [==============================] - 133s 2ms/step - loss: 1.1173 - accuracy: 0.5766 - val_loss: 1.1918 - val_accuracy: 0.5454\n",
      "Epoch 19/100\n",
      "64727/64727 [==============================] - 133s 2ms/step - loss: 1.1159 - accuracy: 0.5771 - val_loss: 1.1838 - val_accuracy: 0.5490\n",
      "Epoch 20/100\n",
      "64727/64727 [==============================] - 134s 2ms/step - loss: 1.1158 - accuracy: 0.5778 - val_loss: 1.2162 - val_accuracy: 0.5326\n",
      "Epoch 21/100\n",
      "64727/64727 [==============================] - 137s 2ms/step - loss: 1.1018 - accuracy: 0.5809 - val_loss: 1.1966 - val_accuracy: 0.5426\n",
      "Epoch 22/100\n",
      "64727/64727 [==============================] - 138s 2ms/step - loss: 1.0983 - accuracy: 0.5833 - val_loss: 1.2666 - val_accuracy: 0.5252\n",
      "Epoch 23/100\n",
      "64727/64727 [==============================] - 138s 2ms/step - loss: 1.0944 - accuracy: 0.5864 - val_loss: 1.2003 - val_accuracy: 0.5436\n",
      "Epoch 24/100\n",
      "64727/64727 [==============================] - 136s 2ms/step - loss: 1.0899 - accuracy: 0.5866 - val_loss: 1.2070 - val_accuracy: 0.5486\n",
      "Epoch 25/100\n",
      "64727/64727 [==============================] - 134s 2ms/step - loss: 1.0954 - accuracy: 0.5864 - val_loss: 1.2311 - val_accuracy: 0.5252\n",
      "Epoch 26/100\n",
      "64727/64727 [==============================] - 135s 2ms/step - loss: 1.0842 - accuracy: 0.5916 - val_loss: 1.2475 - val_accuracy: 0.5283\n",
      "\n",
      "Epoch 00026: ReduceLROnPlateau reducing learning rate to 0.00010000000474974513.\n",
      "Epoch 27/100\n",
      "64727/64727 [==============================] - 135s 2ms/step - loss: 1.0091 - accuracy: 0.6206 - val_loss: 1.1704 - val_accuracy: 0.5560\n",
      "Epoch 28/100\n",
      "64727/64727 [==============================] - 135s 2ms/step - loss: 0.9894 - accuracy: 0.6295 - val_loss: 1.1675 - val_accuracy: 0.5613\n",
      "Epoch 29/100\n",
      "64727/64727 [==============================] - 132s 2ms/step - loss: 0.9734 - accuracy: 0.6351 - val_loss: 1.1685 - val_accuracy: 0.5626\n",
      "Epoch 30/100\n",
      "64727/64727 [==============================] - 132s 2ms/step - loss: 0.9595 - accuracy: 0.6422 - val_loss: 1.1782 - val_accuracy: 0.5626\n",
      "Epoch 31/100\n",
      "64727/64727 [==============================] - 132s 2ms/step - loss: 0.9524 - accuracy: 0.6451 - val_loss: 1.1714 - val_accuracy: 0.5591\n",
      "Epoch 32/100\n",
      "64727/64727 [==============================] - 132s 2ms/step - loss: 0.9456 - accuracy: 0.6456 - val_loss: 1.1702 - val_accuracy: 0.5628\n",
      "Epoch 33/100\n",
      "64727/64727 [==============================] - 132s 2ms/step - loss: 0.9394 - accuracy: 0.6485 - val_loss: 1.1783 - val_accuracy: 0.5598\n",
      "Epoch 34/100\n",
      "64727/64727 [==============================] - 132s 2ms/step - loss: 0.9317 - accuracy: 0.6485 - val_loss: 1.1723 - val_accuracy: 0.5598\n",
      "Epoch 35/100\n",
      "64727/64727 [==============================] - 131s 2ms/step - loss: 0.9313 - accuracy: 0.6494 - val_loss: 1.1785 - val_accuracy: 0.5621\n",
      "\n",
      "Epoch 00035: ReduceLROnPlateau reducing learning rate to 1.0000000474974514e-05.\n",
      "Epoch 36/100\n",
      "64727/64727 [==============================] - 132s 2ms/step - loss: 0.9146 - accuracy: 0.6570 - val_loss: 1.1726 - val_accuracy: 0.5660\n",
      "Epoch 37/100\n",
      "64727/64727 [==============================] - 132s 2ms/step - loss: 0.9148 - accuracy: 0.6578 - val_loss: 1.1696 - val_accuracy: 0.5658\n",
      "Epoch 38/100\n",
      "64727/64727 [==============================] - 131s 2ms/step - loss: 0.9102 - accuracy: 0.6624 - val_loss: 1.1692 - val_accuracy: 0.5667\n"
     ]
    },
    {
     "data": {
      "text/plain": [
       "<keras.callbacks.callbacks.History at 0x27169437888>"
      ]
     },
     "execution_count": 16,
     "metadata": {},
     "output_type": "execute_result"
    }
   ],
   "source": [
    "mc = ModelCheckpoint('.ln5_dau.hdf5', save_best_only=True, monitor='val_loss', mode='min')\n",
    "\n",
    "cb =  [es,mc,rlr]\n",
    "model.fit(X_train, Y_train, validation_data=(X_test, Y_test), epochs=epochs, batch_size=64, callbacks = cb)"
   ]
  },
  {
   "cell_type": "code",
   "execution_count": 21,
   "metadata": {},
   "outputs": [
    {
     "name": "stdout",
     "output_type": "stream",
     "text": [
      "Confusion matrix\n",
      "[[ 804    2    9   50   53    7   33]\n",
      " [  76   22    1    6    6    0    0]\n",
      " [ 691    4  117   38   88   50   36]\n",
      " [ 444    1    3 1249   27   22   28]\n",
      " [ 825    0   12   40  295    8   67]\n",
      " [ 306    1   14   42    6  454    8]\n",
      " [ 721    0    2   61   59    6  384]]\n",
      "              precision    recall  f1-score   support\n",
      "\n",
      "      Enfado       0.21      0.84      0.33       958\n",
      "        Asco       0.73      0.20      0.31       111\n",
      "       Miedo       0.74      0.11      0.20      1024\n",
      "     Alegria       0.84      0.70      0.77      1774\n",
      "    Tristeza       0.55      0.24      0.33      1247\n",
      "    Sorpresa       0.83      0.55      0.66       831\n",
      "     Neutral       0.69      0.31      0.43      1233\n",
      "\n",
      "    accuracy                           0.46      7178\n",
      "   macro avg       0.66      0.42      0.43      7178\n",
      "weighted avg       0.66      0.46      0.47      7178\n",
      "\n"
     ]
    },
    {
     "data": {
      "image/png": "[encoded data removed]",
      "text/plain": [
       "<Figure size 360x360 with 2 Axes>"
      ]
     },
     "metadata": {
      "needs_background": "light"
     },
     "output_type": "display_data"
    }
   ],
   "source": [
    "model.load_weights('.ln5_dau.hdf5')\n",
    "pred = np.array(model.predict(X_test))\n",
    "pred = np.around(pred)\n",
    "pred = pred.astype(int)\n",
    "Y_test = Y_test.astype(int)\n",
    "\n",
    "\n",
    "\n",
    "plot_confusion_matrix(Y_test.argmax(axis=1),pred.argmax(axis=1),label_map)\n",
    "print(cr(Y_test.argmax(axis=1),pred.argmax(axis=1),target_names = label_map))"
   ]
  },
  {
   "cell_type": "code",
   "execution_count": null,
   "metadata": {},
   "outputs": [],
   "source": []
  }
 ],
 "metadata": {
  "kernelspec": {
   "display_name": "Python 3",
   "language": "python",
   "name": "python3"
  },
  "language_info": {
   "codemirror_mode": {
    "name": "ipython",
    "version": 3
   },
   "file_extension": ".py",
   "mimetype": "text/x-python",
   "name": "python",
   "nbconvert_exporter": "python",
   "pygments_lexer": "ipython3",
   "version": "3.7.4"
  }
 },
 "nbformat": 4,
 "nbformat_minor": 2
}
