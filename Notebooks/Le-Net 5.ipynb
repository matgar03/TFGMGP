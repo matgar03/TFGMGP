{
 "cells": [
  {
   "cell_type": "code",
   "execution_count": 1,
   "metadata": {},
   "outputs": [],
   "source": [
    "import tensorflow as tf\n",
    "\n",
    "import keras\n",
    "from keras.models import Sequential\n",
    "from keras.layers.convolutional import Conv2D, MaxPooling2D, AveragePooling2D\n",
    "from keras.layers import Dense, Activation, Dropout, Flatten,BatchNormalization\n",
    "from keras.callbacks import EarlyStopping\n",
    "\n",
    "from keras.constraints import maxnorm\n",
    "from keras.utils import np_utils\n",
    "from keras.preprocessing import image\n",
    "from keras.preprocessing.image import ImageDataGenerator\n",
    "import pandas as pd\n",
    "import numpy as np\n",
    "import matplotlib.pyplot as plt"
   ]
  },
  {
   "cell_type": "code",
   "execution_count": 2,
   "metadata": {},
   "outputs": [
    {
     "data": {
      "text/html": [
       "<div>\n",
       "<style scoped>\n",
       "    .dataframe tbody tr th:only-of-type {\n",
       "        vertical-align: middle;\n",
       "    }\n",
       "\n",
       "    .dataframe tbody tr th {\n",
       "        vertical-align: top;\n",
       "    }\n",
       "\n",
       "    .dataframe thead th {\n",
       "        text-align: right;\n",
       "    }\n",
       "</style>\n",
       "<table border=\"1\" class=\"dataframe\">\n",
       "  <thead>\n",
       "    <tr style=\"text-align: right;\">\n",
       "      <th></th>\n",
       "      <th>emocion</th>\n",
       "      <th>pixels</th>\n",
       "      <th>uso</th>\n",
       "    </tr>\n",
       "  </thead>\n",
       "  <tbody>\n",
       "    <tr>\n",
       "      <th>0</th>\n",
       "      <td>emotion</td>\n",
       "      <td>pixels</td>\n",
       "      <td>Usage</td>\n",
       "    </tr>\n",
       "    <tr>\n",
       "      <th>1</th>\n",
       "      <td>0</td>\n",
       "      <td>70 80 82 72 58 58 60 63 54 58 60 48 89 115 121...</td>\n",
       "      <td>Training</td>\n",
       "    </tr>\n",
       "    <tr>\n",
       "      <th>2</th>\n",
       "      <td>0</td>\n",
       "      <td>151 150 147 155 148 133 111 140 170 174 182 15...</td>\n",
       "      <td>Training</td>\n",
       "    </tr>\n",
       "    <tr>\n",
       "      <th>3</th>\n",
       "      <td>2</td>\n",
       "      <td>231 212 156 164 174 138 161 173 182 200 106 38...</td>\n",
       "      <td>Training</td>\n",
       "    </tr>\n",
       "    <tr>\n",
       "      <th>4</th>\n",
       "      <td>4</td>\n",
       "      <td>24 32 36 30 32 23 19 20 30 41 21 22 32 34 21 1...</td>\n",
       "      <td>Training</td>\n",
       "    </tr>\n",
       "    <tr>\n",
       "      <th>5</th>\n",
       "      <td>6</td>\n",
       "      <td>4 0 0 0 0 0 0 0 0 0 0 0 3 15 23 28 48 50 58 84...</td>\n",
       "      <td>Training</td>\n",
       "    </tr>\n",
       "    <tr>\n",
       "      <th>6</th>\n",
       "      <td>2</td>\n",
       "      <td>55 55 55 55 55 54 60 68 54 85 151 163 170 179 ...</td>\n",
       "      <td>Training</td>\n",
       "    </tr>\n",
       "    <tr>\n",
       "      <th>7</th>\n",
       "      <td>4</td>\n",
       "      <td>20 17 19 21 25 38 42 42 46 54 56 62 63 66 82 1...</td>\n",
       "      <td>Training</td>\n",
       "    </tr>\n",
       "    <tr>\n",
       "      <th>8</th>\n",
       "      <td>3</td>\n",
       "      <td>77 78 79 79 78 75 60 55 47 48 58 73 77 79 57 5...</td>\n",
       "      <td>Training</td>\n",
       "    </tr>\n",
       "    <tr>\n",
       "      <th>9</th>\n",
       "      <td>3</td>\n",
       "      <td>85 84 90 121 101 102 133 153 153 169 177 189 1...</td>\n",
       "      <td>Training</td>\n",
       "    </tr>\n",
       "  </tbody>\n",
       "</table>\n",
       "</div>"
      ],
      "text/plain": [
       "   emocion                                             pixels       uso\n",
       "0  emotion                                             pixels     Usage\n",
       "1        0  70 80 82 72 58 58 60 63 54 58 60 48 89 115 121...  Training\n",
       "2        0  151 150 147 155 148 133 111 140 170 174 182 15...  Training\n",
       "3        2  231 212 156 164 174 138 161 173 182 200 106 38...  Training\n",
       "4        4  24 32 36 30 32 23 19 20 30 41 21 22 32 34 21 1...  Training\n",
       "5        6  4 0 0 0 0 0 0 0 0 0 0 0 3 15 23 28 48 50 58 84...  Training\n",
       "6        2  55 55 55 55 55 54 60 68 54 85 151 163 170 179 ...  Training\n",
       "7        4  20 17 19 21 25 38 42 42 46 54 56 62 63 66 82 1...  Training\n",
       "8        3  77 78 79 79 78 75 60 55 47 48 58 73 77 79 57 5...  Training\n",
       "9        3  85 84 90 121 101 102 133 153 153 169 177 189 1...  Training"
      ]
     },
     "execution_count": 2,
     "metadata": {},
     "output_type": "execute_result"
    }
   ],
   "source": [
    "seed = 16\n",
    "filename = '../Datos/fer2013.csv'\n",
    "label_map = ['Enfado', 'Asco', 'Miedo', 'Alegria', 'Tristeza', 'Sorpresa', 'Neutral']\n",
    "names=['emocion','pixels','uso']\n",
    "df=pd.read_csv(filename,names=names, na_filter=False)\n",
    "im=df['pixels']\n",
    "df.head(10)"
   ]
  },
  {
   "cell_type": "code",
   "execution_count": 3,
   "metadata": {},
   "outputs": [],
   "source": [
    "def getData(filname):\n",
    "    # Las imagenes 48x48 en grayscale (de 0 a 255)\n",
    "    # N = 35887 (28709 de entrenamiento y 2304 de testeo)\n",
    "    Y_train = []\n",
    "    X_train = []\n",
    "    Y_test = []\n",
    "    X_test = []\n",
    "    \n",
    "    first = True\n",
    "    uso = 'Training\\n'\n",
    "    for line in open(filname):\n",
    "        #This condition skips the first condition\n",
    "        if first:\n",
    "            first = False\n",
    "        else:\n",
    "            row = line.split(',')\n",
    "            condition = str(row[2])\n",
    "            if condition == 'Training\\n':\n",
    "                Y_train.append(int(row[0]))\n",
    "                X_train.append([int(p) for p in row[1].split()])\n",
    "            else:\n",
    "                Y_test.append(int(row[0]))\n",
    "                X_test.append([int(p) for p in row[1].split()])\n",
    "                \n",
    "    X_train, Y_train = np.array(X_train)/255.0 , np.array(Y_train)\n",
    "    X_test, Y_test = np.array(X_test)/255.0 , np.array(Y_test)\n",
    "\n",
    "    return X_train, X_test, Y_train, Y_test "
   ]
  },
  {
   "cell_type": "code",
   "execution_count": 4,
   "metadata": {},
   "outputs": [],
   "source": [
    "X_train, X_test, Y_train, Y_test= getData(filename)"
   ]
  },
  {
   "cell_type": "code",
   "execution_count": 5,
   "metadata": {},
   "outputs": [],
   "source": [
    "N_train = X_train.shape[0]\n",
    "N_test = X_test.shape[0]\n",
    "X_train = X_train.reshape(N_train, 48, 48,1)\n",
    "X_test = X_test.reshape(N_test, 48, 48,1)"
   ]
  },
  {
   "cell_type": "code",
   "execution_count": 6,
   "metadata": {},
   "outputs": [
    {
     "name": "stdout",
     "output_type": "stream",
     "text": [
      "[3995, 436, 4097, 7215, 4830, 3171, 4965]\n",
      "[958, 111, 1024, 1774, 1247, 831, 1233]\n"
     ]
    }
   ],
   "source": [
    "cont_train = [0,0,0,0,0,0,0]\n",
    "for j in Y_train:\n",
    "    cont_train[j] += 1\n",
    "cont_test = [0,0,0,0,0,0,0]\n",
    "for j in Y_test:\n",
    "    cont_test[j] += 1\n",
    "\n",
    "print(cont_train)\n",
    "print(cont_test)"
   ]
  },
  {
   "cell_type": "code",
   "execution_count": 7,
   "metadata": {},
   "outputs": [],
   "source": [
    "# one hot encode output\n",
    "Y_train = np_utils.to_categorical(Y_train)\n",
    "Y_test = np_utils.to_categorical(Y_test)\n",
    "class_num = Y_test.shape[1]"
   ]
  },
  {
   "cell_type": "code",
   "execution_count": 8,
   "metadata": {},
   "outputs": [],
   "source": [
    "model = Sequential()\n",
    "\n",
    "model.add(Conv2D(6,(5,5),input_shape=X_train.shape[1:],padding = 'valid', strides = 1, activation = 'tanh'))\n",
    "model.add(AveragePooling2D(pool_size=(2, 2)))\n",
    "model.add(Conv2D(16,(5,5),input_shape=X_train.shape[1:],padding = 'valid', strides = 1, activation = 'tanh'))\n",
    "model.add(AveragePooling2D(pool_size=(2, 2)))\n",
    "model.add(Flatten())\n",
    "model.add(Dense(128, activation='tanh',kernel_constraint=maxnorm(3)))\n",
    "model.add(Dense(class_num, activation='softmax',kernel_constraint=maxnorm(3)))"
   ]
  },
  {
   "cell_type": "code",
   "execution_count": 9,
   "metadata": {},
   "outputs": [
    {
     "name": "stdout",
     "output_type": "stream",
     "text": [
      "Model: \"sequential\"\n",
      "_________________________________________________________________\n",
      "Layer (type)                 Output Shape              Param #   \n",
      "=================================================================\n",
      "conv2d (Conv2D)              (None, 44, 44, 6)         156       \n",
      "_________________________________________________________________\n",
      "average_pooling2d (AveragePo (None, 22, 22, 6)         0         \n",
      "_________________________________________________________________\n",
      "conv2d_1 (Conv2D)            (None, 18, 18, 16)        2416      \n",
      "_________________________________________________________________\n",
      "average_pooling2d_1 (Average (None, 9, 9, 16)          0         \n",
      "_________________________________________________________________\n",
      "flatten (Flatten)            (None, 1296)              0         \n",
      "_________________________________________________________________\n",
      "dense (Dense)                (None, 128)               166016    \n",
      "_________________________________________________________________\n",
      "dense_1 (Dense)              (None, 7)                 903       \n",
      "=================================================================\n",
      "Total params: 169,491\n",
      "Trainable params: 169,491\n",
      "Non-trainable params: 0\n",
      "_________________________________________________________________\n"
     ]
    }
   ],
   "source": [
    "model.summary()\n"
   ]
  },
  {
   "cell_type": "code",
   "execution_count": 10,
   "metadata": {},
   "outputs": [],
   "source": [
    "epochs = 100\n",
    "optimizer = 'adam'\n",
    "es = EarlyStopping(monitor='val_accuracy', mode='max', min_delta=0.1, verbose = 1, patience = 10)\n",
    "model.compile(loss='categorical_crossentropy', optimizer=optimizer, metrics=['accuracy'])"
   ]
  },
  {
   "cell_type": "code",
   "execution_count": 11,
   "metadata": {},
   "outputs": [
    {
     "name": "stdout",
     "output_type": "stream",
     "text": [
      "Epoch 1/100\n",
      "449/449 [==============================] - 29s 65ms/step - loss: 1.7022 - accuracy: 0.3292 - val_loss: 1.6436 - val_accuracy: 0.3671\n",
      "Epoch 2/100\n",
      "449/449 [==============================] - 30s 68ms/step - loss: 1.6379 - accuracy: 0.3657 - val_loss: 1.6280 - val_accuracy: 0.3792\n",
      "Epoch 3/100\n",
      "449/449 [==============================] - 29s 64ms/step - loss: 1.6247 - accuracy: 0.3708 - val_loss: 1.6185 - val_accuracy: 0.3777\n",
      "Epoch 4/100\n",
      "449/449 [==============================] - 29s 64ms/step - loss: 1.6168 - accuracy: 0.3743 - val_loss: 1.6179 - val_accuracy: 0.3807\n",
      "Epoch 5/100\n",
      "449/449 [==============================] - 29s 64ms/step - loss: 1.6130 - accuracy: 0.3766 - val_loss: 1.6197 - val_accuracy: 0.3746\n",
      "Epoch 6/100\n",
      "449/449 [==============================] - 29s 64ms/step - loss: 1.6060 - accuracy: 0.3801 - val_loss: 1.6222 - val_accuracy: 0.3721\n",
      "Epoch 7/100\n",
      "449/449 [==============================] - 29s 64ms/step - loss: 1.6012 - accuracy: 0.3826 - val_loss: 1.6178 - val_accuracy: 0.3709\n",
      "Epoch 8/100\n",
      "449/449 [==============================] - 127s 283ms/step - loss: 1.5914 - accuracy: 0.3840 - val_loss: 1.6038 - val_accuracy: 0.3817\n",
      "Epoch 9/100\n",
      "449/449 [==============================] - 27s 61ms/step - loss: 1.5752 - accuracy: 0.3900 - val_loss: 1.5886 - val_accuracy: 0.3852\n",
      "Epoch 10/100\n",
      "449/449 [==============================] - 29s 65ms/step - loss: 1.5536 - accuracy: 0.3953 - val_loss: 1.5560 - val_accuracy: 0.3948\n",
      "Epoch 11/100\n",
      "449/449 [==============================] - 28s 62ms/step - loss: 1.5235 - accuracy: 0.4100 - val_loss: 1.5384 - val_accuracy: 0.4016\n",
      "Epoch 00011: early stopping\n"
     ]
    },
    {
     "data": {
      "text/plain": [
       "<tensorflow.python.keras.callbacks.History at 0x16f1cba8608>"
      ]
     },
     "execution_count": 11,
     "metadata": {},
     "output_type": "execute_result"
    }
   ],
   "source": [
    "np.random.seed(16)\n",
    "cb =  [es]\n",
    "model.fit(X_train, Y_train, validation_data=(X_test, Y_test), epochs=epochs, batch_size=64, callbacks = cb)"
   ]
  },
  {
   "cell_type": "code",
   "execution_count": 12,
   "metadata": {},
   "outputs": [
    {
     "name": "stdout",
     "output_type": "stream",
     "text": [
      "Accuracy: 40.16%\n"
     ]
    }
   ],
   "source": [
    "scores = model.evaluate(X_test, Y_test, verbose=0)\n",
    "print(\"Accuracy: %.2f%%\" % (scores[1]*100))"
   ]
  },
  {
   "cell_type": "code",
   "execution_count": 13,
   "metadata": {},
   "outputs": [
    {
     "name": "stdout",
     "output_type": "stream",
     "text": [
      "Model: \"sequential_1\"\n",
      "_________________________________________________________________\n",
      "Layer (type)                 Output Shape              Param #   \n",
      "=================================================================\n",
      "conv2d_2 (Conv2D)            (None, 44, 44, 6)         156       \n",
      "_________________________________________________________________\n",
      "average_pooling2d_2 (Average (None, 22, 22, 6)         0         \n",
      "_________________________________________________________________\n",
      "conv2d_3 (Conv2D)            (None, 18, 18, 16)        2416      \n",
      "_________________________________________________________________\n",
      "average_pooling2d_3 (Average (None, 9, 9, 16)          0         \n",
      "_________________________________________________________________\n",
      "flatten_1 (Flatten)          (None, 1296)              0         \n",
      "_________________________________________________________________\n",
      "dense_2 (Dense)              (None, 128)               166016    \n",
      "_________________________________________________________________\n",
      "dense_3 (Dense)              (None, 7)                 903       \n",
      "=================================================================\n",
      "Total params: 169,491\n",
      "Trainable params: 169,491\n",
      "Non-trainable params: 0\n",
      "_________________________________________________________________\n"
     ]
    }
   ],
   "source": [
    "model = Sequential()\n",
    "\n",
    "model.add(Conv2D(6,(5,5),input_shape=X_train.shape[1:],padding = 'valid', strides = 1, activation = 'relu'))\n",
    "model.add(AveragePooling2D(pool_size=(2, 2)))\n",
    "model.add(Conv2D(16,(5,5),input_shape=X_train.shape[1:],padding = 'valid', strides = 1, activation = 'relu'))\n",
    "model.add(AveragePooling2D(pool_size=(2, 2)))\n",
    "model.add(Flatten())\n",
    "model.add(Dense(128, activation='relu',kernel_constraint=maxnorm(3)))\n",
    "model.add(Dense(class_num, activation='softmax',kernel_constraint=maxnorm(3)))\n",
    "model.summary()"
   ]
  },
  {
   "cell_type": "code",
   "execution_count": 14,
   "metadata": {},
   "outputs": [
    {
     "name": "stdout",
     "output_type": "stream",
     "text": [
      "Epoch 1/100\n",
      "449/449 [==============================] - 28s 62ms/step - loss: 1.6903 - accuracy: 0.3334 - val_loss: 1.6023 - val_accuracy: 0.3816\n",
      "Epoch 2/100\n",
      "449/449 [==============================] - 30s 67ms/step - loss: 1.5501 - accuracy: 0.4009 - val_loss: 1.5149 - val_accuracy: 0.4136\n",
      "Epoch 3/100\n",
      "449/449 [==============================] - 30s 66ms/step - loss: 1.4799 - accuracy: 0.4294 - val_loss: 1.4803 - val_accuracy: 0.4259\n",
      "Epoch 4/100\n",
      "449/449 [==============================] - 30s 68ms/step - loss: 1.4241 - accuracy: 0.4521 - val_loss: 1.4354 - val_accuracy: 0.4533\n",
      "Epoch 5/100\n",
      "449/449 [==============================] - 29s 65ms/step - loss: 1.3699 - accuracy: 0.4766 - val_loss: 1.4056 - val_accuracy: 0.4611\n",
      "Epoch 6/100\n",
      "449/449 [==============================] - 28s 63ms/step - loss: 1.3238 - accuracy: 0.4933 - val_loss: 1.3823 - val_accuracy: 0.4677\n",
      "Epoch 7/100\n",
      "449/449 [==============================] - 28s 62ms/step - loss: 1.2758 - accuracy: 0.5146 - val_loss: 1.3684 - val_accuracy: 0.4739\n",
      "Epoch 8/100\n",
      "449/449 [==============================] - 28s 63ms/step - loss: 1.2314 - accuracy: 0.5339 - val_loss: 1.3735 - val_accuracy: 0.4746\n",
      "Epoch 9/100\n",
      "449/449 [==============================] - 28s 62ms/step - loss: 1.1841 - accuracy: 0.5535 - val_loss: 1.3698 - val_accuracy: 0.4762\n",
      "Epoch 10/100\n",
      "449/449 [==============================] - 28s 62ms/step - loss: 1.1426 - accuracy: 0.5725 - val_loss: 1.3785 - val_accuracy: 0.4873\n",
      "Epoch 11/100\n",
      "449/449 [==============================] - 28s 63ms/step - loss: 1.0964 - accuracy: 0.5897 - val_loss: 1.3881 - val_accuracy: 0.4879\n",
      "Epoch 12/100\n",
      "449/449 [==============================] - 28s 62ms/step - loss: 1.0524 - accuracy: 0.6112 - val_loss: 1.4128 - val_accuracy: 0.4894\n",
      "Epoch 13/100\n",
      "449/449 [==============================] - 26s 58ms/step - loss: 1.0080 - accuracy: 0.6306 - val_loss: 1.4094 - val_accuracy: 0.4877\n",
      "Epoch 14/100\n",
      "449/449 [==============================] - 27s 61ms/step - loss: 0.9606 - accuracy: 0.6465 - val_loss: 1.4278 - val_accuracy: 0.4930\n",
      "Epoch 15/100\n",
      "449/449 [==============================] - 26s 58ms/step - loss: 0.9180 - accuracy: 0.6653 - val_loss: 1.4482 - val_accuracy: 0.4902\n",
      "Epoch 16/100\n",
      "449/449 [==============================] - 26s 58ms/step - loss: 0.8759 - accuracy: 0.6790 - val_loss: 1.4730 - val_accuracy: 0.4886\n",
      "Epoch 17/100\n",
      "449/449 [==============================] - 27s 60ms/step - loss: 0.8345 - accuracy: 0.6972 - val_loss: 1.5023 - val_accuracy: 0.4872\n",
      "Epoch 18/100\n",
      "449/449 [==============================] - 28s 62ms/step - loss: 0.7965 - accuracy: 0.7125 - val_loss: 1.5476 - val_accuracy: 0.4939\n",
      "Epoch 19/100\n",
      "449/449 [==============================] - 26s 59ms/step - loss: 0.7582 - accuracy: 0.7286 - val_loss: 1.5932 - val_accuracy: 0.4804\n",
      "Epoch 20/100\n",
      "449/449 [==============================] - 25s 56ms/step - loss: 0.7237 - accuracy: 0.7420 - val_loss: 1.6039 - val_accuracy: 0.4855\n",
      "Epoch 00020: early stopping\n"
     ]
    },
    {
     "data": {
      "text/plain": [
       "<tensorflow.python.keras.callbacks.History at 0x16f3b321808>"
      ]
     },
     "execution_count": 14,
     "metadata": {},
     "output_type": "execute_result"
    }
   ],
   "source": [
    "model.compile(loss='categorical_crossentropy', optimizer=optimizer, metrics=['accuracy'])\n",
    "model.fit(X_train, Y_train, validation_data=(X_test, Y_test), epochs=epochs, batch_size=64, callbacks = cb)"
   ]
  },
  {
   "cell_type": "code",
   "execution_count": 15,
   "metadata": {},
   "outputs": [
    {
     "name": "stdout",
     "output_type": "stream",
     "text": [
      "Accuracy: 48.55%\n"
     ]
    }
   ],
   "source": [
    "scores = model.evaluate(X_test, Y_test, verbose=0)\n",
    "print(\"Accuracy: %.2f%%\" % (scores[1]*100))"
   ]
  },
  {
   "cell_type": "code",
   "execution_count": 16,
   "metadata": {},
   "outputs": [
    {
     "name": "stdout",
     "output_type": "stream",
     "text": [
      "Model: \"sequential_2\"\n",
      "_________________________________________________________________\n",
      "Layer (type)                 Output Shape              Param #   \n",
      "=================================================================\n",
      "conv2d_4 (Conv2D)            (None, 44, 44, 6)         156       \n",
      "_________________________________________________________________\n",
      "max_pooling2d (MaxPooling2D) (None, 22, 22, 6)         0         \n",
      "_________________________________________________________________\n",
      "conv2d_5 (Conv2D)            (None, 18, 18, 16)        2416      \n",
      "_________________________________________________________________\n",
      "max_pooling2d_1 (MaxPooling2 (None, 9, 9, 16)          0         \n",
      "_________________________________________________________________\n",
      "flatten_2 (Flatten)          (None, 1296)              0         \n",
      "_________________________________________________________________\n",
      "dense_4 (Dense)              (None, 128)               166016    \n",
      "_________________________________________________________________\n",
      "dense_5 (Dense)              (None, 7)                 903       \n",
      "=================================================================\n",
      "Total params: 169,491\n",
      "Trainable params: 169,491\n",
      "Non-trainable params: 0\n",
      "_________________________________________________________________\n"
     ]
    }
   ],
   "source": [
    "model = Sequential()\n",
    "\n",
    "model.add(Conv2D(6,(5,5),input_shape=X_train.shape[1:],padding = 'valid', strides = 1, activation = 'relu'))\n",
    "model.add(MaxPooling2D(pool_size=(2, 2)))\n",
    "model.add(Conv2D(16,(5,5),input_shape=X_train.shape[1:],padding = 'valid', strides = 1, activation = 'relu'))\n",
    "model.add(MaxPooling2D(pool_size=(2, 2)))\n",
    "model.add(Flatten())\n",
    "model.add(Dense(128, activation='relu',kernel_constraint=maxnorm(3)))\n",
    "model.add(Dense(class_num, activation='softmax',kernel_constraint=maxnorm(3)))\n",
    "model.summary()"
   ]
  },
  {
   "cell_type": "code",
   "execution_count": 17,
   "metadata": {},
   "outputs": [
    {
     "name": "stdout",
     "output_type": "stream",
     "text": [
      "Epoch 1/100\n",
      "449/449 [==============================] - 28s 61ms/step - loss: 1.6452 - accuracy: 0.3574 - val_loss: 1.5195 - val_accuracy: 0.4142\n",
      "Epoch 2/100\n",
      "449/449 [==============================] - 31s 68ms/step - loss: 1.4764 - accuracy: 0.4335 - val_loss: 1.4249 - val_accuracy: 0.4537\n",
      "Epoch 3/100\n",
      "449/449 [==============================] - 26s 58ms/step - loss: 1.3935 - accuracy: 0.4669 - val_loss: 1.3796 - val_accuracy: 0.4703\n",
      "Epoch 4/100\n",
      "449/449 [==============================] - 29s 65ms/step - loss: 1.3355 - accuracy: 0.4897 - val_loss: 1.3650 - val_accuracy: 0.4734\n",
      "Epoch 5/100\n",
      "449/449 [==============================] - 28s 62ms/step - loss: 1.2810 - accuracy: 0.5121 - val_loss: 1.3514 - val_accuracy: 0.4844\n",
      "Epoch 6/100\n",
      "449/449 [==============================] - 29s 64ms/step - loss: 1.2351 - accuracy: 0.5328 - val_loss: 1.3092 - val_accuracy: 0.4980\n",
      "Epoch 7/100\n",
      "449/449 [==============================] - 29s 64ms/step - loss: 1.1888 - accuracy: 0.5516 - val_loss: 1.3116 - val_accuracy: 0.5007\n",
      "Epoch 8/100\n",
      "449/449 [==============================] - 29s 65ms/step - loss: 1.1502 - accuracy: 0.5643 - val_loss: 1.3023 - val_accuracy: 0.4969\n",
      "Epoch 9/100\n",
      "449/449 [==============================] - 29s 64ms/step - loss: 1.1081 - accuracy: 0.5841 - val_loss: 1.2929 - val_accuracy: 0.5093\n",
      "Epoch 10/100\n",
      "449/449 [==============================] - 28s 63ms/step - loss: 1.0685 - accuracy: 0.5981 - val_loss: 1.2986 - val_accuracy: 0.5096\n",
      "Epoch 11/100\n",
      "449/449 [==============================] - 28s 63ms/step - loss: 1.0312 - accuracy: 0.6154 - val_loss: 1.3245 - val_accuracy: 0.5045\n",
      "Epoch 00011: early stopping\n"
     ]
    },
    {
     "data": {
      "text/plain": [
       "<tensorflow.python.keras.callbacks.History at 0x16f3bb0c648>"
      ]
     },
     "execution_count": 17,
     "metadata": {},
     "output_type": "execute_result"
    }
   ],
   "source": [
    "\n",
    "model.compile(loss='categorical_crossentropy', optimizer=optimizer, metrics=['accuracy'])\n",
    "\n",
    "model.fit(X_train, Y_train, validation_data=(X_test, Y_test), epochs=epochs, batch_size=64, callbacks = cb)"
   ]
  },
  {
   "cell_type": "code",
   "execution_count": 18,
   "metadata": {},
   "outputs": [
    {
     "name": "stdout",
     "output_type": "stream",
     "text": [
      "Accuracy: 50.45%\n"
     ]
    }
   ],
   "source": [
    "scores = model.evaluate(X_test, Y_test, verbose=0)\n",
    "print(\"Accuracy: %.2f%%\" % (scores[1]*100))"
   ]
  },
  {
   "cell_type": "code",
   "execution_count": null,
   "metadata": {},
   "outputs": [],
   "source": []
  }
 ],
 "metadata": {
  "kernelspec": {
   "display_name": "Python 3",
   "language": "python",
   "name": "python3"
  },
  "language_info": {
   "codemirror_mode": {
    "name": "ipython",
    "version": 3
   },
   "file_extension": ".py",
   "mimetype": "text/x-python",
   "name": "python",
   "nbconvert_exporter": "python",
   "pygments_lexer": "ipython3",
   "version": "3.7.6"
  }
 },
 "nbformat": 4,
 "nbformat_minor": 2
}
