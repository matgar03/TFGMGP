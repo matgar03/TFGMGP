{
 "cells": [
  {
   "cell_type": "code",
   "execution_count": 1,
   "metadata": {},
   "outputs": [],
   "source": [
    "import tensorflow as tf\n",
    "\n",
    "import keras\n",
    "from keras.models import Sequential\n",
    "from keras.layers.convolutional import Conv2D, MaxPooling2D, AveragePooling2D\n",
    "from keras.layers import Dense, Activation, Dropout, Flatten,BatchNormalization\n",
    "from keras.callbacks import EarlyStopping, ModelCheckpoint, ReduceLROnPlateau\n",
    "from keras.constraints import maxnorm\n",
    "from keras.utils import np_utils\n",
    "from keras.preprocessing import image\n",
    "from keras.preprocessing.image import ImageDataGenerator\n",
    "\n",
    "from random import seed\n",
    "from random import randint\n",
    "\n",
    "\n",
    "import pandas as pd\n",
    "import numpy as np\n",
    "import matplotlib.pyplot as plt\n",
    "\n",
    "from sklearn.metrics import classification_report as cr"
   ]
  },
  {
   "cell_type": "code",
   "execution_count": 3,
   "metadata": {},
   "outputs": [
    {
     "data": {
      "text/html": [
       "<div>\n",
       "<style scoped>\n",
       "    .dataframe tbody tr th:only-of-type {\n",
       "        vertical-align: middle;\n",
       "    }\n",
       "\n",
       "    .dataframe tbody tr th {\n",
       "        vertical-align: top;\n",
       "    }\n",
       "\n",
       "    .dataframe thead th {\n",
       "        text-align: right;\n",
       "    }\n",
       "</style>\n",
       "<table border=\"1\" class=\"dataframe\">\n",
       "  <thead>\n",
       "    <tr style=\"text-align: right;\">\n",
       "      <th></th>\n",
       "      <th>emocion</th>\n",
       "      <th>pixels</th>\n",
       "      <th>uso</th>\n",
       "    </tr>\n",
       "  </thead>\n",
       "  <tbody>\n",
       "    <tr>\n",
       "      <th>0</th>\n",
       "      <td>emotion</td>\n",
       "      <td>pixels</td>\n",
       "      <td>Usage</td>\n",
       "    </tr>\n",
       "    <tr>\n",
       "      <th>1</th>\n",
       "      <td>0</td>\n",
       "      <td>70 80 82 72 58 58 60 63 54 58 60 48 89 115 121...</td>\n",
       "      <td>Training</td>\n",
       "    </tr>\n",
       "    <tr>\n",
       "      <th>2</th>\n",
       "      <td>0</td>\n",
       "      <td>151 150 147 155 148 133 111 140 170 174 182 15...</td>\n",
       "      <td>Training</td>\n",
       "    </tr>\n",
       "    <tr>\n",
       "      <th>3</th>\n",
       "      <td>2</td>\n",
       "      <td>231 212 156 164 174 138 161 173 182 200 106 38...</td>\n",
       "      <td>Training</td>\n",
       "    </tr>\n",
       "    <tr>\n",
       "      <th>4</th>\n",
       "      <td>4</td>\n",
       "      <td>24 32 36 30 32 23 19 20 30 41 21 22 32 34 21 1...</td>\n",
       "      <td>Training</td>\n",
       "    </tr>\n",
       "    <tr>\n",
       "      <th>5</th>\n",
       "      <td>6</td>\n",
       "      <td>4 0 0 0 0 0 0 0 0 0 0 0 3 15 23 28 48 50 58 84...</td>\n",
       "      <td>Training</td>\n",
       "    </tr>\n",
       "    <tr>\n",
       "      <th>6</th>\n",
       "      <td>2</td>\n",
       "      <td>55 55 55 55 55 54 60 68 54 85 151 163 170 179 ...</td>\n",
       "      <td>Training</td>\n",
       "    </tr>\n",
       "    <tr>\n",
       "      <th>7</th>\n",
       "      <td>4</td>\n",
       "      <td>20 17 19 21 25 38 42 42 46 54 56 62 63 66 82 1...</td>\n",
       "      <td>Training</td>\n",
       "    </tr>\n",
       "    <tr>\n",
       "      <th>8</th>\n",
       "      <td>3</td>\n",
       "      <td>77 78 79 79 78 75 60 55 47 48 58 73 77 79 57 5...</td>\n",
       "      <td>Training</td>\n",
       "    </tr>\n",
       "    <tr>\n",
       "      <th>9</th>\n",
       "      <td>3</td>\n",
       "      <td>85 84 90 121 101 102 133 153 153 169 177 189 1...</td>\n",
       "      <td>Training</td>\n",
       "    </tr>\n",
       "  </tbody>\n",
       "</table>\n",
       "</div>"
      ],
      "text/plain": [
       "   emocion                                             pixels       uso\n",
       "0  emotion                                             pixels     Usage\n",
       "1        0  70 80 82 72 58 58 60 63 54 58 60 48 89 115 121...  Training\n",
       "2        0  151 150 147 155 148 133 111 140 170 174 182 15...  Training\n",
       "3        2  231 212 156 164 174 138 161 173 182 200 106 38...  Training\n",
       "4        4  24 32 36 30 32 23 19 20 30 41 21 22 32 34 21 1...  Training\n",
       "5        6  4 0 0 0 0 0 0 0 0 0 0 0 3 15 23 28 48 50 58 84...  Training\n",
       "6        2  55 55 55 55 55 54 60 68 54 85 151 163 170 179 ...  Training\n",
       "7        4  20 17 19 21 25 38 42 42 46 54 56 62 63 66 82 1...  Training\n",
       "8        3  77 78 79 79 78 75 60 55 47 48 58 73 77 79 57 5...  Training\n",
       "9        3  85 84 90 121 101 102 133 153 153 169 177 189 1...  Training"
      ]
     },
     "execution_count": 3,
     "metadata": {},
     "output_type": "execute_result"
    }
   ],
   "source": [
    "seed = 16\n",
    "filename = '../Datos/fer2013.csv'\n",
    "label_map = ['Enfado', 'Asco', 'Miedo', 'Alegria', 'Tristeza', 'Sorpresa', 'Neutral']\n",
    "label_map = np.array(label_map)\n",
    "names=['emocion','pixels','uso']\n",
    "df=pd.read_csv(filename,names=names, na_filter=False)\n",
    "im=df['pixels']\n",
    "df.head(10)"
   ]
  },
  {
   "cell_type": "code",
   "execution_count": 4,
   "metadata": {},
   "outputs": [],
   "source": [
    "def loadData(filname):\n",
    "    \n",
    "    Y_train = []\n",
    "    X_train = []\n",
    "    Y_test = []\n",
    "    X_test = []\n",
    "    \n",
    "    first = True\n",
    "    uso = 'Training\\n'\n",
    "    for line in open(filname):\n",
    "        if first:\n",
    "            first = False\n",
    "        else:\n",
    "            row = line.split(',')\n",
    "            condition = str(row[2])\n",
    "            if condition == 'Training\\n':\n",
    "                Y_train.append(int(row[0]))\n",
    "                X_train.append([int(p) for p in row[1].split()])\n",
    "            else:\n",
    "                Y_test.append(int(row[0]))\n",
    "                X_test.append([int(p) for p in row[1].split()])\n",
    "                \n",
    "    X_train, Y_train = np.array(X_train)/255.0 , np.array(Y_train)\n",
    "    X_test, Y_test = np.array(X_test)/255.0 , np.array(Y_test)\n",
    "\n",
    "    return X_train, X_test, Y_train, Y_test "
   ]
  },
  {
   "cell_type": "code",
   "execution_count": 5,
   "metadata": {},
   "outputs": [],
   "source": [
    "X_train, X_test, Y_train, Y_test= loadData(filename)"
   ]
  },
  {
   "cell_type": "code",
   "execution_count": 6,
   "metadata": {},
   "outputs": [],
   "source": [
    "N_train = X_train.shape[0]\n",
    "N_test = X_test.shape[0]\n",
    "X_train = X_train.reshape(N_train, 48, 48,1)\n",
    "X_test = X_test.reshape(N_test, 48, 48,1)"
   ]
  },
  {
   "cell_type": "code",
   "execution_count": 7,
   "metadata": {},
   "outputs": [],
   "source": [
    "# one hot encode output\n",
    "Y_train = np_utils.to_categorical(Y_train)\n",
    "Y_test = np_utils.to_categorical(Y_test)\n",
    "class_num = Y_test.shape[1]"
   ]
  },
  {
   "cell_type": "code",
   "execution_count": 8,
   "metadata": {},
   "outputs": [],
   "source": [
    "model = Sequential()\n",
    "\n",
    "model.add(Conv2D(6,(5,5),input_shape=X_train.shape[1:],padding = 'valid', strides = 1, activation = 'tanh'))\n",
    "model.add(AveragePooling2D(pool_size=(2, 2)))\n",
    "model.add(Conv2D(16,(5,5),input_shape=X_train.shape[1:],padding = 'valid', strides = 1, activation = 'tanh'))\n",
    "model.add(AveragePooling2D(pool_size=(2, 2)))\n",
    "model.add(Flatten())\n",
    "model.add(Dense(128, activation='tanh',kernel_constraint=maxnorm(3)))\n",
    "model.add(Dense(84, activation='tanh',kernel_constraint=maxnorm(3)))\n",
    "model.add(Dense(class_num, activation='softmax',kernel_constraint=maxnorm(3)))"
   ]
  },
  {
   "cell_type": "code",
   "execution_count": 9,
   "metadata": {},
   "outputs": [
    {
     "name": "stdout",
     "output_type": "stream",
     "text": [
      "Model: \"sequential\"\n",
      "_________________________________________________________________\n",
      "Layer (type)                 Output Shape              Param #   \n",
      "=================================================================\n",
      "conv2d (Conv2D)              (None, 44, 44, 6)         156       \n",
      "_________________________________________________________________\n",
      "average_pooling2d (AveragePo (None, 22, 22, 6)         0         \n",
      "_________________________________________________________________\n",
      "conv2d_1 (Conv2D)            (None, 18, 18, 16)        2416      \n",
      "_________________________________________________________________\n",
      "average_pooling2d_1 (Average (None, 9, 9, 16)          0         \n",
      "_________________________________________________________________\n",
      "flatten (Flatten)            (None, 1296)              0         \n",
      "_________________________________________________________________\n",
      "dense (Dense)                (None, 128)               166016    \n",
      "_________________________________________________________________\n",
      "dense_1 (Dense)              (None, 84)                10836     \n",
      "_________________________________________________________________\n",
      "dense_2 (Dense)              (None, 7)                 595       \n",
      "=================================================================\n",
      "Total params: 180,019\n",
      "Trainable params: 180,019\n",
      "Non-trainable params: 0\n",
      "_________________________________________________________________\n"
     ]
    }
   ],
   "source": [
    "model.summary()\n",
    "optimizer = 'adam'\n",
    "model.compile(loss='categorical_crossentropy', optimizer=optimizer, metrics=['accuracy'])\n"
   ]
  },
  {
   "cell_type": "code",
   "execution_count": 10,
   "metadata": {},
   "outputs": [
    {
     "name": "stdout",
     "output_type": "stream",
     "text": [
      "Epoch 1/100\n",
      "449/449 [==============================] - 49s 109ms/step - loss: 1.6821 - accuracy: 0.3394 - val_loss: 1.6268 - val_accuracy: 0.3697 - lr: 0.0010\n",
      "Epoch 2/100\n",
      "449/449 [==============================] - 43s 95ms/step - loss: 1.6252 - accuracy: 0.3672 - val_loss: 1.6153 - val_accuracy: 0.3650 - lr: 0.0010\n",
      "Epoch 3/100\n",
      "449/449 [==============================] - 37s 83ms/step - loss: 1.5910 - accuracy: 0.3782 - val_loss: 1.5886 - val_accuracy: 0.3798 - lr: 0.0010\n",
      "Epoch 4/100\n",
      "449/449 [==============================] - 39s 87ms/step - loss: 1.5548 - accuracy: 0.3980 - val_loss: 1.5483 - val_accuracy: 0.3958 - lr: 0.0010\n",
      "Epoch 5/100\n",
      "449/449 [==============================] - 39s 88ms/step - loss: 1.5072 - accuracy: 0.4164 - val_loss: 1.5236 - val_accuracy: 0.4089 - lr: 0.0010\n",
      "Epoch 6/100\n",
      "449/449 [==============================] - 40s 90ms/step - loss: 1.4499 - accuracy: 0.4403 - val_loss: 1.4909 - val_accuracy: 0.4167 - lr: 0.0010\n",
      "Epoch 7/100\n",
      "449/449 [==============================] - 42s 94ms/step - loss: 1.3932 - accuracy: 0.4650 - val_loss: 1.4732 - val_accuracy: 0.4363 - lr: 0.0010\n",
      "Epoch 8/100\n",
      "449/449 [==============================] - 42s 93ms/step - loss: 1.3292 - accuracy: 0.4937 - val_loss: 1.4850 - val_accuracy: 0.4320 - lr: 0.0010\n",
      "Epoch 9/100\n",
      "449/449 [==============================] - 43s 96ms/step - loss: 1.2666 - accuracy: 0.5220 - val_loss: 1.4747 - val_accuracy: 0.4381 - lr: 0.0010\n",
      "Epoch 10/100\n",
      "449/449 [==============================] - 44s 98ms/step - loss: 1.2042 - accuracy: 0.5504 - val_loss: 1.4753 - val_accuracy: 0.4404 - lr: 0.0010\n",
      "Epoch 11/100\n",
      "449/449 [==============================] - 43s 96ms/step - loss: 1.1463 - accuracy: 0.5753 - val_loss: 1.4960 - val_accuracy: 0.4433 - lr: 0.0010\n",
      "Epoch 12/100\n",
      "449/449 [==============================] - 42s 93ms/step - loss: 1.0827 - accuracy: 0.6035 - val_loss: 1.5183 - val_accuracy: 0.4432 - lr: 0.0010\n",
      "Epoch 13/100\n",
      "449/449 [==============================] - 42s 95ms/step - loss: 1.0294 - accuracy: 0.6249 - val_loss: 1.5336 - val_accuracy: 0.4379 - lr: 0.0010\n",
      "Epoch 14/100\n",
      "449/449 [==============================] - ETA: 0s - loss: 0.9722 - accuracy: 0.6465\n",
      "Epoch 00014: ReduceLROnPlateau reducing learning rate to 0.00010000000474974513.\n",
      "449/449 [==============================] - 44s 99ms/step - loss: 0.9722 - accuracy: 0.6465 - val_loss: 1.5733 - val_accuracy: 0.4454 - lr: 0.0010\n",
      "Epoch 15/100\n",
      "449/449 [==============================] - 46s 101ms/step - loss: 0.8116 - accuracy: 0.7254 - val_loss: 1.5501 - val_accuracy: 0.4514 - lr: 1.0000e-04\n",
      "Epoch 16/100\n",
      "449/449 [==============================] - 44s 98ms/step - loss: 0.7732 - accuracy: 0.7470 - val_loss: 1.5595 - val_accuracy: 0.4512 - lr: 1.0000e-04\n",
      "Epoch 17/100\n",
      "449/449 [==============================] - 43s 95ms/step - loss: 0.7535 - accuracy: 0.7542 - val_loss: 1.5691 - val_accuracy: 0.4492 - lr: 1.0000e-04\n"
     ]
    },
    {
     "data": {
      "text/plain": [
       "<tensorflow.python.keras.callbacks.History at 0x20a834e7908>"
      ]
     },
     "execution_count": 10,
     "metadata": {},
     "output_type": "execute_result"
    }
   ],
   "source": [
    "epochs = 100\n",
    "\n",
    "es = EarlyStopping(monitor='val_loss', patience=10, verbose=0, mode='min')\n",
    "mc = ModelCheckpoint('.ln5_1.hdf5', save_best_only=True, monitor='val_loss', mode='min')\n",
    "rlr = ReduceLROnPlateau(monitor='val_loss', factor=0.1, patience=7, verbose=1, mode='min')\n",
    "\n",
    "np.random.seed(16)\n",
    "cb =  [es,mc,rlr]\n",
    "model.fit(X_train, Y_train, validation_data=(X_test, Y_test), epochs=epochs, batch_size=64, callbacks = cb)"
   ]
  },
  {
   "cell_type": "code",
   "execution_count": 11,
   "metadata": {},
   "outputs": [],
   "source": [
    "model.load_weights('.ln5_1.hdf5')\n",
    "pred = np.array(model.predict(X_test))\n",
    "pred = np.around(pred)\n",
    "pred = pred.astype(int)\n",
    "Y_test = Y_test.astype(int)\n",
    "\n",
    "\n"
   ]
  },
  {
   "cell_type": "code",
   "execution_count": 12,
   "metadata": {},
   "outputs": [],
   "source": [
    "from sklearn.metrics import confusion_matrix\n",
    "from sklearn.utils.multiclass import unique_labels\n",
    "import matplotlib.pyplot as plt\n",
    "import numpy as np\n",
    "\n",
    "def plot_confusion_matrix(y_true, y_pred, classes,\n",
    "                          normalize=False,\n",
    "                          title=None,\n",
    "                          cmap=plt.cm.Blues):\n",
    "    \"\"\"\n",
    "    This function prints and plots the confusion matrix.\n",
    "    Normalization can be applied by setting `normalize=True`.\n",
    "    \"\"\"\n",
    "    if not title:\n",
    "        if normalize:\n",
    "            title = 'Normalized confusion matrix'\n",
    "        else:\n",
    "            title = 'Confusion matrix, without normalization'\n",
    "\n",
    "    # Compute confusion matrix\n",
    "    cm = confusion_matrix(y_true, y_pred)\n",
    "    # Only use the labels that appear in the data\n",
    "    classes = classes[unique_labels(y_true, y_pred)]\n",
    "    if normalize:\n",
    "        cm = cm.astype('float') / cm.sum(axis=1)[:, np.newaxis]\n",
    "        print(\"Normalized confusion matrix\")\n",
    "    else:\n",
    "        print('Confusion matrix')\n",
    "\n",
    "    print(cm)\n",
    "\n",
    "    fig, ax = plt.subplots(figsize = (5,5))\n",
    "  \n",
    "    im = ax.imshow(cm, interpolation='nearest', cmap=cmap)\n",
    "    ax.figure.colorbar(im, ax=ax)\n",
    "    # We want to show all ticks...\n",
    "    ax.set(xticks=np.arange(cm.shape[1]),\n",
    "           yticks=np.arange(cm.shape[0]),\n",
    "           # ... and label them with the respective list entries\n",
    "           xticklabels=classes, yticklabels=classes,\n",
    "           title=title,\n",
    "           ylabel='True label',\n",
    "           xlabel='Predicted label')\n",
    "    ax.set_ylim(-0.5, 6.5)\n",
    "\n",
    "    # Rotate the tick labels and set their alignment.\n",
    "    plt.setp(ax.get_xticklabels(), rotation=45, ha=\"right\",\n",
    "             rotation_mode=\"anchor\")\n",
    "\n",
    "    # Loop over data dimensions and create text annotations.\n",
    "    fmt = '.2f' if normalize else 'd'\n",
    "    thresh = cm.max() / 2.\n",
    "    for i in range(cm.shape[0]):\n",
    "        for j in range(cm.shape[1]):\n",
    "            ax.text(j, i, format(cm[i, j], fmt),\n",
    "                    ha=\"center\", va=\"center\",\n",
    "                    color=\"white\" if cm[i, j] > thresh else \"black\")\n",
    "    fig.tight_layout()\n",
    "    return ax"
   ]
  },
  {
   "cell_type": "code",
   "execution_count": 13,
   "metadata": {},
   "outputs": [
    {
     "name": "stdout",
     "output_type": "stream",
     "text": [
      "Confusion matrix\n",
      "[[ 797    0    4  102    5   10   40]\n",
      " [  97    0    0    6    1    0    7]\n",
      " [ 790    0   34   75    9   61   55]\n",
      " [ 836    0    6  903    0   12   17]\n",
      " [1042    0    4   95   29   12   65]\n",
      " [ 436    0    3   29    2  344   17]\n",
      " [ 877    0    1  105    6   14  230]]\n"
     ]
    },
    {
     "data": {
      "text/plain": [
       "<matplotlib.axes._subplots.AxesSubplot at 0x20aca5f5b08>"
      ]
     },
     "execution_count": 13,
     "metadata": {},
     "output_type": "execute_result"
    },
    {
     "data": {
      "image/png": "[encoded data removed]",
      "text/plain": [
       "<Figure size 360x360 with 2 Axes>"
      ]
     },
     "metadata": {
      "needs_background": "light"
     },
     "output_type": "display_data"
    }
   ],
   "source": [
    "plot_confusion_matrix(Y_test.argmax(axis=1),pred.argmax(axis=1),label_map)"
   ]
  },
  {
   "cell_type": "code",
   "execution_count": 14,
   "metadata": {},
   "outputs": [
    {
     "name": "stdout",
     "output_type": "stream",
     "text": [
      "              precision    recall  f1-score   support\n",
      "\n",
      "      Enfado       0.16      0.83      0.27       958\n",
      "        Asco       0.00      0.00      0.00       111\n",
      "       Miedo       0.65      0.03      0.06      1024\n",
      "     Alegria       0.69      0.51      0.58      1774\n",
      "    Tristeza       0.56      0.02      0.04      1247\n",
      "    Sorpresa       0.76      0.41      0.54       831\n",
      "     Neutral       0.53      0.19      0.28      1233\n",
      "\n",
      "    accuracy                           0.33      7178\n",
      "   macro avg       0.48      0.29      0.25      7178\n",
      "weighted avg       0.56      0.33      0.31      7178\n",
      "\n"
     ]
    },
    {
     "name": "stderr",
     "output_type": "stream",
     "text": [
      "C:\\Users\\mateo\\anaconda3\\lib\\site-packages\\sklearn\\metrics\\_classification.py:1272: UndefinedMetricWarning: Precision and F-score are ill-defined and being set to 0.0 in labels with no predicted samples. Use `zero_division` parameter to control this behavior.\n",
      "  _warn_prf(average, modifier, msg_start, len(result))\n"
     ]
    }
   ],
   "source": [
    "print(cr(Y_test.argmax(axis=1),pred.argmax(axis=1),target_names = label_map))\n"
   ]
  },
  {
   "cell_type": "code",
   "execution_count": 15,
   "metadata": {},
   "outputs": [
    {
     "name": "stdout",
     "output_type": "stream",
     "text": [
      "Model: \"sequential_1\"\n",
      "_________________________________________________________________\n",
      "Layer (type)                 Output Shape              Param #   \n",
      "=================================================================\n",
      "conv2d_2 (Conv2D)            (None, 44, 44, 6)         156       \n",
      "_________________________________________________________________\n",
      "average_pooling2d_2 (Average (None, 22, 22, 6)         0         \n",
      "_________________________________________________________________\n",
      "conv2d_3 (Conv2D)            (None, 18, 18, 16)        2416      \n",
      "_________________________________________________________________\n",
      "average_pooling2d_3 (Average (None, 9, 9, 16)          0         \n",
      "_________________________________________________________________\n",
      "flatten_1 (Flatten)          (None, 1296)              0         \n",
      "_________________________________________________________________\n",
      "dense_3 (Dense)              (None, 128)               166016    \n",
      "_________________________________________________________________\n",
      "dense_4 (Dense)              (None, 84)                10836     \n",
      "_________________________________________________________________\n",
      "dense_5 (Dense)              (None, 7)                 595       \n",
      "=================================================================\n",
      "Total params: 180,019\n",
      "Trainable params: 180,019\n",
      "Non-trainable params: 0\n",
      "_________________________________________________________________\n"
     ]
    }
   ],
   "source": [
    "model = Sequential()\n",
    "\n",
    "model.add(Conv2D(6,(5,5),input_shape=X_train.shape[1:],padding = 'valid', strides = 1, activation = 'relu'))\n",
    "model.add(AveragePooling2D(pool_size=(2, 2)))\n",
    "model.add(Conv2D(16,(5,5),input_shape=X_train.shape[1:],padding = 'valid', strides = 1, activation = 'relu'))\n",
    "model.add(AveragePooling2D(pool_size=(2, 2)))\n",
    "model.add(Flatten())\n",
    "model.add(Dense(128, activation='relu',kernel_constraint=maxnorm(3)))\n",
    "model.add(Dense(84, activation='relu',kernel_constraint=maxnorm(3)))\n",
    "model.add(Dense(class_num, activation='softmax',kernel_constraint=maxnorm(3)))\n",
    "model.summary()\n",
    "model.compile(loss='categorical_crossentropy', optimizer=optimizer, metrics=['accuracy'])"
   ]
  },
  {
   "cell_type": "code",
   "execution_count": 16,
   "metadata": {},
   "outputs": [
    {
     "name": "stdout",
     "output_type": "stream",
     "text": [
      "Epoch 1/100\n",
      "449/449 [==============================] - 38s 85ms/step - loss: 1.6586 - accuracy: 0.3422 - val_loss: 1.5666 - val_accuracy: 0.3801 - lr: 0.0010\n",
      "Epoch 2/100\n",
      "449/449 [==============================] - 37s 83ms/step - loss: 1.5223 - accuracy: 0.4146 - val_loss: 1.4856 - val_accuracy: 0.4225 - lr: 0.0010\n",
      "Epoch 3/100\n",
      "449/449 [==============================] - 39s 87ms/step - loss: 1.4448 - accuracy: 0.4405 - val_loss: 1.4387 - val_accuracy: 0.4400 - lr: 0.0010\n",
      "Epoch 4/100\n",
      "449/449 [==============================] - 40s 88ms/step - loss: 1.3774 - accuracy: 0.4678 - val_loss: 1.3840 - val_accuracy: 0.4746 - lr: 0.0010\n",
      "Epoch 5/100\n",
      "449/449 [==============================] - 42s 93ms/step - loss: 1.3149 - accuracy: 0.4963 - val_loss: 1.3762 - val_accuracy: 0.4784 - lr: 0.0010\n",
      "Epoch 6/100\n",
      "449/449 [==============================] - 43s 95ms/step - loss: 1.2578 - accuracy: 0.5206 - val_loss: 1.3512 - val_accuracy: 0.4777 - lr: 0.0010\n",
      "Epoch 7/100\n",
      "449/449 [==============================] - 45s 100ms/step - loss: 1.2067 - accuracy: 0.5431 - val_loss: 1.3078 - val_accuracy: 0.5035 - lr: 0.0010\n",
      "Epoch 8/100\n",
      "449/449 [==============================] - 48s 106ms/step - loss: 1.1531 - accuracy: 0.5609 - val_loss: 1.3158 - val_accuracy: 0.5033 - lr: 0.0010\n",
      "Epoch 9/100\n",
      "449/449 [==============================] - 49s 108ms/step - loss: 1.1062 - accuracy: 0.5850 - val_loss: 1.2981 - val_accuracy: 0.5081 - lr: 0.0010\n",
      "Epoch 10/100\n",
      "449/449 [==============================] - 45s 100ms/step - loss: 1.0550 - accuracy: 0.6034 - val_loss: 1.3204 - val_accuracy: 0.5103 - lr: 0.0010\n",
      "Epoch 11/100\n",
      "449/449 [==============================] - 45s 101ms/step - loss: 1.0062 - accuracy: 0.6234 - val_loss: 1.3186 - val_accuracy: 0.5117 - lr: 0.0010\n",
      "Epoch 12/100\n",
      "449/449 [==============================] - 42s 94ms/step - loss: 0.9502 - accuracy: 0.6458 - val_loss: 1.3369 - val_accuracy: 0.5145 - lr: 0.0010\n",
      "Epoch 13/100\n",
      "449/449 [==============================] - 45s 101ms/step - loss: 0.9021 - accuracy: 0.6671 - val_loss: 1.3951 - val_accuracy: 0.5127 - lr: 0.0010\n",
      "Epoch 14/100\n",
      "449/449 [==============================] - 47s 106ms/step - loss: 0.8554 - accuracy: 0.6853 - val_loss: 1.4174 - val_accuracy: 0.5194 - lr: 0.0010\n",
      "Epoch 15/100\n",
      "449/449 [==============================] - 34s 75ms/step - loss: 0.8000 - accuracy: 0.7081 - val_loss: 1.4748 - val_accuracy: 0.4999 - lr: 0.0010\n",
      "Epoch 16/100\n",
      "449/449 [==============================] - ETA: 0s - loss: 0.7570 - accuracy: 0.7225\n",
      "Epoch 00016: ReduceLROnPlateau reducing learning rate to 0.00010000000474974513.\n",
      "449/449 [==============================] - 29s 64ms/step - loss: 0.7570 - accuracy: 0.7225 - val_loss: 1.5116 - val_accuracy: 0.5117 - lr: 0.0010\n",
      "Epoch 17/100\n",
      "449/449 [==============================] - 40s 90ms/step - loss: 0.5750 - accuracy: 0.8039 - val_loss: 1.5399 - val_accuracy: 0.5226 - lr: 1.0000e-04\n",
      "Epoch 18/100\n",
      "449/449 [==============================] - 41s 91ms/step - loss: 0.5368 - accuracy: 0.8190 - val_loss: 1.5831 - val_accuracy: 0.5195 - lr: 1.0000e-04\n",
      "Epoch 19/100\n",
      "449/449 [==============================] - 43s 96ms/step - loss: 0.5169 - accuracy: 0.8271 - val_loss: 1.6094 - val_accuracy: 0.5185 - lr: 1.0000e-04\n"
     ]
    },
    {
     "data": {
      "text/plain": [
       "<tensorflow.python.keras.callbacks.History at 0x20acb061288>"
      ]
     },
     "execution_count": 16,
     "metadata": {},
     "output_type": "execute_result"
    }
   ],
   "source": [
    "\n",
    "\n",
    "mc = ModelCheckpoint('.ln5_2.hdf5', save_best_only=True, monitor='val_loss', mode='min')\n",
    "cb =  [es,mc,rlr]\n",
    "\n",
    "model.fit(X_train, Y_train, validation_data=(X_test, Y_test), epochs=epochs, batch_size=64, callbacks = cb)\n"
   ]
  },
  {
   "cell_type": "code",
   "execution_count": 17,
   "metadata": {},
   "outputs": [
    {
     "name": "stdout",
     "output_type": "stream",
     "text": [
      "Confusion matrix\n",
      "[[ 776    0   20   69   29   20   44]\n",
      " [  94    9    3    4    0    1    0]\n",
      " [ 697    0  116   53   67   56   35]\n",
      " [ 533    0   12 1152   22   18   37]\n",
      " [ 955    0   12   67  140   11   62]\n",
      " [ 307    0   34   39   10  424   17]\n",
      " [ 754    0   14   87   44    9  325]]\n",
      "              precision    recall  f1-score   support\n",
      "\n",
      "      Enfado       0.19      0.81      0.31       958\n",
      "        Asco       1.00      0.08      0.15       111\n",
      "       Miedo       0.55      0.11      0.19      1024\n",
      "     Alegria       0.78      0.65      0.71      1774\n",
      "    Tristeza       0.45      0.11      0.18      1247\n",
      "    Sorpresa       0.79      0.51      0.62       831\n",
      "     Neutral       0.62      0.26      0.37      1233\n",
      "\n",
      "    accuracy                           0.41      7178\n",
      "   macro avg       0.63      0.36      0.36      7178\n",
      "weighted avg       0.59      0.41      0.41      7178\n",
      "\n"
     ]
    },
    {
     "data": {
      "image/png": "[encoded data removed]",
      "text/plain": [
       "<Figure size 360x360 with 2 Axes>"
      ]
     },
     "metadata": {
      "needs_background": "light"
     },
     "output_type": "display_data"
    }
   ],
   "source": [
    "model.load_weights('.ln5_2.hdf5')\n",
    "pred = np.array(model.predict(X_test))\n",
    "pred = np.around(pred)\n",
    "pred = pred.astype(int)\n",
    "Y_test = Y_test.astype(int)\n",
    "\n",
    "\n",
    "plot_confusion_matrix(Y_test.argmax(axis=1),pred.argmax(axis=1),label_map)\n",
    "print(cr(Y_test.argmax(axis=1),pred.argmax(axis=1),target_names = label_map))"
   ]
  },
  {
   "cell_type": "code",
   "execution_count": 18,
   "metadata": {},
   "outputs": [
    {
     "name": "stdout",
     "output_type": "stream",
     "text": [
      "Model: \"sequential_2\"\n",
      "_________________________________________________________________\n",
      "Layer (type)                 Output Shape              Param #   \n",
      "=================================================================\n",
      "conv2d_4 (Conv2D)            (None, 44, 44, 6)         156       \n",
      "_________________________________________________________________\n",
      "dropout (Dropout)            (None, 44, 44, 6)         0         \n",
      "_________________________________________________________________\n",
      "batch_normalization (BatchNo (None, 44, 44, 6)         24        \n",
      "_________________________________________________________________\n",
      "max_pooling2d (MaxPooling2D) (None, 22, 22, 6)         0         \n",
      "_________________________________________________________________\n",
      "conv2d_5 (Conv2D)            (None, 18, 18, 16)        2416      \n",
      "_________________________________________________________________\n",
      "dropout_1 (Dropout)          (None, 18, 18, 16)        0         \n",
      "_________________________________________________________________\n",
      "batch_normalization_1 (Batch (None, 18, 18, 16)        64        \n",
      "_________________________________________________________________\n",
      "max_pooling2d_1 (MaxPooling2 (None, 9, 9, 16)          0         \n",
      "_________________________________________________________________\n",
      "flatten_2 (Flatten)          (None, 1296)              0         \n",
      "_________________________________________________________________\n",
      "dense_6 (Dense)              (None, 128)               166016    \n",
      "_________________________________________________________________\n",
      "dropout_2 (Dropout)          (None, 128)               0         \n",
      "_________________________________________________________________\n",
      "batch_normalization_2 (Batch (None, 128)               512       \n",
      "_________________________________________________________________\n",
      "dense_7 (Dense)              (None, 84)                10836     \n",
      "_________________________________________________________________\n",
      "dropout_3 (Dropout)          (None, 84)                0         \n",
      "_________________________________________________________________\n",
      "batch_normalization_3 (Batch (None, 84)                336       \n",
      "_________________________________________________________________\n",
      "dense_8 (Dense)              (None, 7)                 595       \n",
      "=================================================================\n",
      "Total params: 180,955\n",
      "Trainable params: 180,487\n",
      "Non-trainable params: 468\n",
      "_________________________________________________________________\n"
     ]
    }
   ],
   "source": [
    "model = Sequential()\n",
    "\n",
    "model.add(Conv2D(6,(5,5),input_shape=X_train.shape[1:],padding = 'valid', strides = 1, activation = 'relu'))\n",
    "model.add(Dropout(0.25))\n",
    "model.add(BatchNormalization())\n",
    "model.add(MaxPooling2D(pool_size=(2, 2)))\n",
    "model.add(Conv2D(16,(5,5),input_shape=X_train.shape[1:],padding = 'valid', strides = 1, activation = 'relu'))\n",
    "model.add(Dropout(0.25))\n",
    "model.add(BatchNormalization())\n",
    "model.add(MaxPooling2D(pool_size=(2, 2)))\n",
    "model.add(Flatten())\n",
    "model.add(Dense(128, activation='relu',kernel_constraint=maxnorm(3)))\n",
    "model.add(Dropout(0.25))\n",
    "model.add(BatchNormalization())\n",
    "model.add(Dense(84, activation='relu',kernel_constraint=maxnorm(3)))\n",
    "model.add(Dropout(0.25))\n",
    "model.add(BatchNormalization())\n",
    "model.add(Dense(class_num, activation='softmax',kernel_constraint=maxnorm(3)))\n",
    "model.summary()\n",
    "model.compile(loss='categorical_crossentropy', optimizer=optimizer, metrics=['accuracy'])"
   ]
  },
  {
   "cell_type": "code",
   "execution_count": 19,
   "metadata": {},
   "outputs": [
    {
     "name": "stdout",
     "output_type": "stream",
     "text": [
      "Epoch 1/100\n",
      "449/449 [==============================] - 103s 230ms/step - loss: 1.8175 - accuracy: 0.3190 - val_loss: 2.0165 - val_accuracy: 0.2646 - lr: 0.0010\n",
      "Epoch 2/100\n",
      "449/449 [==============================] - 103s 229ms/step - loss: 1.5390 - accuracy: 0.4007 - val_loss: 1.5201 - val_accuracy: 0.4014 - lr: 0.0010\n",
      "Epoch 3/100\n",
      "449/449 [==============================] - 115s 257ms/step - loss: 1.4543 - accuracy: 0.4380 - val_loss: 1.4721 - val_accuracy: 0.4230 - lr: 0.0010\n",
      "Epoch 4/100\n",
      "449/449 [==============================] - 122s 271ms/step - loss: 1.4056 - accuracy: 0.4600 - val_loss: 1.4200 - val_accuracy: 0.4537 - lr: 0.0010\n",
      "Epoch 5/100\n",
      "449/449 [==============================] - 107s 238ms/step - loss: 1.3564 - accuracy: 0.4797 - val_loss: 1.4573 - val_accuracy: 0.4413 - lr: 0.0010\n",
      "Epoch 6/100\n",
      "449/449 [==============================] - 103s 229ms/step - loss: 1.3191 - accuracy: 0.4933 - val_loss: 1.4179 - val_accuracy: 0.4578 - lr: 0.0010\n",
      "Epoch 7/100\n",
      "449/449 [==============================] - 112s 249ms/step - loss: 1.2889 - accuracy: 0.5065 - val_loss: 1.3723 - val_accuracy: 0.4712 - lr: 0.0010\n",
      "Epoch 8/100\n",
      "449/449 [==============================] - 105s 234ms/step - loss: 1.2531 - accuracy: 0.5196 - val_loss: 1.3454 - val_accuracy: 0.4904 - lr: 0.0010\n",
      "Epoch 9/100\n",
      "449/449 [==============================] - 109s 244ms/step - loss: 1.2363 - accuracy: 0.5293 - val_loss: 1.3425 - val_accuracy: 0.4947 - lr: 0.0010\n",
      "Epoch 10/100\n",
      "449/449 [==============================] - 110s 245ms/step - loss: 1.1973 - accuracy: 0.5464 - val_loss: 1.3688 - val_accuracy: 0.4777 - lr: 0.0010\n",
      "Epoch 11/100\n",
      "449/449 [==============================] - 112s 250ms/step - loss: 1.1699 - accuracy: 0.5561 - val_loss: 1.3042 - val_accuracy: 0.4992 - lr: 0.0010\n",
      "Epoch 12/100\n",
      "449/449 [==============================] - 107s 239ms/step - loss: 1.1569 - accuracy: 0.5618 - val_loss: 1.3267 - val_accuracy: 0.4964 - lr: 0.0010\n",
      "Epoch 13/100\n",
      "449/449 [==============================] - 112s 248ms/step - loss: 1.1303 - accuracy: 0.5731 - val_loss: 1.2600 - val_accuracy: 0.5212 - lr: 0.0010\n",
      "Epoch 14/100\n",
      "449/449 [==============================] - 106s 237ms/step - loss: 1.1108 - accuracy: 0.5798 - val_loss: 1.3869 - val_accuracy: 0.4760 - lr: 0.0010\n",
      "Epoch 15/100\n",
      "449/449 [==============================] - 111s 248ms/step - loss: 1.1013 - accuracy: 0.5848 - val_loss: 1.2927 - val_accuracy: 0.5095 - lr: 0.0010\n",
      "Epoch 16/100\n",
      "449/449 [==============================] - 105s 234ms/step - loss: 1.0838 - accuracy: 0.5923 - val_loss: 1.2447 - val_accuracy: 0.5249 - lr: 0.0010\n",
      "Epoch 17/100\n",
      "449/449 [==============================] - 107s 237ms/step - loss: 1.0694 - accuracy: 0.5974 - val_loss: 1.3398 - val_accuracy: 0.4915 - lr: 0.0010\n",
      "Epoch 18/100\n",
      "449/449 [==============================] - 107s 238ms/step - loss: 1.0526 - accuracy: 0.6037 - val_loss: 1.2863 - val_accuracy: 0.5142 - lr: 0.0010\n",
      "Epoch 19/100\n",
      "449/449 [==============================] - 107s 239ms/step - loss: 1.0419 - accuracy: 0.6068 - val_loss: 1.2591 - val_accuracy: 0.5244 - lr: 0.0010\n",
      "Epoch 20/100\n",
      "449/449 [==============================] - 107s 238ms/step - loss: 1.0299 - accuracy: 0.6137 - val_loss: 1.2815 - val_accuracy: 0.5206 - lr: 0.0010\n",
      "Epoch 21/100\n",
      "449/449 [==============================] - 104s 232ms/step - loss: 1.0143 - accuracy: 0.6210 - val_loss: 1.2949 - val_accuracy: 0.5191 - lr: 0.0010\n",
      "Epoch 22/100\n",
      "449/449 [==============================] - 112s 249ms/step - loss: 1.0040 - accuracy: 0.6244 - val_loss: 1.2765 - val_accuracy: 0.5311 - lr: 0.0010\n",
      "Epoch 23/100\n",
      "449/449 [==============================] - ETA: 0s - loss: 1.0086 - accuracy: 0.6213\n",
      "Epoch 00023: ReduceLROnPlateau reducing learning rate to 0.00010000000474974513.\n",
      "449/449 [==============================] - 103s 228ms/step - loss: 1.0086 - accuracy: 0.6213 - val_loss: 1.2930 - val_accuracy: 0.5157 - lr: 0.0010\n",
      "Epoch 24/100\n",
      "449/449 [==============================] - 105s 235ms/step - loss: 0.9336 - accuracy: 0.6530 - val_loss: 1.2418 - val_accuracy: 0.5352 - lr: 1.0000e-04\n",
      "Epoch 25/100\n",
      "449/449 [==============================] - 105s 234ms/step - loss: 0.9074 - accuracy: 0.6605 - val_loss: 1.2489 - val_accuracy: 0.5380 - lr: 1.0000e-04\n",
      "Epoch 26/100\n",
      "449/449 [==============================] - 107s 239ms/step - loss: 0.8887 - accuracy: 0.6732 - val_loss: 1.2635 - val_accuracy: 0.5368 - lr: 1.0000e-04\n",
      "Epoch 27/100\n",
      "449/449 [==============================] - 105s 233ms/step - loss: 0.8767 - accuracy: 0.6761 - val_loss: 1.2502 - val_accuracy: 0.5417 - lr: 1.0000e-04\n",
      "Epoch 28/100\n",
      "449/449 [==============================] - 111s 247ms/step - loss: 0.8737 - accuracy: 0.6763 - val_loss: 1.2490 - val_accuracy: 0.5426 - lr: 1.0000e-04\n",
      "Epoch 29/100\n",
      "449/449 [==============================] - 106s 236ms/step - loss: 0.8734 - accuracy: 0.6734 - val_loss: 1.2554 - val_accuracy: 0.5410 - lr: 1.0000e-04\n",
      "Epoch 30/100\n",
      "449/449 [==============================] - 109s 243ms/step - loss: 0.8593 - accuracy: 0.6804 - val_loss: 1.2498 - val_accuracy: 0.5425 - lr: 1.0000e-04\n",
      "Epoch 31/100\n",
      "449/449 [==============================] - ETA: 0s - loss: 0.8536 - accuracy: 0.6823\n",
      "Epoch 00031: ReduceLROnPlateau reducing learning rate to 1.0000000474974514e-05.\n",
      "449/449 [==============================] - 120s 267ms/step - loss: 0.8536 - accuracy: 0.6823 - val_loss: 1.2680 - val_accuracy: 0.5412 - lr: 1.0000e-04\n",
      "Epoch 32/100\n",
      "449/449 [==============================] - 111s 247ms/step - loss: 0.8411 - accuracy: 0.6900 - val_loss: 1.2568 - val_accuracy: 0.5422 - lr: 1.0000e-05\n",
      "Epoch 33/100\n",
      "449/449 [==============================] - 119s 264ms/step - loss: 0.8378 - accuracy: 0.6881 - val_loss: 1.2563 - val_accuracy: 0.5421 - lr: 1.0000e-05\n",
      "Epoch 34/100\n",
      "449/449 [==============================] - 107s 237ms/step - loss: 0.8437 - accuracy: 0.6864 - val_loss: 1.2591 - val_accuracy: 0.5433 - lr: 1.0000e-05\n"
     ]
    },
    {
     "data": {
      "text/plain": [
       "<tensorflow.python.keras.callbacks.History at 0x20acbaa4c08>"
      ]
     },
     "execution_count": 19,
     "metadata": {},
     "output_type": "execute_result"
    }
   ],
   "source": [
    "\n",
    "\n",
    "mc = ModelCheckpoint('.ln5_3.hdf5', save_best_only=True, monitor='val_loss', mode='min')\n",
    "cb =  [es,mc,rlr]\n",
    "\n",
    "model.fit(X_train, Y_train, validation_data=(X_test, Y_test), epochs=epochs, batch_size=64, callbacks = cb)"
   ]
  },
  {
   "cell_type": "code",
   "execution_count": 20,
   "metadata": {},
   "outputs": [
    {
     "name": "stdout",
     "output_type": "stream",
     "text": [
      "Confusion matrix\n",
      "[[ 763    1   10   57   81    7   39]\n",
      " [  79   22    0    6    3    1    0]\n",
      " [ 688    1   83   30  127   59   36]\n",
      " [ 459    0    5 1205   63   15   27]\n",
      " [ 765    0   11   63  332    6   70]\n",
      " [ 306    0   13   38   10  448   16]\n",
      " [ 685    1    3   79   96    6  363]]\n",
      "              precision    recall  f1-score   support\n",
      "\n",
      "      Enfado       0.20      0.80      0.32       958\n",
      "        Asco       0.88      0.20      0.32       111\n",
      "       Miedo       0.66      0.08      0.14      1024\n",
      "     Alegria       0.82      0.68      0.74      1774\n",
      "    Tristeza       0.47      0.27      0.34      1247\n",
      "    Sorpresa       0.83      0.54      0.65       831\n",
      "     Neutral       0.66      0.29      0.41      1233\n",
      "\n",
      "    accuracy                           0.45      7178\n",
      "   macro avg       0.64      0.41      0.42      7178\n",
      "weighted avg       0.63      0.45      0.46      7178\n",
      "\n"
     ]
    },
    {
     "data": {
      "image/png": "[encoded data removed]",
      "text/plain": [
       "<Figure size 360x360 with 2 Axes>"
      ]
     },
     "metadata": {
      "needs_background": "light"
     },
     "output_type": "display_data"
    }
   ],
   "source": [
    "model.load_weights('.ln5_3.hdf5')\n",
    "pred = np.array(model.predict(X_test))\n",
    "pred = np.around(pred)\n",
    "pred = pred.astype(int)\n",
    "Y_test = Y_test.astype(int)\n",
    "\n",
    "\n",
    "plot_confusion_matrix(Y_test.argmax(axis=1),pred.argmax(axis=1),label_map)\n",
    "print(cr(Y_test.argmax(axis=1),pred.argmax(axis=1),target_names = label_map))"
   ]
  },
  {
   "cell_type": "code",
   "execution_count": 22,
   "metadata": {},
   "outputs": [],
   "source": [
    "X_train, X_test, Y_train, Y_test= loadData(filename)\n",
    "X_train = X_train.reshape(N_train, 48, 48)"
   ]
  },
  {
   "cell_type": "code",
   "execution_count": 23,
   "metadata": {},
   "outputs": [],
   "source": [
    "def mirror(img):\n",
    "    copy = img.copy()\n",
    "    indx = range(copy.shape[1]-1, -1, -1)\n",
    "    copy = np.flip(copy, axis = 1)\n",
    "    return copy\n",
    "\n",
    "\n",
    "def random_erasing(img):\n",
    "    copy = img.copy()\n",
    "    numero_parches=(randint(1,3))\n",
    "    for i in range(numero_parches):\n",
    "        tam_h = randint(5,15)\n",
    "        tam_v = randint(5,15)   \n",
    "        start_h = randint(0,copy.shape[1]-tam_h)\n",
    "        start_v = randint(0,copy.shape[0]-tam_v) \n",
    "        for i in range(tam_v):\n",
    "            for j in range(tam_h):\n",
    "                copy[start_v+i, start_h+j] = 1\n",
    "    return copy\n",
    "\n",
    "\n",
    "def tras_x(img, tras):\n",
    "    order = []\n",
    "    for i in range(tras):\n",
    "        order = order + [0]\n",
    "    order = order + list(range(img.shape[1]- tras))\n",
    "    copy = img[:,order]\n",
    "    return copy\n",
    "\n",
    "\n",
    "def tras_y(img, tras):\n",
    "    order = []\n",
    "    for i in range(tras):\n",
    "        order = order + [0]\n",
    "    order = order + list(range(img.shape[0]- tras))\n",
    "    copy = img[order,:]\n",
    "    return copy"
   ]
  },
  {
   "cell_type": "code",
   "execution_count": 24,
   "metadata": {},
   "outputs": [],
   "source": [
    "nuevo = []\n",
    "etiquetas = []\n",
    "\n",
    "\n",
    "for i in range(N_train):\n",
    "    \n",
    "    if np.random.random() < 0.5:\n",
    "        n = mirror(X_train[i])\n",
    "        nuevo += [n]\n",
    "        etiquetas += [Y_train[i]]\n",
    "        \n",
    "    if np.random.random() < 0.5:\n",
    "        if np.random.random() < 0.5:\n",
    "            n = tras_x(X_train[i],randint(5,15))\n",
    "        else:\n",
    "            n = tras_y(X_train[i],randint(5,10))\n",
    "        nuevo += [n]\n",
    "        etiquetas += [Y_train[i]]\n",
    "        \n",
    "    if np.random.random() < 0.25:\n",
    "        n = random_erasing(X_train[i])\n",
    "        nuevo += [n]\n",
    "        etiquetas += [Y_train[i]]\n",
    "        \n",
    "\n",
    "    \n",
    "    \n",
    "if len(etiquetas) > 0: \n",
    "    nuevo = np.array(nuevo)\n",
    "    etiquetas =  np.array(etiquetas)\n",
    "    X_train= np.append(X_train,nuevo,axis=0)\n",
    "    Y_train = np.append(Y_train, etiquetas)"
   ]
  },
  {
   "cell_type": "code",
   "execution_count": 25,
   "metadata": {},
   "outputs": [],
   "source": [
    "N_train = X_train.shape[0]\n",
    "N_test = X_test.shape[0]\n",
    "X_train = X_train.reshape(N_train, 48, 48,1)\n",
    "X_test = X_test.reshape(N_test, 48, 48,1)\n",
    "Y_train = np_utils.to_categorical(Y_train)\n",
    "Y_test = np_utils.to_categorical(Y_test)\n",
    "class_num = Y_test.shape[1]"
   ]
  },
  {
   "cell_type": "code",
   "execution_count": 26,
   "metadata": {},
   "outputs": [
    {
     "name": "stdout",
     "output_type": "stream",
     "text": [
      "Model: \"sequential_3\"\n",
      "_________________________________________________________________\n",
      "Layer (type)                 Output Shape              Param #   \n",
      "=================================================================\n",
      "conv2d_6 (Conv2D)            (None, 44, 44, 6)         156       \n",
      "_________________________________________________________________\n",
      "dropout_4 (Dropout)          (None, 44, 44, 6)         0         \n",
      "_________________________________________________________________\n",
      "batch_normalization_4 (Batch (None, 44, 44, 6)         24        \n",
      "_________________________________________________________________\n",
      "max_pooling2d_2 (MaxPooling2 (None, 22, 22, 6)         0         \n",
      "_________________________________________________________________\n",
      "conv2d_7 (Conv2D)            (None, 18, 18, 16)        2416      \n",
      "_________________________________________________________________\n",
      "dropout_5 (Dropout)          (None, 18, 18, 16)        0         \n",
      "_________________________________________________________________\n",
      "batch_normalization_5 (Batch (None, 18, 18, 16)        64        \n",
      "_________________________________________________________________\n",
      "max_pooling2d_3 (MaxPooling2 (None, 9, 9, 16)          0         \n",
      "_________________________________________________________________\n",
      "flatten_3 (Flatten)          (None, 1296)              0         \n",
      "_________________________________________________________________\n",
      "dense_9 (Dense)              (None, 128)               166016    \n",
      "_________________________________________________________________\n",
      "dropout_6 (Dropout)          (None, 128)               0         \n",
      "_________________________________________________________________\n",
      "batch_normalization_6 (Batch (None, 128)               512       \n",
      "_________________________________________________________________\n",
      "dense_10 (Dense)             (None, 84)                10836     \n",
      "_________________________________________________________________\n",
      "dropout_7 (Dropout)          (None, 84)                0         \n",
      "_________________________________________________________________\n",
      "batch_normalization_7 (Batch (None, 84)                336       \n",
      "_________________________________________________________________\n",
      "dense_11 (Dense)             (None, 7)                 595       \n",
      "=================================================================\n",
      "Total params: 180,955\n",
      "Trainable params: 180,487\n",
      "Non-trainable params: 468\n",
      "_________________________________________________________________\n"
     ]
    }
   ],
   "source": [
    "model = Sequential()\n",
    "\n",
    "model.add(Conv2D(6,(5,5),input_shape=X_train.shape[1:],padding = 'valid', strides = 1, activation = 'relu'))\n",
    "model.add(Dropout(0.25))\n",
    "model.add(BatchNormalization())\n",
    "model.add(MaxPooling2D(pool_size=(2, 2)))\n",
    "model.add(Conv2D(16,(5,5),input_shape=X_train.shape[1:],padding = 'valid', strides = 1, activation = 'relu'))\n",
    "model.add(Dropout(0.25))\n",
    "model.add(BatchNormalization())\n",
    "model.add(MaxPooling2D(pool_size=(2, 2)))\n",
    "model.add(Flatten())\n",
    "model.add(Dense(128, activation='relu',kernel_constraint=maxnorm(3)))\n",
    "model.add(Dropout(0.25))\n",
    "model.add(BatchNormalization())\n",
    "model.add(Dense(84, activation='relu',kernel_constraint=maxnorm(3)))\n",
    "model.add(Dropout(0.25))\n",
    "model.add(BatchNormalization())\n",
    "model.add(Dense(class_num, activation='softmax',kernel_constraint=maxnorm(3)))\n",
    "model.summary()\n",
    "model.compile(loss='categorical_crossentropy', optimizer=optimizer, metrics=['accuracy'])"
   ]
  },
  {
   "cell_type": "code",
   "execution_count": 27,
   "metadata": {},
   "outputs": [
    {
     "name": "stdout",
     "output_type": "stream",
     "text": [
      "Epoch 1/100\n",
      "1009/1009 [==============================] - 265s 262ms/step - loss: 1.8153 - accuracy: 0.2935 - val_loss: 1.6227 - val_accuracy: 0.3678 - lr: 0.0010\n",
      "Epoch 2/100\n",
      "1009/1009 [==============================] - 247s 245ms/step - loss: 1.5850 - accuracy: 0.3749 - val_loss: 1.4861 - val_accuracy: 0.4246 - lr: 0.0010\n",
      "Epoch 3/100\n",
      "1009/1009 [==============================] - 245s 242ms/step - loss: 1.4993 - accuracy: 0.4158 - val_loss: 1.4723 - val_accuracy: 0.4351 - lr: 0.0010\n",
      "Epoch 4/100\n",
      "1009/1009 [==============================] - 242s 240ms/step - loss: 1.4332 - accuracy: 0.4444 - val_loss: 1.3295 - val_accuracy: 0.4883 - lr: 0.0010\n",
      "Epoch 5/100\n",
      "1009/1009 [==============================] - 239s 236ms/step - loss: 1.3832 - accuracy: 0.4682 - val_loss: 1.3008 - val_accuracy: 0.5007 - lr: 0.0010\n",
      "Epoch 6/100\n",
      "1009/1009 [==============================] - 239s 236ms/step - loss: 1.3422 - accuracy: 0.4849 - val_loss: 1.2571 - val_accuracy: 0.5137 - lr: 0.0010\n",
      "Epoch 7/100\n",
      "1009/1009 [==============================] - 241s 239ms/step - loss: 1.3166 - accuracy: 0.4973 - val_loss: 1.3269 - val_accuracy: 0.4912 - lr: 0.0010\n",
      "Epoch 8/100\n",
      "1009/1009 [==============================] - 250s 248ms/step - loss: 1.2906 - accuracy: 0.5074 - val_loss: 1.2332 - val_accuracy: 0.5276 - lr: 0.0010\n",
      "Epoch 9/100\n",
      "1009/1009 [==============================] - 249s 247ms/step - loss: 1.2672 - accuracy: 0.5173 - val_loss: 1.2943 - val_accuracy: 0.5118 - lr: 0.0010\n",
      "Epoch 10/100\n",
      "1009/1009 [==============================] - 249s 247ms/step - loss: 1.2558 - accuracy: 0.5206 - val_loss: 1.2542 - val_accuracy: 0.5184 - lr: 0.0010\n",
      "Epoch 11/100\n",
      "1009/1009 [==============================] - 249s 246ms/step - loss: 1.2376 - accuracy: 0.5299 - val_loss: 1.2184 - val_accuracy: 0.5323 - lr: 0.0010\n",
      "Epoch 12/100\n",
      "1009/1009 [==============================] - 247s 245ms/step - loss: 1.2197 - accuracy: 0.5380 - val_loss: 1.2967 - val_accuracy: 0.4980 - lr: 0.0010\n",
      "Epoch 13/100\n",
      "1009/1009 [==============================] - 256s 254ms/step - loss: 1.2168 - accuracy: 0.5404 - val_loss: 1.2332 - val_accuracy: 0.5323 - lr: 0.0010\n",
      "Epoch 14/100\n",
      "1009/1009 [==============================] - 240s 238ms/step - loss: 1.2080 - accuracy: 0.5409 - val_loss: 1.2040 - val_accuracy: 0.5430 - lr: 0.0010\n",
      "Epoch 15/100\n",
      "1009/1009 [==============================] - 240s 238ms/step - loss: 1.1993 - accuracy: 0.5456 - val_loss: 1.2883 - val_accuracy: 0.5056 - lr: 0.0010\n",
      "Epoch 16/100\n",
      "1009/1009 [==============================] - 245s 243ms/step - loss: 1.1925 - accuracy: 0.5478 - val_loss: 1.2194 - val_accuracy: 0.5408 - lr: 0.0010\n",
      "Epoch 17/100\n",
      "1009/1009 [==============================] - 240s 238ms/step - loss: 1.1842 - accuracy: 0.5520 - val_loss: 1.2017 - val_accuracy: 0.5442 - lr: 0.0010\n",
      "Epoch 18/100\n",
      "1009/1009 [==============================] - 241s 239ms/step - loss: 1.1767 - accuracy: 0.5561 - val_loss: 1.1915 - val_accuracy: 0.5517 - lr: 0.0010\n",
      "Epoch 19/100\n",
      "1009/1009 [==============================] - 236s 234ms/step - loss: 1.1673 - accuracy: 0.5576 - val_loss: 1.2674 - val_accuracy: 0.5294 - lr: 0.0010\n",
      "Epoch 20/100\n",
      "1009/1009 [==============================] - 244s 242ms/step - loss: 1.1566 - accuracy: 0.5644 - val_loss: 1.1965 - val_accuracy: 0.5483 - lr: 0.0010\n",
      "Epoch 21/100\n",
      "1009/1009 [==============================] - 239s 237ms/step - loss: 1.1554 - accuracy: 0.5629 - val_loss: 1.2846 - val_accuracy: 0.5125 - lr: 0.0010\n",
      "Epoch 22/100\n",
      "1009/1009 [==============================] - 239s 237ms/step - loss: 1.1534 - accuracy: 0.5642 - val_loss: 1.2445 - val_accuracy: 0.5318 - lr: 0.0010\n",
      "Epoch 23/100\n",
      "1009/1009 [==============================] - 237s 234ms/step - loss: 1.1444 - accuracy: 0.5682 - val_loss: 1.1989 - val_accuracy: 0.5474 - lr: 0.0010\n",
      "Epoch 24/100\n",
      "1009/1009 [==============================] - 244s 242ms/step - loss: 1.1433 - accuracy: 0.5681 - val_loss: 1.1754 - val_accuracy: 0.5571 - lr: 0.0010\n",
      "Epoch 25/100\n",
      "1009/1009 [==============================] - 244s 242ms/step - loss: 1.1428 - accuracy: 0.5684 - val_loss: 1.1869 - val_accuracy: 0.5511 - lr: 0.0010\n",
      "Epoch 26/100\n",
      "1009/1009 [==============================] - 354s 350ms/step - loss: 1.1371 - accuracy: 0.5733 - val_loss: 1.3791 - val_accuracy: 0.4826 - lr: 0.0010\n",
      "Epoch 27/100\n",
      "1009/1009 [==============================] - 416s 412ms/step - loss: 1.1313 - accuracy: 0.5740 - val_loss: 1.2385 - val_accuracy: 0.5316 - lr: 0.0010\n",
      "Epoch 28/100\n",
      "1009/1009 [==============================] - 254s 252ms/step - loss: 1.1317 - accuracy: 0.5715 - val_loss: 1.1853 - val_accuracy: 0.5507 - lr: 0.0010\n",
      "Epoch 29/100\n",
      "1009/1009 [==============================] - 222s 220ms/step - loss: 1.1237 - accuracy: 0.5763 - val_loss: 1.2183 - val_accuracy: 0.5327 - lr: 0.0010\n",
      "Epoch 30/100\n",
      "1009/1009 [==============================] - 259s 256ms/step - loss: 1.1111 - accuracy: 0.5820 - val_loss: 1.2099 - val_accuracy: 0.5410 - lr: 0.0010\n",
      "Epoch 31/100\n",
      "1009/1009 [==============================] - ETA: 0s - loss: 1.1161 - accuracy: 0.5799\n",
      "Epoch 00031: ReduceLROnPlateau reducing learning rate to 0.00010000000474974513.\n",
      "1009/1009 [==============================] - 444s 440ms/step - loss: 1.1161 - accuracy: 0.5799 - val_loss: 1.1970 - val_accuracy: 0.5465 - lr: 0.0010\n",
      "Epoch 32/100\n",
      "1009/1009 [==============================] - 240s 237ms/step - loss: 1.0519 - accuracy: 0.6039 - val_loss: 1.1550 - val_accuracy: 0.5599 - lr: 1.0000e-04\n",
      "Epoch 33/100\n",
      "1009/1009 [==============================] - 241s 239ms/step - loss: 1.0281 - accuracy: 0.6140 - val_loss: 1.1586 - val_accuracy: 0.5639 - lr: 1.0000e-04\n",
      "Epoch 34/100\n",
      "1009/1009 [==============================] - 242s 239ms/step - loss: 1.0165 - accuracy: 0.6198 - val_loss: 1.1479 - val_accuracy: 0.5715 - lr: 1.0000e-04\n",
      "Epoch 35/100\n",
      "1009/1009 [==============================] - 242s 239ms/step - loss: 1.0053 - accuracy: 0.6245 - val_loss: 1.1474 - val_accuracy: 0.5736 - lr: 1.0000e-04\n",
      "Epoch 36/100\n",
      "1009/1009 [==============================] - 240s 238ms/step - loss: 0.9992 - accuracy: 0.6265 - val_loss: 1.1571 - val_accuracy: 0.5669 - lr: 1.0000e-04\n",
      "Epoch 37/100\n",
      "1009/1009 [==============================] - 248s 246ms/step - loss: 0.9912 - accuracy: 0.6296 - val_loss: 1.1471 - val_accuracy: 0.5768 - lr: 1.0000e-04\n",
      "Epoch 38/100\n",
      "1009/1009 [==============================] - 449s 445ms/step - loss: 0.9787 - accuracy: 0.6347 - val_loss: 1.1537 - val_accuracy: 0.5745 - lr: 1.0000e-04\n",
      "Epoch 39/100\n",
      "1009/1009 [==============================] - 388s 385ms/step - loss: 0.9809 - accuracy: 0.6327 - val_loss: 1.1509 - val_accuracy: 0.5811 - lr: 1.0000e-04\n",
      "Epoch 40/100\n",
      "1009/1009 [==============================] - 272s 270ms/step - loss: 0.9735 - accuracy: 0.6374 - val_loss: 1.1491 - val_accuracy: 0.5772 - lr: 1.0000e-04\n",
      "Epoch 41/100\n",
      "1009/1009 [==============================] - 245s 243ms/step - loss: 0.9698 - accuracy: 0.6370 - val_loss: 1.1572 - val_accuracy: 0.5736 - lr: 1.0000e-04\n",
      "Epoch 42/100\n",
      "1009/1009 [==============================] - 242s 240ms/step - loss: 0.9661 - accuracy: 0.6405 - val_loss: 1.1542 - val_accuracy: 0.5787 - lr: 1.0000e-04\n",
      "Epoch 43/100\n",
      "1009/1009 [==============================] - 218s 216ms/step - loss: 0.9614 - accuracy: 0.6418 - val_loss: 1.1544 - val_accuracy: 0.5758 - lr: 1.0000e-04\n",
      "Epoch 44/100\n",
      "1009/1009 [==============================] - ETA: 0s - loss: 0.9589 - accuracy: 0.6410\n",
      "Epoch 00044: ReduceLROnPlateau reducing learning rate to 1.0000000474974514e-05.\n",
      "1009/1009 [==============================] - 247s 244ms/step - loss: 0.9589 - accuracy: 0.6410 - val_loss: 1.1547 - val_accuracy: 0.5775 - lr: 1.0000e-04\n",
      "Epoch 45/100\n",
      "1009/1009 [==============================] - 263s 261ms/step - loss: 0.9492 - accuracy: 0.6459 - val_loss: 1.1524 - val_accuracy: 0.5758 - lr: 1.0000e-05\n",
      "Epoch 46/100\n",
      "1009/1009 [==============================] - 246s 244ms/step - loss: 0.9502 - accuracy: 0.6451 - val_loss: 1.1529 - val_accuracy: 0.5750 - lr: 1.0000e-05\n",
      "Epoch 47/100\n",
      "1009/1009 [==============================] - 247s 245ms/step - loss: 0.9503 - accuracy: 0.6459 - val_loss: 1.1513 - val_accuracy: 0.5769 - lr: 1.0000e-05\n"
     ]
    },
    {
     "data": {
      "text/plain": [
       "<tensorflow.python.keras.callbacks.History at 0x20acc62ef48>"
      ]
     },
     "execution_count": 27,
     "metadata": {},
     "output_type": "execute_result"
    }
   ],
   "source": [
    "mc = ModelCheckpoint('.ln5_dau.hdf5', save_best_only=True, monitor='val_loss', mode='min')\n",
    "\n",
    "cb =  [es,mc,rlr]\n",
    "model.fit(X_train, Y_train, validation_data=(X_test, Y_test), epochs=epochs, batch_size=64, callbacks = cb)"
   ]
  },
  {
   "cell_type": "code",
   "execution_count": 28,
   "metadata": {},
   "outputs": [
    {
     "name": "stdout",
     "output_type": "stream",
     "text": [
      "Confusion matrix\n",
      "[[ 780    3   11   57   49   11   47]\n",
      " [  73   22    0    5    5    1    5]\n",
      " [ 635    2  123   41   97   71   55]\n",
      " [ 339    0    4 1334   25   23   49]\n",
      " [ 779    1   21   59  275    6  106]\n",
      " [ 230    0   23   44    9  509   16]\n",
      " [ 594    0    6   78   40    3  512]]\n",
      "              precision    recall  f1-score   support\n",
      "\n",
      "      Enfado       0.23      0.81      0.36       958\n",
      "        Asco       0.79      0.20      0.32       111\n",
      "       Miedo       0.65      0.12      0.20      1024\n",
      "     Alegria       0.82      0.75      0.79      1774\n",
      "    Tristeza       0.55      0.22      0.31      1247\n",
      "    Sorpresa       0.82      0.61      0.70       831\n",
      "     Neutral       0.65      0.42      0.51      1233\n",
      "\n",
      "    accuracy                           0.50      7178\n",
      "   macro avg       0.64      0.45      0.45      7178\n",
      "weighted avg       0.64      0.50      0.50      7178\n",
      "\n"
     ]
    },
    {
     "data": {
      "image/png": "[encoded data removed]",
      "text/plain": [
       "<Figure size 360x360 with 2 Axes>"
      ]
     },
     "metadata": {
      "needs_background": "light"
     },
     "output_type": "display_data"
    }
   ],
   "source": [
    "model.load_weights('.ln5_dau.hdf5')\n",
    "pred = np.array(model.predict(X_test))\n",
    "pred = np.around(pred)\n",
    "pred = pred.astype(int)\n",
    "Y_test = Y_test.astype(int)\n",
    "\n",
    "\n",
    "\n",
    "plot_confusion_matrix(Y_test.argmax(axis=1),pred.argmax(axis=1),label_map)\n",
    "print(cr(Y_test.argmax(axis=1),pred.argmax(axis=1),target_names = label_map))"
   ]
  },
  {
   "cell_type": "code",
   "execution_count": null,
   "metadata": {},
   "outputs": [],
   "source": []
  }
 ],
 "metadata": {
  "kernelspec": {
   "display_name": "Python 3",
   "language": "python",
   "name": "python3"
  },
  "language_info": {
   "codemirror_mode": {
    "name": "ipython",
    "version": 3
   },
   "file_extension": ".py",
   "mimetype": "text/x-python",
   "name": "python",
   "nbconvert_exporter": "python",
   "pygments_lexer": "ipython3",
   "version": "3.7.6"
  }
 },
 "nbformat": 4,
 "nbformat_minor": 2
}
